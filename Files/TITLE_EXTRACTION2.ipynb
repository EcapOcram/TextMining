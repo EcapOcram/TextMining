{
  "cells": [
    {
      "cell_type": "code",
      "execution_count": 1,
      "metadata": {
        "id": "8kfr1x7GVeGk"
      },
      "outputs": [],
      "source": [
        "import urllib.request\n",
        "import bs4 as bs\n",
        "import time\n",
        "import datetime\n",
        "\n",
        "import pandas as pd\n",
        "import numpy as np\n",
        "import yfinance as yf"
      ]
    },
    {
      "cell_type": "code",
      "execution_count": 2,
      "metadata": {
        "id": "GTSgY3eJVoLa"
      },
      "outputs": [],
      "source": [
        "t_df = pd.read_html(\n",
        "    'https://en.wikipedia.org/wiki/List_of_S%26P_500_companies')[0]\n",
        "\n",
        "num_tickers = 500\n",
        "\n",
        "tickers = list(t_df[\"Symbol\"][0:num_tickers])\n",
        "\n",
        "#tickers = [\"TSLA\",  \"EBAY\", \"META\" ]   # for test\n",
        "#print(tickers)"
      ]
    },
    {
      "cell_type": "code",
      "execution_count": null,
      "metadata": {
        "colab": {
          "base_uri": "https://localhost:8080/"
        },
        "id": "WQOSn87BV53F",
        "outputId": "8497014a-f828-4f41-fde4-f26930edf180"
      },
      "outputs": [],
      "source": [
        "#STOCK\n",
        "\n",
        "sleep_time  = 5\n",
        "\n",
        "def extract_dates(parsed_doc):\n",
        "    from math import floor\n",
        "    today = datetime.datetime.now().date()\n",
        "    dates = parsed_doc.find_all('pubdate')\n",
        "    list_date = []\n",
        "    for date  in dates:\n",
        "        d = datetime.datetime.strptime( date.text, \"%a, %d %b %Y %H:%M:%S GMT\" )\n",
        "        list_date += [floor((today - d.date()).days / 1)]                          #.days\n",
        "    return list_date\n",
        "\n",
        "\n",
        "def get_titles(ticker, sleep_time):\n",
        "    '''\n",
        "    This function return the url response from google news and parsed html for a stock ticker.\n",
        "    The time parameter is the sleep time before each request\n",
        "    '''\n",
        "    url = 'https://news.google.com/rss/search?hl=en-US&q='+ticker+'%20stock&gl=US&ceid=US:en'\n",
        "\n",
        "    time.sleep(sleep_time) ## wait 15 seconds between each request. This is SUPER IMPORTANT otherwise your IP-address will be banned for sending too frequent requests.\n",
        "\n",
        "    doc = urllib.request.urlopen(url).read()\n",
        "    parsed_doc = bs.BeautifulSoup(doc,'lxml')\n",
        "    titles = parsed_doc.find_all('title')[1:]\n",
        "    list_date = extract_dates(parsed_doc)                 # we  assume/have verified that the date are extracted in the same order as the titles\n",
        "    dct = {\"Ticker\": [ ticker ]*len(titles) , \"Titles\" : titles, \"Date\" : list_date}\n",
        "    title_df = pd.DataFrame(dct)\n",
        "    title_df = title_df.sort_values(by=\"Date\")\n",
        "    title_df = title_df[title_df[\"Date\"]==0]\n",
        "    return title_df\n",
        "\n",
        "list_df = []                        #dictionary with input data\n",
        "for ticker in tickers:\n",
        "    title = get_titles(ticker, sleep_time)\n",
        "    list_df.append(title)\n",
        "    print(title)\n",
        "\n",
        "#input_df = pd.DataFrame(dct.values(),index = tickers,columns=[\"Titles\"])"
      ]
    },
    {
      "cell_type": "code",
      "execution_count": 4,
      "metadata": {
        "colab": {
          "base_uri": "https://localhost:8080/"
        },
        "id": "4AdKm3iKhpPe",
        "outputId": "6f54479b-29f0-4fd0-924d-cfe0b634665c"
      },
      "outputs": [
        {
          "name": "stdout",
          "output_type": "stream",
          "text": [
            "   Ticker                                             Titles  Date\n",
            "0     MMM  [3M Stock: A Deep Dive Into Analyst Perspectiv...     0\n",
            "2     MMM  [Advisory Services Network LLC Sells 7897 Shar...     0\n",
            "8     MMM  [Barclays Boosts 3M (NYSE:MMM) Price Target to...     0\n",
            "0     AOS  [Why A.O. Smith (AOS) is a Top Momentum Stock ...     0\n",
            "1     AOS  [A. O. Smith Co. (NYSE:AOS) Holdings Trimmed b...     0\n",
            "..    ...                                                ...   ...\n",
            "0     XYL  [D.A. Davidson & CO. Increases Stock Position ...     0\n",
            "0     YUM  [TD Cowen reaffirms Yum! Brands stock buy rati...     0\n",
            "1     YUM  [TD Cowen Reiterates Buy Rating for Yum! Brand...     0\n",
            "2     YUM  [(YUM) Proactive Strategies - Stock Traders Da...     0\n",
            "10    YUM  [Commerce Bank Has $2.67 Million Stock Positio...     0\n",
            "\n",
            "[1530 rows x 3 columns]\n"
          ]
        }
      ],
      "source": [
        "input_df = pd.concat(list_df)\n",
        "input_df.shape\n",
        "print(input_df)"
      ]
    },
    {
      "cell_type": "code",
      "execution_count": 5,
      "metadata": {
        "colab": {
          "base_uri": "https://localhost:8080/"
        },
        "id": "a6MQtGdWeMnr",
        "outputId": "04bd06aa-33a7-4785-f4f4-77d087e2eeea"
      },
      "outputs": [
        {
          "name": "stderr",
          "output_type": "stream",
          "text": [
            "BF.B: No price data found, symbol may be delisted (period=1mo)\n"
          ]
        },
        {
          "name": "stdout",
          "output_type": "stream",
          "text": [
            "Insufficient data for BF.B\n",
            "   Ticker                                             Titles  Date   Var_prc  \\\n",
            "0     MMM  [3M Stock: A Deep Dive Into Analyst Perspectiv...     0 -0.009933   \n",
            "2     MMM  [Advisory Services Network LLC Sells 7897 Shar...     0 -0.009933   \n",
            "8     MMM  [Barclays Boosts 3M (NYSE:MMM) Price Target to...     0 -0.009933   \n",
            "0     AOS  [Why A.O. Smith (AOS) is a Top Momentum Stock ...     0 -0.026421   \n",
            "1     AOS  [A. O. Smith Co. (NYSE:AOS) Holdings Trimmed b...     0 -0.026421   \n",
            "..    ...                                                ...   ...       ...   \n",
            "0     XYL  [D.A. Davidson & CO. Increases Stock Position ...     0 -0.026967   \n",
            "0     YUM  [TD Cowen reaffirms Yum! Brands stock buy rati...     0 -0.013004   \n",
            "1     YUM  [TD Cowen Reiterates Buy Rating for Yum! Brand...     0 -0.013004   \n",
            "2     YUM  [(YUM) Proactive Strategies - Stock Traders Da...     0 -0.013004   \n",
            "10    YUM  [Commerce Bank Has $2.67 Million Stock Positio...     0 -0.013004   \n",
            "\n",
            "    Target  \n",
            "0      0.0  \n",
            "2      0.0  \n",
            "8      0.0  \n",
            "0     -1.0  \n",
            "1     -1.0  \n",
            "..     ...  \n",
            "0     -1.0  \n",
            "0     -1.0  \n",
            "1     -1.0  \n",
            "2     -1.0  \n",
            "10    -1.0  \n",
            "\n",
            "[1530 rows x 5 columns]\n"
          ]
        }
      ],
      "source": [
        "sleep_time = 5\n",
        "threshold = 0.01\n",
        "\n",
        "def get_var_prc(ticker, sleep_time):\n",
        "    tickerData = yf.Ticker(ticker)\n",
        "    time.sleep(sleep_time)  # Wait between requests\n",
        "    df = tickerData.history()\n",
        "    if len(df) < 2:\n",
        "        print(f\"Insufficient data for {ticker}\")\n",
        "        return None\n",
        "    df['Change'] = df['Close'].diff()\n",
        "    return df[\"Change\"].iloc[-1] / df[\"Close\"].iloc[-2]  # Use iloc for integer indexing\n",
        "\n",
        "def get_target(x):\n",
        "    if x < -threshold:\n",
        "        return -1\n",
        "    elif abs(x) < threshold:\n",
        "        return 0\n",
        "    else:\n",
        "        return 1\n",
        "\n",
        "\n",
        "\n",
        "# Add a new column 'Var_prc' and assign values to it\n",
        "for ticker in input_df['Ticker']:\n",
        "    var_prc = get_var_prc(ticker, sleep_time)\n",
        "    if var_prc is not None:  # Check if data is available\n",
        "        input_df.loc[input_df[\"Ticker\"] == ticker, 'Var_prc'] = var_prc\n",
        "        input_df.loc[input_df[\"Ticker\"] == ticker, 'Target'] = input_df[input_df[\"Ticker\"] == ticker]['Var_prc'].apply(get_target)\n",
        "print(input_df)"
      ]
    },
    {
      "cell_type": "code",
      "execution_count": 6,
      "metadata": {
        "id": "sKTH9TKrqnQm"
      },
      "outputs": [],
      "source": [
        "input_df.to_csv(\"data_2805_comma.csv\")\n",
        "input_df.to_csv(\"data_2805_semicolon.csv\",sep=\";\")\n"
      ]
    },
    {
      "cell_type": "code",
      "execution_count": 7,
      "metadata": {
        "colab": {
          "base_uri": "https://localhost:8080/",
          "height": 17
        },
        "id": "1vDcyk1Yq1Qm",
        "outputId": "74258154-9ed1-4903-89b2-98c485aa9cb3"
      },
      "outputs": [],
      "source": [
        "#from google.colab import files\n",
        "#files.download(\"data_2705.csv\")\n"
      ]
    }
  ],
  "metadata": {
    "colab": {
      "provenance": []
    },
    "kernelspec": {
      "display_name": "Python 3",
      "name": "python3"
    },
    "language_info": {
      "codemirror_mode": {
        "name": "ipython",
        "version": 3
      },
      "file_extension": ".py",
      "mimetype": "text/x-python",
      "name": "python",
      "nbconvert_exporter": "python",
      "pygments_lexer": "ipython3",
      "version": "3.11.6"
    }
  },
  "nbformat": 4,
  "nbformat_minor": 0
}
