{
  "cells": [
    {
      "cell_type": "code",
      "execution_count": 1,
      "metadata": {
        "id": "8kfr1x7GVeGk"
      },
      "outputs": [],
      "source": [
        "import urllib.request\n",
        "import bs4 as bs\n",
        "import time\n",
        "import datetime\n",
        "\n",
        "import pandas as pd\n",
        "import numpy as np\n",
        "import yfinance as yf"
      ]
    },
    {
      "cell_type": "code",
      "execution_count": 2,
      "metadata": {
        "id": "GTSgY3eJVoLa"
      },
      "outputs": [],
      "source": [
        "t_df = pd.read_html(\n",
        "    'https://en.wikipedia.org/wiki/List_of_S%26P_500_companies')[0]\n",
        "\n",
        "num_tickers = 500\n",
        "\n",
        "tickers = list(t_df[\"Symbol\"][0:num_tickers])\n",
        "\n",
        "#tickers = [\"TSLA\",  \"EBAY\", \"META\" ]   # for test\n",
        "#print(tickers)"
      ]
    },
    {
      "cell_type": "code",
      "execution_count": null,
      "metadata": {
        "colab": {
          "base_uri": "https://localhost:8080/"
        },
        "id": "WQOSn87BV53F",
        "outputId": "8497014a-f828-4f41-fde4-f26930edf180"
      },
      "outputs": [
        {
          "name": "stderr",
          "output_type": "stream",
          "text": [
            "<ipython-input-3-35737c005e65>:26: XMLParsedAsHTMLWarning: It looks like you're parsing an XML document using an HTML parser. If this really is an HTML document (maybe it's XHTML?), you can ignore or filter this warning. If it's XML, you should know that using an XML parser will be more reliable. To parse this document as XML, make sure you have the lxml package installed, and pass the keyword argument `features=\"xml\"` into the BeautifulSoup constructor.\n",
            "  parsed_doc = bs.BeautifulSoup(doc,'lxml')\n"
          ]
        },
        {
          "name": "stdout",
          "output_type": "stream",
          "text": [
            "  Ticker                                             Titles  Date\n",
            "0    MMM  [3M Stock: A Deep Dive Into Analyst Perspectiv...     0\n",
            "2    MMM  [Advisory Services Network LLC Sells 7897 Shar...     0\n",
            "9    MMM  [Barclays Boosts 3M (NYSE:MMM) Price Target to...     0\n"
          ]
        },
        {
          "name": "stderr",
          "output_type": "stream",
          "text": [
            "<ipython-input-3-35737c005e65>:26: XMLParsedAsHTMLWarning: It looks like you're parsing an XML document using an HTML parser. If this really is an HTML document (maybe it's XHTML?), you can ignore or filter this warning. If it's XML, you should know that using an XML parser will be more reliable. To parse this document as XML, make sure you have the lxml package installed, and pass the keyword argument `features=\"xml\"` into the BeautifulSoup constructor.\n",
            "  parsed_doc = bs.BeautifulSoup(doc,'lxml')\n"
          ]
        },
        {
          "name": "stdout",
          "output_type": "stream",
          "text": [
            "   Ticker                                             Titles  Date\n",
            "0     AOS  [Why A.O. Smith (AOS) is a Top Momentum Stock ...     0\n",
            "1     AOS  [A. O. Smith Co. (NYSE:AOS) Holdings Trimmed b...     0\n",
            "2     AOS  [Trading (AOS) With Integrated Risk Controls -...     0\n",
            "6     AOS  [A.O. Smith (AOS) Q1 Earnings: Taking a Look a...     0\n",
            "91    AOS  [How to interpret A.O. Smith Corp. (AOS)'s sto...     0\n"
          ]
        },
        {
          "name": "stderr",
          "output_type": "stream",
          "text": [
            "<ipython-input-3-35737c005e65>:26: XMLParsedAsHTMLWarning: It looks like you're parsing an XML document using an HTML parser. If this really is an HTML document (maybe it's XHTML?), you can ignore or filter this warning. If it's XML, you should know that using an XML parser will be more reliable. To parse this document as XML, make sure you have the lxml package installed, and pass the keyword argument `features=\"xml\"` into the BeautifulSoup constructor.\n",
            "  parsed_doc = bs.BeautifulSoup(doc,'lxml')\n"
          ]
        },
        {
          "name": "stdout",
          "output_type": "stream",
          "text": [
            "  Ticker                                             Titles  Date\n",
            "1    ABT  [Absolute Software Co. (ABT.TO) (TSE:ABT) Stoc...     0\n",
            "2    ABT       [(ABT) Technical Data - Stock Traders Daily]     0\n"
          ]
        },
        {
          "name": "stderr",
          "output_type": "stream",
          "text": [
            "<ipython-input-3-35737c005e65>:26: XMLParsedAsHTMLWarning: It looks like you're parsing an XML document using an HTML parser. If this really is an HTML document (maybe it's XHTML?), you can ignore or filter this warning. If it's XML, you should know that using an XML parser will be more reliable. To parse this document as XML, make sure you have the lxml package installed, and pass the keyword argument `features=\"xml\"` into the BeautifulSoup constructor.\n",
            "  parsed_doc = bs.BeautifulSoup(doc,'lxml')\n"
          ]
        },
        {
          "name": "stdout",
          "output_type": "stream",
          "text": [
            "Empty DataFrame\n",
            "Columns: [Ticker, Titles, Date]\n",
            "Index: []\n",
            "  Ticker                                             Titles  Date\n",
            "0    ACN  [TrinityPoint Wealth LLC Acquires 125 Shares o...     0\n"
          ]
        },
        {
          "name": "stderr",
          "output_type": "stream",
          "text": [
            "<ipython-input-3-35737c005e65>:26: XMLParsedAsHTMLWarning: It looks like you're parsing an XML document using an HTML parser. If this really is an HTML document (maybe it's XHTML?), you can ignore or filter this warning. If it's XML, you should know that using an XML parser will be more reliable. To parse this document as XML, make sure you have the lxml package installed, and pass the keyword argument `features=\"xml\"` into the BeautifulSoup constructor.\n",
            "  parsed_doc = bs.BeautifulSoup(doc,'lxml')\n"
          ]
        },
        {
          "name": "stdout",
          "output_type": "stream",
          "text": [
            "   Ticker                                             Titles  Date\n",
            "0    ADBE  [Investors Heavily Search Adobe Inc. (ADBE): H...     0\n",
            "1    ADBE  [Application Software is a major concern to wi...     0\n",
            "2    ADBE        [How To Trade (ADBE) - Stock Traders Daily]     0\n",
            "3    ADBE  [Adobe (NASDAQ:ADBE) Lowered to “Hold” at Stoc...     0\n",
            "5    ADBE  [Pine Valley Investments Ltd Liability Co Acqu...     0\n",
            "6    ADBE  [Notable ETF Outflow Detected - TECL, ACN, ADB...     0\n",
            "13   ADBE  [Adobe (NASDAQ:ADBE) Lowered to \"Hold\" at Stoc...     0\n"
          ]
        },
        {
          "name": "stderr",
          "output_type": "stream",
          "text": [
            "<ipython-input-3-35737c005e65>:26: XMLParsedAsHTMLWarning: It looks like you're parsing an XML document using an HTML parser. If this really is an HTML document (maybe it's XHTML?), you can ignore or filter this warning. If it's XML, you should know that using an XML parser will be more reliable. To parse this document as XML, make sure you have the lxml package installed, and pass the keyword argument `features=\"xml\"` into the BeautifulSoup constructor.\n",
            "  parsed_doc = bs.BeautifulSoup(doc,'lxml')\n"
          ]
        },
        {
          "name": "stdout",
          "output_type": "stream",
          "text": [
            "   Ticker                                             Titles  Date\n",
            "11    AMD  [Stocks to Watch Today: Nvidia, AMD, Norwegian...     0\n",
            "20    AMD  [The 2025 Millionaire's Club: 3 Tech Stocks to...     0\n",
            "19    AMD  [3 Semiconductor Stocks to Buy on the Dip: May...     0\n",
            "15    AMD  [Is Advanced Micro Devices A High Growth Semic...     0\n",
            "14    AMD  [3 AI Stocks That Can Outperform Nvidia in the...     0\n",
            "12    AMD  [Advanced Micro Devices, Inc. (NASDAQ:AMD) Sha...     0\n",
            "28    AMD  [AMD stock price forecast: overvalued but with...     0\n",
            "26    AMD         [How To Trade (AMD) - Stock Traders Daily]     0\n",
            "6     AMD  [Advanced Micro Devices, Inc. (AMD) Is a Trend...     0\n",
            "5     AMD  [AMD Grabs 33% of Server CPU Market and Prepar...     0\n",
            "4     AMD  [Prediction: This Will Be the Next Semiconduct...     0\n",
            "3     AMD  ['Time to Make a Move,' Says Top Investor Abou...     0\n",
            "2     AMD  [Apple, AMD, Super Micro Computer, Qualcomm, a...     0\n",
            "1     AMD  [Should You Buy AMD Stock Instead of Nvidia St...     0\n"
          ]
        },
        {
          "name": "stderr",
          "output_type": "stream",
          "text": [
            "<ipython-input-3-35737c005e65>:26: XMLParsedAsHTMLWarning: It looks like you're parsing an XML document using an HTML parser. If this really is an HTML document (maybe it's XHTML?), you can ignore or filter this warning. If it's XML, you should know that using an XML parser will be more reliable. To parse this document as XML, make sure you have the lxml package installed, and pass the keyword argument `features=\"xml\"` into the BeautifulSoup constructor.\n",
            "  parsed_doc = bs.BeautifulSoup(doc,'lxml')\n"
          ]
        },
        {
          "name": "stdout",
          "output_type": "stream",
          "text": [
            "  Ticker                                             Titles  Date\n",
            "0    AES  [Assetmark Inc. Increases Stock Position in Th...     0\n"
          ]
        },
        {
          "name": "stderr",
          "output_type": "stream",
          "text": [
            "<ipython-input-3-35737c005e65>:26: XMLParsedAsHTMLWarning: It looks like you're parsing an XML document using an HTML parser. If this really is an HTML document (maybe it's XHTML?), you can ignore or filter this warning. If it's XML, you should know that using an XML parser will be more reliable. To parse this document as XML, make sure you have the lxml package installed, and pass the keyword argument `features=\"xml\"` into the BeautifulSoup constructor.\n",
            "  parsed_doc = bs.BeautifulSoup(doc,'lxml')\n"
          ]
        },
        {
          "name": "stdout",
          "output_type": "stream",
          "text": [
            "  Ticker                                             Titles  Date\n",
            "0    AFL  [Aflac Incorporated (NYSE:AFL) Shares Sold by ...     0\n",
            "1    AFL  [How the (AFL) price action is used to our Adv...     0\n",
            "3    AFL  [Cambridge Investment Research Advisors Inc. G...     0\n"
          ]
        },
        {
          "name": "stderr",
          "output_type": "stream",
          "text": [
            "<ipython-input-3-35737c005e65>:26: XMLParsedAsHTMLWarning: It looks like you're parsing an XML document using an HTML parser. If this really is an HTML document (maybe it's XHTML?), you can ignore or filter this warning. If it's XML, you should know that using an XML parser will be more reliable. To parse this document as XML, make sure you have the lxml package installed, and pass the keyword argument `features=\"xml\"` into the BeautifulSoup constructor.\n",
            "  parsed_doc = bs.BeautifulSoup(doc,'lxml')\n"
          ]
        },
        {
          "name": "stdout",
          "output_type": "stream",
          "text": [
            "   Ticker                                             Titles  Date\n",
            "0       A  [Alibaba: A Stock Buyback King In The Making (...     0\n",
            "53      A  [Lucky Harvest Co., Ltd. (SZSE:002965) Stock H...     0\n",
            "43      A  [Is ASML Holding N.V.'s (AMS:ASML) Stock's Rec...     0\n",
            "41      A  [Deutsche Bank Aktiengesellschaft (FRA:DBK) St...     0\n",
            "39      A  [SuperGroupies is set to deliver hot new Hades...     0\n",
            "32      A  [We Ran A Stock Scan For Earnings Growth And 3...     0\n",
            "30      A  [Executive Chairman of Integra LifeSciences Ho...     0\n",
            "29      A  [How To Earn $500 A Month From Heico Stock Ahe...     0\n",
            "23      A  [Here is What to Know Beyond Why Novavax, Inc....     0\n",
            "20      A  [Is Trending Stock Toll Brothers Inc. (TOL) a ...     0\n",
            "19      A  [Celsius Holdings Stock Is Tumbling Tuesday: W...     0\n",
            "18      A  [Why Qualcomm (QCOM) is a Top Momentum Stock f...     0\n",
            "15      A  [Meme stock GameStop jumps after raising $933 ...     0\n",
            "51      A  [The 2 Stocks Every Dividend Investor Should O...     0\n",
            "12      A  [Pineapple Energy Stock Soars: What's Going On...     0\n",
            "11      A  [Which ‘Magnificent 7’ Stock Should Split Its ...     0\n",
            "10      A  [Should You Invest in Nvidia After Its Stock S...     0\n",
            "13      A  [3 Little-Known Stocks Poised to Dominate the ...     0\n"
          ]
        },
        {
          "name": "stderr",
          "output_type": "stream",
          "text": [
            "<ipython-input-3-35737c005e65>:26: XMLParsedAsHTMLWarning: It looks like you're parsing an XML document using an HTML parser. If this really is an HTML document (maybe it's XHTML?), you can ignore or filter this warning. If it's XML, you should know that using an XML parser will be more reliable. To parse this document as XML, make sure you have the lxml package installed, and pass the keyword argument `features=\"xml\"` into the BeautifulSoup constructor.\n",
            "  parsed_doc = bs.BeautifulSoup(doc,'lxml')\n"
          ]
        },
        {
          "name": "stdout",
          "output_type": "stream",
          "text": [
            "  Ticker                                             Titles  Date\n",
            "0    APD  [Air Products and Chemicals, Inc. (NYSE:APD) S...     0\n",
            "1    APD  [Here's Why You Should Hold Onto Air Products ...     0\n",
            "2    APD  [Learn to Evaluate (APD) using the Charts - St...     0\n",
            "6    APD  [Air Products and Chemicals (NYSE:APD) Upgrade...     0\n"
          ]
        },
        {
          "name": "stderr",
          "output_type": "stream",
          "text": [
            "<ipython-input-3-35737c005e65>:26: XMLParsedAsHTMLWarning: It looks like you're parsing an XML document using an HTML parser. If this really is an HTML document (maybe it's XHTML?), you can ignore or filter this warning. If it's XML, you should know that using an XML parser will be more reliable. To parse this document as XML, make sure you have the lxml package installed, and pass the keyword argument `features=\"xml\"` into the BeautifulSoup constructor.\n",
            "  parsed_doc = bs.BeautifulSoup(doc,'lxml')\n"
          ]
        },
        {
          "name": "stdout",
          "output_type": "stream",
          "text": [
            "  Ticker                                             Titles  Date\n",
            "0   ABNB  [Airbnb Stock: Analysts Turns Bullish Followin...     0\n",
            "1   ABNB  [Stocks making the biggest moves premarket: GM...     0\n",
            "2   ABNB  [Analyst: Airbnb Stocks Sports Attractive Entr...     0\n",
            "3   ABNB  [What Analysts Are Saying About Airbnb Stock -...     0\n",
            "4   ABNB  [Airbnb (NASDAQ:ABNB) Stock Rating Upgraded by...     0\n"
          ]
        },
        {
          "name": "stderr",
          "output_type": "stream",
          "text": [
            "<ipython-input-3-35737c005e65>:26: XMLParsedAsHTMLWarning: It looks like you're parsing an XML document using an HTML parser. If this really is an HTML document (maybe it's XHTML?), you can ignore or filter this warning. If it's XML, you should know that using an XML parser will be more reliable. To parse this document as XML, make sure you have the lxml package installed, and pass the keyword argument `features=\"xml\"` into the BeautifulSoup constructor.\n",
            "  parsed_doc = bs.BeautifulSoup(doc,'lxml')\n"
          ]
        },
        {
          "name": "stdout",
          "output_type": "stream",
          "text": [
            "   Ticker                                             Titles  Date\n",
            "0    AKAM  [(AKAM) Long Term Investment Analysis - Stock ...     0\n",
            "7    AKAM  [Notable ETF Outflow Detected - TECL, ACN, ADB...     0\n",
            "4    AKAM  [New Strong Sell Stocks for May 28th - Zacks I...     0\n",
            "10   AKAM  [New Strong Sell Stocks for May 28th - Yahoo F...     0\n",
            "2    AKAM  [Corient Private Wealth LLC Grows Position in ...     0\n",
            "3    AKAM  [Corient Private Wealth LLC Has $4.60 Million ...     0\n"
          ]
        },
        {
          "name": "stderr",
          "output_type": "stream",
          "text": [
            "<ipython-input-3-35737c005e65>:26: XMLParsedAsHTMLWarning: It looks like you're parsing an XML document using an HTML parser. If this really is an HTML document (maybe it's XHTML?), you can ignore or filter this warning. If it's XML, you should know that using an XML parser will be more reliable. To parse this document as XML, make sure you have the lxml package installed, and pass the keyword argument `features=\"xml\"` into the BeautifulSoup constructor.\n",
            "  parsed_doc = bs.BeautifulSoup(doc,'lxml')\n"
          ]
        },
        {
          "name": "stdout",
          "output_type": "stream",
          "text": [
            "  Ticker                                             Titles  Date\n",
            "8    ALB  [If You Can Only Buy One Lithium Stock in May,...     0\n"
          ]
        },
        {
          "name": "stderr",
          "output_type": "stream",
          "text": [
            "<ipython-input-3-35737c005e65>:26: XMLParsedAsHTMLWarning: It looks like you're parsing an XML document using an HTML parser. If this really is an HTML document (maybe it's XHTML?), you can ignore or filter this warning. If it's XML, you should know that using an XML parser will be more reliable. To parse this document as XML, make sure you have the lxml package installed, and pass the keyword argument `features=\"xml\"` into the BeautifulSoup constructor.\n",
            "  parsed_doc = bs.BeautifulSoup(doc,'lxml')\n"
          ]
        },
        {
          "name": "stdout",
          "output_type": "stream",
          "text": [
            "Empty DataFrame\n",
            "Columns: [Ticker, Titles, Date]\n",
            "Index: []\n",
            "  Ticker                                             Titles  Date\n",
            "0   ALGN  [Corient Private Wealth LLC Sells 15558 Shares...     0\n",
            "4   ALGN  [SageView Advisory Group LLC Buys 703 Shares o...     0\n",
            "8   ALGN  [Dimensional Fund Advisors LP Buys 7266 Shares...     0\n",
            "1   ALGN  [Corient Private Wealth LLC Has $4.86 Million ...     0\n"
          ]
        },
        {
          "name": "stderr",
          "output_type": "stream",
          "text": [
            "<ipython-input-3-35737c005e65>:26: XMLParsedAsHTMLWarning: It looks like you're parsing an XML document using an HTML parser. If this really is an HTML document (maybe it's XHTML?), you can ignore or filter this warning. If it's XML, you should know that using an XML parser will be more reliable. To parse this document as XML, make sure you have the lxml package installed, and pass the keyword argument `features=\"xml\"` into the BeautifulSoup constructor.\n",
            "  parsed_doc = bs.BeautifulSoup(doc,'lxml')\n"
          ]
        },
        {
          "name": "stdout",
          "output_type": "stream",
          "text": [
            "  Ticker                                             Titles  Date\n",
            "0   ALLE  [Here's Why Investing in Allegion (ALLE) Stock...     0\n",
            "1   ALLE  [Allegion: Strong institutional Demand Should ...     0\n",
            "2   ALLE  [Assetmark Inc. Acquires Shares of 8071 Allegi...     0\n"
          ]
        },
        {
          "name": "stderr",
          "output_type": "stream",
          "text": [
            "<ipython-input-3-35737c005e65>:26: XMLParsedAsHTMLWarning: It looks like you're parsing an XML document using an HTML parser. If this really is an HTML document (maybe it's XHTML?), you can ignore or filter this warning. If it's XML, you should know that using an XML parser will be more reliable. To parse this document as XML, make sure you have the lxml package installed, and pass the keyword argument `features=\"xml\"` into the BeautifulSoup constructor.\n",
            "  parsed_doc = bs.BeautifulSoup(doc,'lxml')\n"
          ]
        },
        {
          "name": "stdout",
          "output_type": "stream",
          "text": [
            "   Ticker                                             Titles  Date\n",
            "0     LNT  [Objective long/short (LNT) Report - Stock Tra...     0\n",
            "62    LNT  [A stock that deserves closer examination: All...     0\n",
            "1     LNT  [Wells Fargo & Company MN Purchases 71140 Shar...     0\n"
          ]
        },
        {
          "name": "stderr",
          "output_type": "stream",
          "text": [
            "<ipython-input-3-35737c005e65>:26: XMLParsedAsHTMLWarning: It looks like you're parsing an XML document using an HTML parser. If this really is an HTML document (maybe it's XHTML?), you can ignore or filter this warning. If it's XML, you should know that using an XML parser will be more reliable. To parse this document as XML, make sure you have the lxml package installed, and pass the keyword argument `features=\"xml\"` into the BeautifulSoup constructor.\n",
            "  parsed_doc = bs.BeautifulSoup(doc,'lxml')\n"
          ]
        },
        {
          "name": "stdout",
          "output_type": "stream",
          "text": [
            "   Ticker                                             Titles  Date\n",
            "0     ALL  [HubSpot stock jumps on report Alphabet in tal...     0\n",
            "40    ALL  [Stock Market Today: All You Need To Know Goin...     0\n",
            "3     ALL  [Saudi Arabia stocks lower at close of trade; ...     0\n",
            "93    ALL  [This railway PSU stock has jumped 19% this mo...     0\n",
            "15    ALL  [Rtx Corp. stock breaks all-time high: Should ...     0\n",
            "74    ALL  [Election creates Rs 26 lakh crore stock boom....     0\n",
            "13    ALL  [DOMS Industries stock hits all-time high on s...     0\n",
            "9     ALL  [Royal India: This penny stock gained 2474% in...     0\n"
          ]
        },
        {
          "name": "stderr",
          "output_type": "stream",
          "text": [
            "<ipython-input-3-35737c005e65>:26: XMLParsedAsHTMLWarning: It looks like you're parsing an XML document using an HTML parser. If this really is an HTML document (maybe it's XHTML?), you can ignore or filter this warning. If it's XML, you should know that using an XML parser will be more reliable. To parse this document as XML, make sure you have the lxml package installed, and pass the keyword argument `features=\"xml\"` into the BeautifulSoup constructor.\n",
            "  parsed_doc = bs.BeautifulSoup(doc,'lxml')\n"
          ]
        },
        {
          "name": "stdout",
          "output_type": "stream",
          "text": [
            "   Ticker                                             Titles  Date\n",
            "0   GOOGL  [Magnificent Seven Stocks: Nvidia Stock Hits R...     0\n",
            "34  GOOGL  [Warren Buffett Recommends This Index Fund. It...     0\n",
            "3   GOOGL  [(GOOGL) Pivots Trading Plans and Risk Control...     0\n"
          ]
        },
        {
          "name": "stderr",
          "output_type": "stream",
          "text": [
            "<ipython-input-3-35737c005e65>:26: XMLParsedAsHTMLWarning: It looks like you're parsing an XML document using an HTML parser. If this really is an HTML document (maybe it's XHTML?), you can ignore or filter this warning. If it's XML, you should know that using an XML parser will be more reliable. To parse this document as XML, make sure you have the lxml package installed, and pass the keyword argument `features=\"xml\"` into the BeautifulSoup constructor.\n",
            "  parsed_doc = bs.BeautifulSoup(doc,'lxml')\n"
          ]
        },
        {
          "name": "stdout",
          "output_type": "stream",
          "text": [
            "  Ticker                                             Titles  Date\n",
            "0   GOOG  [Magnificent Seven Stocks: Nvidia Stock Hits R...     0\n"
          ]
        },
        {
          "name": "stderr",
          "output_type": "stream",
          "text": [
            "<ipython-input-3-35737c005e65>:26: XMLParsedAsHTMLWarning: It looks like you're parsing an XML document using an HTML parser. If this really is an HTML document (maybe it's XHTML?), you can ignore or filter this warning. If it's XML, you should know that using an XML parser will be more reliable. To parse this document as XML, make sure you have the lxml package installed, and pass the keyword argument `features=\"xml\"` into the BeautifulSoup constructor.\n",
            "  parsed_doc = bs.BeautifulSoup(doc,'lxml')\n"
          ]
        },
        {
          "name": "stdout",
          "output_type": "stream",
          "text": [
            "  Ticker                                             Titles  Date\n",
            "2     MO  [(MO) Pivots Trading Plans and Risk Controls -...     0\n"
          ]
        },
        {
          "name": "stderr",
          "output_type": "stream",
          "text": [
            "<ipython-input-3-35737c005e65>:26: XMLParsedAsHTMLWarning: It looks like you're parsing an XML document using an HTML parser. If this really is an HTML document (maybe it's XHTML?), you can ignore or filter this warning. If it's XML, you should know that using an XML parser will be more reliable. To parse this document as XML, make sure you have the lxml package installed, and pass the keyword argument `features=\"xml\"` into the BeautifulSoup constructor.\n",
            "  parsed_doc = bs.BeautifulSoup(doc,'lxml')\n"
          ]
        },
        {
          "name": "stdout",
          "output_type": "stream",
          "text": [
            "   Ticker                                             Titles  Date\n",
            "44   AMZN  [Metis Global Partners LLC Acquires 67089 Shar...     0\n",
            "24   AMZN  [Sheets Smith Wealth Management Sells 4057 Sha...     0\n",
            "19   AMZN  [Amazon.com, Inc. (NASDAQ:AMZN) Shares Bought ...     0\n",
            "25   AMZN  [Amazon.com, Inc. (NASDAQ:AMZN) Shares Purchas...     0\n",
            "26   AMZN  [Clifford Swan Investment Counsel LLC Purchase...     0\n",
            "27   AMZN  [TCI Wealth Advisors Inc. Sells 713 Shares of ...     0\n",
            "30   AMZN  [Family Asset Management LLC Grows Stock Posit...     0\n",
            "14   AMZN  [Amazon.com, Inc. (NASDAQ:AMZN) Stock Holdings...     0\n",
            "13   AMZN  [Amazon.com (NASDAQ:AMZN) Stock Price Up 0.5% ...     0\n",
            "12   AMZN  [Amazon Stock in Focus Amid Report of Possible...     0\n",
            "23   AMZN  [Nkcfo LLC Sells 1200 Shares of Amazon.com, In...     0\n",
            "11   AMZN  [Magnificent Seven Stocks: Nvidia Stock Hits R...     0\n",
            "31   AMZN  [Lincoln National Corp Buys 9395 Shares of Ama...     0\n",
            "33   AMZN  [UNIVEST FINANCIAL Corp Has $8.85 Million Stoc...     0\n",
            "35   AMZN  [7570 Shares in Amazon.com, Inc. (NASDAQ:AMZN)...     0\n",
            "36   AMZN  [Fielder Capital Group LLC Purchases New Share...     0\n",
            "37   AMZN  [Aviance Capital Partners LLC Sells 5213 Share...     0\n",
            "39   AMZN  [Wealthcare Advisory Partners LLC Purchases 28...     0\n",
            "3    AMZN  [Is Amazon’s Stock Invincible? Redditors Discu...     0\n",
            "40   AMZN  [Peregrine Asset Advisers Inc. Sells 11474 Sha...     0\n",
            "1    AMZN  [Amazon.com, Inc. (AMZN) is Attracting Investo...     0\n",
            "10   AMZN  [Amazon is winning the biggest dollar share of...     0\n",
            "22   AMZN  [Amazon.com, Inc. (NASDAQ:AMZN) Shares Sold by...     0\n"
          ]
        },
        {
          "name": "stderr",
          "output_type": "stream",
          "text": [
            "<ipython-input-3-35737c005e65>:26: XMLParsedAsHTMLWarning: It looks like you're parsing an XML document using an HTML parser. If this really is an HTML document (maybe it's XHTML?), you can ignore or filter this warning. If it's XML, you should know that using an XML parser will be more reliable. To parse this document as XML, make sure you have the lxml package installed, and pass the keyword argument `features=\"xml\"` into the BeautifulSoup constructor.\n",
            "  parsed_doc = bs.BeautifulSoup(doc,'lxml')\n"
          ]
        },
        {
          "name": "stdout",
          "output_type": "stream",
          "text": [
            "  Ticker                                             Titles  Date\n",
            "0   AMCR  [US Bancorp DE Decreases Stock Holdings in Amc...     0\n",
            "9   AMCR  [Assetmark Inc. Increases Stake in Amcor plc (...     0\n",
            "5   AMCR  [Coldstream Capital Management Inc. Buys 2038 ...     0\n"
          ]
        },
        {
          "name": "stderr",
          "output_type": "stream",
          "text": [
            "<ipython-input-3-35737c005e65>:26: XMLParsedAsHTMLWarning: It looks like you're parsing an XML document using an HTML parser. If this really is an HTML document (maybe it's XHTML?), you can ignore or filter this warning. If it's XML, you should know that using an XML parser will be more reliable. To parse this document as XML, make sure you have the lxml package installed, and pass the keyword argument `features=\"xml\"` into the BeautifulSoup constructor.\n",
            "  parsed_doc = bs.BeautifulSoup(doc,'lxml')\n"
          ]
        },
        {
          "name": "stdout",
          "output_type": "stream",
          "text": [
            "   Ticker                                             Titles  Date\n",
            "0     AEE    [Trend Tracker for (AEE) - Stock Traders Daily]     0\n",
            "1     AEE  [UBS Group AG Has $27.16 Million Stake in Amer...     0\n",
            "92    AEE  [Ameren Corp. (AEE)'s stock chart: A technical...     0\n",
            "3     AEE  [UBS Group AG Sells 146,199 Shares of Ameren C...     0\n"
          ]
        },
        {
          "name": "stderr",
          "output_type": "stream",
          "text": [
            "<ipython-input-3-35737c005e65>:26: XMLParsedAsHTMLWarning: It looks like you're parsing an XML document using an HTML parser. If this really is an HTML document (maybe it's XHTML?), you can ignore or filter this warning. If it's XML, you should know that using an XML parser will be more reliable. To parse this document as XML, make sure you have the lxml package installed, and pass the keyword argument `features=\"xml\"` into the BeautifulSoup constructor.\n",
            "  parsed_doc = bs.BeautifulSoup(doc,'lxml')\n"
          ]
        },
        {
          "name": "stdout",
          "output_type": "stream",
          "text": [
            "  Ticker                                             Titles  Date\n",
            "0    AAL  [American Airlines (AAL) Stock Sinks As Market...     0\n",
            "1    AAL  [HubSpot stock jumps on report Alphabet in tal...     0\n"
          ]
        },
        {
          "name": "stderr",
          "output_type": "stream",
          "text": [
            "<ipython-input-3-35737c005e65>:26: XMLParsedAsHTMLWarning: It looks like you're parsing an XML document using an HTML parser. If this really is an HTML document (maybe it's XHTML?), you can ignore or filter this warning. If it's XML, you should know that using an XML parser will be more reliable. To parse this document as XML, make sure you have the lxml package installed, and pass the keyword argument `features=\"xml\"` into the BeautifulSoup constructor.\n",
            "  parsed_doc = bs.BeautifulSoup(doc,'lxml')\n"
          ]
        },
        {
          "name": "stdout",
          "output_type": "stream",
          "text": [
            "  Ticker                                             Titles  Date\n",
            "3    AEP  [(AEP) On The My Stocks Page - Stock Traders D...     0\n"
          ]
        },
        {
          "name": "stderr",
          "output_type": "stream",
          "text": [
            "<ipython-input-3-35737c005e65>:26: XMLParsedAsHTMLWarning: It looks like you're parsing an XML document using an HTML parser. If this really is an HTML document (maybe it's XHTML?), you can ignore or filter this warning. If it's XML, you should know that using an XML parser will be more reliable. To parse this document as XML, make sure you have the lxml package installed, and pass the keyword argument `features=\"xml\"` into the BeautifulSoup constructor.\n",
            "  parsed_doc = bs.BeautifulSoup(doc,'lxml')\n"
          ]
        },
        {
          "name": "stdout",
          "output_type": "stream",
          "text": [
            "  Ticker                                             Titles  Date\n",
            "0    AXP  [Buy American Express stock because of its AI ...     0\n"
          ]
        },
        {
          "name": "stderr",
          "output_type": "stream",
          "text": [
            "<ipython-input-3-35737c005e65>:26: XMLParsedAsHTMLWarning: It looks like you're parsing an XML document using an HTML parser. If this really is an HTML document (maybe it's XHTML?), you can ignore or filter this warning. If it's XML, you should know that using an XML parser will be more reliable. To parse this document as XML, make sure you have the lxml package installed, and pass the keyword argument `features=\"xml\"` into the BeautifulSoup constructor.\n",
            "  parsed_doc = bs.BeautifulSoup(doc,'lxml')\n"
          ]
        },
        {
          "name": "stdout",
          "output_type": "stream",
          "text": [
            "  Ticker                                             Titles  Date\n",
            "0    AIG  [Objective long/short (AIG) Report - Stock Tra...     0\n",
            "1    AIG  [American International Group, Inc. (NYSE:AIG)...     0\n"
          ]
        },
        {
          "name": "stderr",
          "output_type": "stream",
          "text": [
            "<ipython-input-3-35737c005e65>:26: XMLParsedAsHTMLWarning: It looks like you're parsing an XML document using an HTML parser. If this really is an HTML document (maybe it's XHTML?), you can ignore or filter this warning. If it's XML, you should know that using an XML parser will be more reliable. To parse this document as XML, make sure you have the lxml package installed, and pass the keyword argument `features=\"xml\"` into the BeautifulSoup constructor.\n",
            "  parsed_doc = bs.BeautifulSoup(doc,'lxml')\n"
          ]
        },
        {
          "name": "stdout",
          "output_type": "stream",
          "text": [
            "  Ticker                                             Titles  Date\n",
            "0    AMT  [American Tower (AMT) Gains As Market Dips: Wh...     0\n",
            "1    AMT  [Here's Why American Tower (AMT) Is an Apt Por...     0\n",
            "2    AMT  [TrinityPoint Wealth LLC Has $556000 Position ...     0\n"
          ]
        },
        {
          "name": "stderr",
          "output_type": "stream",
          "text": [
            "<ipython-input-3-35737c005e65>:26: XMLParsedAsHTMLWarning: It looks like you're parsing an XML document using an HTML parser. If this really is an HTML document (maybe it's XHTML?), you can ignore or filter this warning. If it's XML, you should know that using an XML parser will be more reliable. To parse this document as XML, make sure you have the lxml package installed, and pass the keyword argument `features=\"xml\"` into the BeautifulSoup constructor.\n",
            "  parsed_doc = bs.BeautifulSoup(doc,'lxml')\n"
          ]
        },
        {
          "name": "stdout",
          "output_type": "stream",
          "text": [
            "  Ticker                                             Titles  Date\n",
            "0    AWK  [Advisory Services Network LLC Has $1.98 Milli...     0\n",
            "1    AWK  [US Bancorp DE Has $7.53 Million Stock Positio...     0\n",
            "3    AWK  [Brian Eisenloeffel Named Vice President, Oper...     0\n",
            "5    AWK  [TrinityPoint Wealth LLC Sells 110 Shares of A...     0\n"
          ]
        },
        {
          "name": "stderr",
          "output_type": "stream",
          "text": [
            "<ipython-input-3-35737c005e65>:26: XMLParsedAsHTMLWarning: It looks like you're parsing an XML document using an HTML parser. If this really is an HTML document (maybe it's XHTML?), you can ignore or filter this warning. If it's XML, you should know that using an XML parser will be more reliable. To parse this document as XML, make sure you have the lxml package installed, and pass the keyword argument `features=\"xml\"` into the BeautifulSoup constructor.\n",
            "  parsed_doc = bs.BeautifulSoup(doc,'lxml')\n"
          ]
        },
        {
          "name": "stdout",
          "output_type": "stream",
          "text": [
            "  Ticker                                             Titles  Date\n",
            "0    AMP  [Ameriprise Financial, Inc. (NYSE:AMP) Stock H...     0\n"
          ]
        },
        {
          "name": "stderr",
          "output_type": "stream",
          "text": [
            "<ipython-input-3-35737c005e65>:26: XMLParsedAsHTMLWarning: It looks like you're parsing an XML document using an HTML parser. If this really is an HTML document (maybe it's XHTML?), you can ignore or filter this warning. If it's XML, you should know that using an XML parser will be more reliable. To parse this document as XML, make sure you have the lxml package installed, and pass the keyword argument `features=\"xml\"` into the BeautifulSoup constructor.\n",
            "  parsed_doc = bs.BeautifulSoup(doc,'lxml')\n"
          ]
        },
        {
          "name": "stdout",
          "output_type": "stream",
          "text": [
            "   Ticker                                             Titles  Date\n",
            "0     AME  [AMETEK, Inc. (NYSE:AME) Stock Position Lifted...     0\n",
            "1     AME  [(AME) Investment Analysis - Stock Traders Daily]     0\n",
            "92    AME  [Ametek Inc (AME) did well last session? – US ...     0\n",
            "91    AME  [Ametek Inc [AME] Investment Appeal on the Ris...     0\n"
          ]
        },
        {
          "name": "stderr",
          "output_type": "stream",
          "text": [
            "<ipython-input-3-35737c005e65>:26: XMLParsedAsHTMLWarning: It looks like you're parsing an XML document using an HTML parser. If this really is an HTML document (maybe it's XHTML?), you can ignore or filter this warning. If it's XML, you should know that using an XML parser will be more reliable. To parse this document as XML, make sure you have the lxml package installed, and pass the keyword argument `features=\"xml\"` into the BeautifulSoup constructor.\n",
            "  parsed_doc = bs.BeautifulSoup(doc,'lxml')\n"
          ]
        },
        {
          "name": "stdout",
          "output_type": "stream",
          "text": [
            "   Ticker                                             Titles  Date\n",
            "0    AMGN  [Dow's 325-point fall led by losses for Merck,...     0\n",
            "20   AMGN  [XLV, AMGN, PFE, ISRG: ETF Outflow Alert - Nas...     0\n"
          ]
        },
        {
          "name": "stderr",
          "output_type": "stream",
          "text": [
            "<ipython-input-3-35737c005e65>:26: XMLParsedAsHTMLWarning: It looks like you're parsing an XML document using an HTML parser. If this really is an HTML document (maybe it's XHTML?), you can ignore or filter this warning. If it's XML, you should know that using an XML parser will be more reliable. To parse this document as XML, make sure you have the lxml package installed, and pass the keyword argument `features=\"xml\"` into the BeautifulSoup constructor.\n",
            "  parsed_doc = bs.BeautifulSoup(doc,'lxml')\n"
          ]
        },
        {
          "name": "stdout",
          "output_type": "stream",
          "text": [
            "  Ticker                                             Titles  Date\n",
            "0    APH  [Amphenol: Sustainable Growth And Margins (NYS...     0\n",
            "1    APH  [Citigroup Raises Amphenol (NYSE:APH) Price Ta...     0\n"
          ]
        },
        {
          "name": "stderr",
          "output_type": "stream",
          "text": [
            "<ipython-input-3-35737c005e65>:26: XMLParsedAsHTMLWarning: It looks like you're parsing an XML document using an HTML parser. If this really is an HTML document (maybe it's XHTML?), you can ignore or filter this warning. If it's XML, you should know that using an XML parser will be more reliable. To parse this document as XML, make sure you have the lxml package installed, and pass the keyword argument `features=\"xml\"` into the BeautifulSoup constructor.\n",
            "  parsed_doc = bs.BeautifulSoup(doc,'lxml')\n"
          ]
        },
        {
          "name": "stdout",
          "output_type": "stream",
          "text": [
            "  Ticker                                             Titles  Date\n",
            "9    ADI  [Brokerages Set Analog Devices, Inc. (NASDAQ:A...     0\n",
            "1    ADI  [Analog Devices: Get Ready For The Upcycle (NA...     0\n",
            "2    ADI  [Artisan Partners Limited Partnership Reduces ...     0\n",
            "3    ADI  [Analog Devices, Inc. (NASDAQ:ADI) Receives Av...     0\n"
          ]
        },
        {
          "name": "stderr",
          "output_type": "stream",
          "text": [
            "<ipython-input-3-35737c005e65>:26: XMLParsedAsHTMLWarning: It looks like you're parsing an XML document using an HTML parser. If this really is an HTML document (maybe it's XHTML?), you can ignore or filter this warning. If it's XML, you should know that using an XML parser will be more reliable. To parse this document as XML, make sure you have the lxml package installed, and pass the keyword argument `features=\"xml\"` into the BeautifulSoup constructor.\n",
            "  parsed_doc = bs.BeautifulSoup(doc,'lxml')\n"
          ]
        },
        {
          "name": "stdout",
          "output_type": "stream",
          "text": [
            "  Ticker                                             Titles  Date\n",
            "0   ANSS  [Assetmark Inc. Boosts Stock Position in ANSYS...     0\n",
            "1   ANSS  [(ANSS) On The My Stocks Page - Stock Traders ...     0\n"
          ]
        },
        {
          "name": "stderr",
          "output_type": "stream",
          "text": [
            "<ipython-input-3-35737c005e65>:26: XMLParsedAsHTMLWarning: It looks like you're parsing an XML document using an HTML parser. If this really is an HTML document (maybe it's XHTML?), you can ignore or filter this warning. If it's XML, you should know that using an XML parser will be more reliable. To parse this document as XML, make sure you have the lxml package installed, and pass the keyword argument `features=\"xml\"` into the BeautifulSoup constructor.\n",
            "  parsed_doc = bs.BeautifulSoup(doc,'lxml')\n"
          ]
        },
        {
          "name": "stdout",
          "output_type": "stream",
          "text": [
            "  Ticker                                             Titles  Date\n",
            "0    AON  [AON (NYSE:AON) Stock Rating Reaffirmed by Deu...     0\n",
            "1    AON  [Aon: Mature Business, Unproven NFP Acquisitio...     0\n"
          ]
        },
        {
          "name": "stderr",
          "output_type": "stream",
          "text": [
            "<ipython-input-3-35737c005e65>:26: XMLParsedAsHTMLWarning: It looks like you're parsing an XML document using an HTML parser. If this really is an HTML document (maybe it's XHTML?), you can ignore or filter this warning. If it's XML, you should know that using an XML parser will be more reliable. To parse this document as XML, make sure you have the lxml package installed, and pass the keyword argument `features=\"xml\"` into the BeautifulSoup constructor.\n",
            "  parsed_doc = bs.BeautifulSoup(doc,'lxml')\n"
          ]
        },
        {
          "name": "stdout",
          "output_type": "stream",
          "text": [
            "   Ticker                                             Titles  Date\n",
            "0     APA  [APA Shares Pop Since Witnessing a Beat on Q4 ...     0\n",
            "1     APA  [APA Co. (NASDAQ:APA) Given Average Recommenda...     0\n",
            "2     APA  [How Is The Market Feeling About APA? - APA (N...     0\n",
            "41    APA  [Investors in APA Group (ASX:APA) have seen re...     0\n",
            "9     APA  [Neuberger Berman Group LLC Has $362000 Stake ...     0\n"
          ]
        },
        {
          "name": "stderr",
          "output_type": "stream",
          "text": [
            "<ipython-input-3-35737c005e65>:26: XMLParsedAsHTMLWarning: It looks like you're parsing an XML document using an HTML parser. If this really is an HTML document (maybe it's XHTML?), you can ignore or filter this warning. If it's XML, you should know that using an XML parser will be more reliable. To parse this document as XML, make sure you have the lxml package installed, and pass the keyword argument `features=\"xml\"` into the BeautifulSoup constructor.\n",
            "  parsed_doc = bs.BeautifulSoup(doc,'lxml')\n"
          ]
        },
        {
          "name": "stdout",
          "output_type": "stream",
          "text": [
            "   Ticker                                             Titles  Date\n",
            "0    AAPL  [What's Going On With Apple Stock On Tuesday? ...     0\n",
            "26   AAPL  [Wall Street Eyes Post-Holiday Gains With Infl...     0\n",
            "24   AAPL  [Apple (NASDAQ:AAPL) Trading Up 1.7% After Ana...     0\n",
            "21   AAPL  [Apple Stock Gains as New Data Shows iPhone Sa...     0\n",
            "19   AAPL  [McClarren Financial Advisors Inc. Purchases 1...     0\n",
            "59   AAPL  [If You Invested $1000 In Apple When It Acquir...     0\n",
            "16   AAPL  [Semanteon Capital Management LP Makes New Inv...     0\n",
            "13   AAPL  [Apple Inc. (NASDAQ:AAPL) Shares Sold by WD Ru...     0\n",
            "11   AAPL  [Apple Stock (AAPL) Gains as iPhone Shipments ...     0\n",
            "10   AAPL  [Magnificent Seven Stocks: Nvidia Stock Hits R...     0\n",
            "39   AAPL  [Prediction: This Will Be the Next Semiconduct...     0\n",
            "3    AAPL  [Investors Heavily Search Apple Inc. (AAPL): H...     0\n",
            "4    AAPL  [5 stocks to watch on Tuesday: TMUS/USM deal, ...     0\n",
            "2    AAPL  [Warren Buffett Just Sold $21 Billion in Apple...     0\n",
            "1    AAPL  [Dow Jones Tech Giant Apple Stock Nears Buy Po...     0\n"
          ]
        },
        {
          "name": "stderr",
          "output_type": "stream",
          "text": [
            "<ipython-input-3-35737c005e65>:26: XMLParsedAsHTMLWarning: It looks like you're parsing an XML document using an HTML parser. If this really is an HTML document (maybe it's XHTML?), you can ignore or filter this warning. If it's XML, you should know that using an XML parser will be more reliable. To parse this document as XML, make sure you have the lxml package installed, and pass the keyword argument `features=\"xml\"` into the BeautifulSoup constructor.\n",
            "  parsed_doc = bs.BeautifulSoup(doc,'lxml')\n"
          ]
        },
        {
          "name": "stdout",
          "output_type": "stream",
          "text": [
            "  Ticker                                             Titles  Date\n",
            "0   AMAT  [TrinityPoint Wealth LLC Has $1.38 Million Sta...     0\n",
            "3   AMAT      [(AMAT) Technical Data - Stock Traders Daily]     0\n",
            "5   AMAT  [5,848 Shares in Applied Materials, Inc. (NASD...     0\n"
          ]
        },
        {
          "name": "stderr",
          "output_type": "stream",
          "text": [
            "<ipython-input-3-35737c005e65>:26: XMLParsedAsHTMLWarning: It looks like you're parsing an XML document using an HTML parser. If this really is an HTML document (maybe it's XHTML?), you can ignore or filter this warning. If it's XML, you should know that using an XML parser will be more reliable. To parse this document as XML, make sure you have the lxml package installed, and pass the keyword argument `features=\"xml\"` into the BeautifulSoup constructor.\n",
            "  parsed_doc = bs.BeautifulSoup(doc,'lxml')\n"
          ]
        },
        {
          "name": "stdout",
          "output_type": "stream",
          "text": [
            "  Ticker                                             Titles  Date\n",
            "0   APTV  [Should Value Investors Buy Aptiv (APTV) Stock...     0\n"
          ]
        },
        {
          "name": "stderr",
          "output_type": "stream",
          "text": [
            "<ipython-input-3-35737c005e65>:26: XMLParsedAsHTMLWarning: It looks like you're parsing an XML document using an HTML parser. If this really is an HTML document (maybe it's XHTML?), you can ignore or filter this warning. If it's XML, you should know that using an XML parser will be more reliable. To parse this document as XML, make sure you have the lxml package installed, and pass the keyword argument `features=\"xml\"` into the BeautifulSoup constructor.\n",
            "  parsed_doc = bs.BeautifulSoup(doc,'lxml')\n"
          ]
        },
        {
          "name": "stdout",
          "output_type": "stream",
          "text": [
            "   Ticker                                             Titles  Date\n",
            "0    ACGL  [Is the Options Market Predicting a Spike in A...     0\n",
            "1    ACGL  [Here's Why Arch Capital Group (ACGL) is a Str...     0\n",
            "2    ACGL  [Dynamic Technology Lab Private Ltd Purchases ...     0\n",
            "12   ACGL  [Arch Capital (ACGL) Q2 Earnings Beat Estimate...     0\n"
          ]
        },
        {
          "name": "stderr",
          "output_type": "stream",
          "text": [
            "<ipython-input-3-35737c005e65>:26: XMLParsedAsHTMLWarning: It looks like you're parsing an XML document using an HTML parser. If this really is an HTML document (maybe it's XHTML?), you can ignore or filter this warning. If it's XML, you should know that using an XML parser will be more reliable. To parse this document as XML, make sure you have the lxml package installed, and pass the keyword argument `features=\"xml\"` into the BeautifulSoup constructor.\n",
            "  parsed_doc = bs.BeautifulSoup(doc,'lxml')\n"
          ]
        },
        {
          "name": "stdout",
          "output_type": "stream",
          "text": [
            "  Ticker                                             Titles  Date\n",
            "2    ADM  [Archer-Daniels-Midland Company (NYSE:ADM) Sha...     0\n",
            "5    ADM    [Trend Tracker for (ADM) - Stock Traders Daily]     0\n"
          ]
        },
        {
          "name": "stderr",
          "output_type": "stream",
          "text": [
            "<ipython-input-3-35737c005e65>:26: XMLParsedAsHTMLWarning: It looks like you're parsing an XML document using an HTML parser. If this really is an HTML document (maybe it's XHTML?), you can ignore or filter this warning. If it's XML, you should know that using an XML parser will be more reliable. To parse this document as XML, make sure you have the lxml package installed, and pass the keyword argument `features=\"xml\"` into the BeautifulSoup constructor.\n",
            "  parsed_doc = bs.BeautifulSoup(doc,'lxml')\n"
          ]
        },
        {
          "name": "stdout",
          "output_type": "stream",
          "text": [
            "  Ticker                                             Titles  Date\n",
            "0   ANET  [Arista Networks, Inc.'s (NYSE:ANET) Stock Is ...     0\n",
            "1   ANET  [Arista Networks, Inc. (NYSE:ANET) Shares Sold...     0\n",
            "2   ANET  [Arista Networks, Inc. (NYSE:ANET) Shares Sold...     0\n"
          ]
        },
        {
          "name": "stderr",
          "output_type": "stream",
          "text": [
            "<ipython-input-3-35737c005e65>:26: XMLParsedAsHTMLWarning: It looks like you're parsing an XML document using an HTML parser. If this really is an HTML document (maybe it's XHTML?), you can ignore or filter this warning. If it's XML, you should know that using an XML parser will be more reliable. To parse this document as XML, make sure you have the lxml package installed, and pass the keyword argument `features=\"xml\"` into the BeautifulSoup constructor.\n",
            "  parsed_doc = bs.BeautifulSoup(doc,'lxml')\n"
          ]
        },
        {
          "name": "stdout",
          "output_type": "stream",
          "text": [
            "   Ticker                                             Titles  Date\n",
            "0     AJG  [Advisory Services Network LLC Purchases 3213 ...     0\n",
            "1     AJG  [(AJG) Pivots Trading Plans and Risk Controls ...     0\n",
            "5     AJG  [1176 Shares in Arthur J. Gallagher & Co. (NYS...     0\n",
            "10    AJG  [TrinityPoint Wealth LLC Has $908000 Holdings ...     0\n"
          ]
        },
        {
          "name": "stderr",
          "output_type": "stream",
          "text": [
            "<ipython-input-3-35737c005e65>:26: XMLParsedAsHTMLWarning: It looks like you're parsing an XML document using an HTML parser. If this really is an HTML document (maybe it's XHTML?), you can ignore or filter this warning. If it's XML, you should know that using an XML parser will be more reliable. To parse this document as XML, make sure you have the lxml package installed, and pass the keyword argument `features=\"xml\"` into the BeautifulSoup constructor.\n",
            "  parsed_doc = bs.BeautifulSoup(doc,'lxml')\n"
          ]
        },
        {
          "name": "stdout",
          "output_type": "stream",
          "text": [
            "Empty DataFrame\n",
            "Columns: [Ticker, Titles, Date]\n",
            "Index: []\n",
            "   Ticker                                             Titles  Date\n",
            "0       T  [Stock Trades Will Settle One Day Faster With ...     0\n",
            "64      T  [US Stock Market Goes Back to T+1 System, Brac...     0\n",
            "81      T  [May 28 Stock Market: What changes in Wall Str...     0\n",
            "19      T  [AT&T: Dividend Increases Could Return Bringin...     0\n",
            "82      T  [LIC stock is available at a discount. So why ...     0\n",
            "83      T  [From the 28th (local time), the U.S. stock se...     0\n",
            "89      T  [Stock market investors counting on strong BJP...     0\n",
            "15      T  [Tesla Stock Warning: Don't Bother Trying to F...     0\n",
            "13      T  [Heads Up! Why Investors Shouldn't Rush to Buy...     0\n",
            "11      T  [Stock Market Today: Dow Slips, Nasdaq Hits Re...     0\n",
            "94      T  [Time to Pounce: 1 Phenomenal TSX Stock That H...     0\n",
            "9       T  [Heard on the Street: Don't Expect Stocks to R...     0\n",
            "8       T  [Wall Street Returns to T+1 Stock Trading Afte...     0\n",
            "7       T  [TMUS Stock Alert: T-Mobile Announces $4.4 Bil...     0\n",
            "6       T  [T-Mobile Scoops Up Most U.S. Cellular Assets....     0\n",
            "5       T  [What A Shorter Stock Trade Settlement Cycle—K...     0\n",
            "4       T  [Stock trade settlement moves to single day as...     0\n",
            "3       T  [New T+1 stock settlement rule could help prev...     0\n",
            "2       T  [Wall Street Returns to T+1 Stock Trading, Spe...     0\n",
            "1       T  [Why You Don’t Need Need to Buy Nvidia Stock R...     0\n",
            "10      T  [What's Going On With T-Mobile Stock Tuesday? ...     0\n",
            "43      T           [How To Trade (T) - Stock Traders Daily]     0\n"
          ]
        },
        {
          "name": "stderr",
          "output_type": "stream",
          "text": [
            "<ipython-input-3-35737c005e65>:26: XMLParsedAsHTMLWarning: It looks like you're parsing an XML document using an HTML parser. If this really is an HTML document (maybe it's XHTML?), you can ignore or filter this warning. If it's XML, you should know that using an XML parser will be more reliable. To parse this document as XML, make sure you have the lxml package installed, and pass the keyword argument `features=\"xml\"` into the BeautifulSoup constructor.\n",
            "  parsed_doc = bs.BeautifulSoup(doc,'lxml')\n"
          ]
        },
        {
          "name": "stdout",
          "output_type": "stream",
          "text": [
            "  Ticker                                        Titles  Date\n",
            "0    ATO  [(ATO) Trading Advice - Stock Traders Daily]     0\n"
          ]
        },
        {
          "name": "stderr",
          "output_type": "stream",
          "text": [
            "<ipython-input-3-35737c005e65>:26: XMLParsedAsHTMLWarning: It looks like you're parsing an XML document using an HTML parser. If this really is an HTML document (maybe it's XHTML?), you can ignore or filter this warning. If it's XML, you should know that using an XML parser will be more reliable. To parse this document as XML, make sure you have the lxml package installed, and pass the keyword argument `features=\"xml\"` into the BeautifulSoup constructor.\n",
            "  parsed_doc = bs.BeautifulSoup(doc,'lxml')\n"
          ]
        },
        {
          "name": "stdout",
          "output_type": "stream",
          "text": [
            "  Ticker                                             Titles  Date\n",
            "1   ADSK  [AUTODESK, INC. (NASDAQ: ADSK) DEADLINE ALERT:...     0\n"
          ]
        },
        {
          "name": "stderr",
          "output_type": "stream",
          "text": [
            "<ipython-input-3-35737c005e65>:26: XMLParsedAsHTMLWarning: It looks like you're parsing an XML document using an HTML parser. If this really is an HTML document (maybe it's XHTML?), you can ignore or filter this warning. If it's XML, you should know that using an XML parser will be more reliable. To parse this document as XML, make sure you have the lxml package installed, and pass the keyword argument `features=\"xml\"` into the BeautifulSoup constructor.\n",
            "  parsed_doc = bs.BeautifulSoup(doc,'lxml')\n"
          ]
        },
        {
          "name": "stdout",
          "output_type": "stream",
          "text": [
            "  Ticker                                             Titles  Date\n",
            "1    ADP  [(ADP) Investment Analysis - Stock Traders Daily]     0\n",
            "2    ADP  [Assetmark Inc. Raises Stake in Automatic Data...     0\n"
          ]
        },
        {
          "name": "stderr",
          "output_type": "stream",
          "text": [
            "<ipython-input-3-35737c005e65>:26: XMLParsedAsHTMLWarning: It looks like you're parsing an XML document using an HTML parser. If this really is an HTML document (maybe it's XHTML?), you can ignore or filter this warning. If it's XML, you should know that using an XML parser will be more reliable. To parse this document as XML, make sure you have the lxml package installed, and pass the keyword argument `features=\"xml\"` into the BeautifulSoup constructor.\n",
            "  parsed_doc = bs.BeautifulSoup(doc,'lxml')\n"
          ]
        },
        {
          "name": "stdout",
          "output_type": "stream",
          "text": [
            "  Ticker                                             Titles  Date\n",
            "0    AZO  [When the Price of (AZO) Talks, People Listen ...     0\n",
            "3    AZO  [3Chopt Investment Partners LLC Purchases New ...     0\n"
          ]
        },
        {
          "name": "stderr",
          "output_type": "stream",
          "text": [
            "<ipython-input-3-35737c005e65>:26: XMLParsedAsHTMLWarning: It looks like you're parsing an XML document using an HTML parser. If this really is an HTML document (maybe it's XHTML?), you can ignore or filter this warning. If it's XML, you should know that using an XML parser will be more reliable. To parse this document as XML, make sure you have the lxml package installed, and pass the keyword argument `features=\"xml\"` into the BeautifulSoup constructor.\n",
            "  parsed_doc = bs.BeautifulSoup(doc,'lxml')\n"
          ]
        },
        {
          "name": "stdout",
          "output_type": "stream",
          "text": [
            "   Ticker                                             Titles  Date\n",
            "89    AVB  [Here's How A $10K AVB Investment In 2004 Work...     0\n"
          ]
        },
        {
          "name": "stderr",
          "output_type": "stream",
          "text": [
            "<ipython-input-3-35737c005e65>:26: XMLParsedAsHTMLWarning: It looks like you're parsing an XML document using an HTML parser. If this really is an HTML document (maybe it's XHTML?), you can ignore or filter this warning. If it's XML, you should know that using an XML parser will be more reliable. To parse this document as XML, make sure you have the lxml package installed, and pass the keyword argument `features=\"xml\"` into the BeautifulSoup constructor.\n",
            "  parsed_doc = bs.BeautifulSoup(doc,'lxml')\n"
          ]
        },
        {
          "name": "stdout",
          "output_type": "stream",
          "text": [
            "  Ticker                                             Titles  Date\n",
            "0    AVY  [Avery Dennison Co. (NYSE:AVY) Shares Purchase...     0\n",
            "1    AVY  [(AVY) Investment Analysis and Advice - Stock ...     0\n",
            "2    AVY  [Avery Dennison Co. (NYSE:AVY) Shares Sold by ...     0\n"
          ]
        },
        {
          "name": "stderr",
          "output_type": "stream",
          "text": [
            "<ipython-input-3-35737c005e65>:26: XMLParsedAsHTMLWarning: It looks like you're parsing an XML document using an HTML parser. If this really is an HTML document (maybe it's XHTML?), you can ignore or filter this warning. If it's XML, you should know that using an XML parser will be more reliable. To parse this document as XML, make sure you have the lxml package installed, and pass the keyword argument `features=\"xml\"` into the BeautifulSoup constructor.\n",
            "  parsed_doc = bs.BeautifulSoup(doc,'lxml')\n"
          ]
        },
        {
          "name": "stdout",
          "output_type": "stream",
          "text": [
            "Empty DataFrame\n",
            "Columns: [Ticker, Titles, Date]\n",
            "Index: []\n",
            "  Ticker                                             Titles  Date\n",
            "0    BKR  [Wells Fargo & Company MN Has $37.10 Million H...     0\n"
          ]
        },
        {
          "name": "stderr",
          "output_type": "stream",
          "text": [
            "<ipython-input-3-35737c005e65>:26: XMLParsedAsHTMLWarning: It looks like you're parsing an XML document using an HTML parser. If this really is an HTML document (maybe it's XHTML?), you can ignore or filter this warning. If it's XML, you should know that using an XML parser will be more reliable. To parse this document as XML, make sure you have the lxml package installed, and pass the keyword argument `features=\"xml\"` into the BeautifulSoup constructor.\n",
            "  parsed_doc = bs.BeautifulSoup(doc,'lxml')\n"
          ]
        },
        {
          "name": "stdout",
          "output_type": "stream",
          "text": [
            "Empty DataFrame\n",
            "Columns: [Ticker, Titles, Date]\n",
            "Index: []\n",
            "  Ticker                                             Titles  Date\n",
            "1    BAC  [TrinityPoint Wealth LLC Cuts Position in Bank...     0\n"
          ]
        },
        {
          "name": "stderr",
          "output_type": "stream",
          "text": [
            "<ipython-input-3-35737c005e65>:26: XMLParsedAsHTMLWarning: It looks like you're parsing an XML document using an HTML parser. If this really is an HTML document (maybe it's XHTML?), you can ignore or filter this warning. If it's XML, you should know that using an XML parser will be more reliable. To parse this document as XML, make sure you have the lxml package installed, and pass the keyword argument `features=\"xml\"` into the BeautifulSoup constructor.\n",
            "  parsed_doc = bs.BeautifulSoup(doc,'lxml')\n"
          ]
        },
        {
          "name": "stdout",
          "output_type": "stream",
          "text": [
            "   Ticker                                             Titles  Date\n",
            "0      BK  [Long Term Trading Analysis for (BK) - Stock T...     0\n",
            "10     BK  [Bank Nifty Share Price Live Updates: Bank Nif...     0\n",
            "26     BK  [Should You Load Up on TD Bank Stock? - The Mo...     0\n"
          ]
        },
        {
          "name": "stderr",
          "output_type": "stream",
          "text": [
            "<ipython-input-3-35737c005e65>:26: XMLParsedAsHTMLWarning: It looks like you're parsing an XML document using an HTML parser. If this really is an HTML document (maybe it's XHTML?), you can ignore or filter this warning. If it's XML, you should know that using an XML parser will be more reliable. To parse this document as XML, make sure you have the lxml package installed, and pass the keyword argument `features=\"xml\"` into the BeautifulSoup constructor.\n",
            "  parsed_doc = bs.BeautifulSoup(doc,'lxml')\n"
          ]
        },
        {
          "name": "stdout",
          "output_type": "stream",
          "text": [
            "  Ticker                                             Titles  Date\n",
            "0   BBWI  [Bath & Body Works (BBWI) Scheduled to Post Qu...     0\n",
            "1   BBWI  [Bath & Body Works (BBWI) to Release Earnings ...     0\n",
            "5   BBWI  [Teacher Retirement System of Texas Trims Stoc...     0\n"
          ]
        },
        {
          "name": "stderr",
          "output_type": "stream",
          "text": [
            "<ipython-input-3-35737c005e65>:26: XMLParsedAsHTMLWarning: It looks like you're parsing an XML document using an HTML parser. If this really is an HTML document (maybe it's XHTML?), you can ignore or filter this warning. If it's XML, you should know that using an XML parser will be more reliable. To parse this document as XML, make sure you have the lxml package installed, and pass the keyword argument `features=\"xml\"` into the BeautifulSoup constructor.\n",
            "  parsed_doc = bs.BeautifulSoup(doc,'lxml')\n"
          ]
        },
        {
          "name": "stdout",
          "output_type": "stream",
          "text": [
            "Empty DataFrame\n",
            "Columns: [Ticker, Titles, Date]\n",
            "Index: []\n",
            "  Ticker                                             Titles  Date\n",
            "0    BDX  [Becton, Dickinson and Company (NYSE:BDX) Shar...     0\n",
            "1    BDX  [(BDX) On The My Stocks Page - Stock Traders D...     0\n",
            "4    BDX  [Becton, Dickinson and Company (NYSE:BDX) Give...     0\n",
            "6    BDX  [Becton, Dickinson and Company (NYSE:BDX) Rece...     0\n"
          ]
        },
        {
          "name": "stderr",
          "output_type": "stream",
          "text": [
            "<ipython-input-3-35737c005e65>:26: XMLParsedAsHTMLWarning: It looks like you're parsing an XML document using an HTML parser. If this really is an HTML document (maybe it's XHTML?), you can ignore or filter this warning. If it's XML, you should know that using an XML parser will be more reliable. To parse this document as XML, make sure you have the lxml package installed, and pass the keyword argument `features=\"xml\"` into the BeautifulSoup constructor.\n",
            "  parsed_doc = bs.BeautifulSoup(doc,'lxml')\n"
          ]
        },
        {
          "name": "stdout",
          "output_type": "stream",
          "text": [
            "Empty DataFrame\n",
            "Columns: [Ticker, Titles, Date]\n",
            "Index: []\n",
            "  Ticker                                             Titles  Date\n",
            "0    BBY  [Wedbush Reaffirms “Neutral” Rating for Best B...     0\n",
            "1    BBY  [Franklin Resources Inc. Acquires 26,737 Share...     0\n"
          ]
        },
        {
          "name": "stderr",
          "output_type": "stream",
          "text": [
            "<ipython-input-3-35737c005e65>:26: XMLParsedAsHTMLWarning: It looks like you're parsing an XML document using an HTML parser. If this really is an HTML document (maybe it's XHTML?), you can ignore or filter this warning. If it's XML, you should know that using an XML parser will be more reliable. To parse this document as XML, make sure you have the lxml package installed, and pass the keyword argument `features=\"xml\"` into the BeautifulSoup constructor.\n",
            "  parsed_doc = bs.BeautifulSoup(doc,'lxml')\n"
          ]
        },
        {
          "name": "stdout",
          "output_type": "stream",
          "text": [
            "   Ticker                                             Titles  Date\n",
            "2     BIO  [Principal Financial Group Inc. Trims Stake in...     0\n",
            "16    BIO  [Bio-Rad Laboratories (NYSE:BIO) Upgraded to “...     0\n",
            "13    BIO  [Bio-Techne Co. (NASDAQ:TECH) Shares Acquired ...     0\n",
            "10    BIO  [Beacon Pointe Advisors LLC Invests $33000 in ...     0\n",
            "8     BIO  [Fermenta Bio Consolidated March 2024 Net Sale...     0\n"
          ]
        },
        {
          "name": "stderr",
          "output_type": "stream",
          "text": [
            "<ipython-input-3-35737c005e65>:26: XMLParsedAsHTMLWarning: It looks like you're parsing an XML document using an HTML parser. If this really is an HTML document (maybe it's XHTML?), you can ignore or filter this warning. If it's XML, you should know that using an XML parser will be more reliable. To parse this document as XML, make sure you have the lxml package installed, and pass the keyword argument `features=\"xml\"` into the BeautifulSoup constructor.\n",
            "  parsed_doc = bs.BeautifulSoup(doc,'lxml')\n"
          ]
        },
        {
          "name": "stdout",
          "output_type": "stream",
          "text": [
            "   Ticker                                             Titles  Date\n",
            "49   TECH  [Commerce Bank Sells 1118 Shares of Tetra Tech...     0\n",
            "40   TECH  [Palantir Stock Alert: Keep Betting On This Re...     0\n",
            "43   TECH  [Hcl Tech Share Price Highlights : Hcl Tech cl...     0\n",
            "24   TECH  [Why Is Sharps Technology (STSS) Stock Up 194%...     0\n",
            "22   TECH  [The 2025 Millionaire's Club: 3 Tech Stocks to...     0\n",
            "21   TECH  [Dow Jones Tech Giant Apple Stock Nears Buy Po...     0\n",
            "46   TECH  [How much is Indian MFs' exposure to US tech s...     0\n",
            "19   TECH  [Tech Stocks That Overpromise and Underdeliver...     0\n",
            "18   TECH  [Apple Stock Jumps as China Business Booms and...     0\n",
            "47   TECH  [Seoul shares open lower on tech slump - The K...     0\n",
            "16   TECH  [7 US Tech Billionaires See $230 Billion Wealt...     0\n",
            "29   TECH  [Tech stocks continue to be among the best per...     0\n",
            "14   TECH  [Wall Street veteran trader revamps SoFi stock...     0\n",
            "31   TECH  [Tech Up-and-Comers: 3 Under-the-Radar Stocks ...     0\n",
            "12   TECH  [3 Innovative Tech Stocks Ready for 100% Gains...     0\n",
            "1    TECH  [Med tech stock Semler Scientific takes bitcoi...     0\n",
            "96   TECH  [Unraveling Nvidia's spectacular stock surge: ...     0\n",
            "95   TECH  [Tech Stocks Too Expensive? 3 Fair Valued Pick...     0\n",
            "13   TECH  [Nvidia Soars On Tesla Chief Musk's AI Startup...     0\n",
            "86   TECH  [Kospi opens lower as tech stocks slide - The ...     0\n",
            "87   TECH  [Bio-Techne Co. (NASDAQ:TECH) Shares Acquired ...     0\n",
            "60   TECH  [What's Going On With Apple Stock On Tuesday? ...     0\n",
            "10   TECH  [Stock Market Today: Dow Slips, Nasdaq Hits Re...     0\n",
            "11   TECH  [Magnificent 7 Becomes 'The Magnificent One': ...     0\n",
            "80   TECH  [Nazara Tech shares slip 2% after a disappoint...     0\n"
          ]
        },
        {
          "name": "stderr",
          "output_type": "stream",
          "text": [
            "<ipython-input-3-35737c005e65>:26: XMLParsedAsHTMLWarning: It looks like you're parsing an XML document using an HTML parser. If this really is an HTML document (maybe it's XHTML?), you can ignore or filter this warning. If it's XML, you should know that using an XML parser will be more reliable. To parse this document as XML, make sure you have the lxml package installed, and pass the keyword argument `features=\"xml\"` into the BeautifulSoup constructor.\n",
            "  parsed_doc = bs.BeautifulSoup(doc,'lxml')\n"
          ]
        },
        {
          "name": "stdout",
          "output_type": "stream",
          "text": [
            "  Ticker                                             Titles  Date\n",
            "0   BIIB  [BIOGEN INC. (NASDAQ: BIIB) DEADLINE ALERT: Be...     0\n",
            "1   BIIB  [Is Biogen Inc.'s (NASDAQ:BIIB) Recent Price M...     0\n",
            "3   BIIB  [When (BIIB) Moves Investors should Listen - S...     0\n"
          ]
        },
        {
          "name": "stderr",
          "output_type": "stream",
          "text": [
            "<ipython-input-3-35737c005e65>:26: XMLParsedAsHTMLWarning: It looks like you're parsing an XML document using an HTML parser. If this really is an HTML document (maybe it's XHTML?), you can ignore or filter this warning. If it's XML, you should know that using an XML parser will be more reliable. To parse this document as XML, make sure you have the lxml package installed, and pass the keyword argument `features=\"xml\"` into the BeautifulSoup constructor.\n",
            "  parsed_doc = bs.BeautifulSoup(doc,'lxml')\n"
          ]
        },
        {
          "name": "stdout",
          "output_type": "stream",
          "text": [
            "  Ticker                                             Titles  Date\n",
            "0    BLK  [Why You Shouldn't Bet Against BlackRock (BLK)...     0\n",
            "1    BLK    [(BLK) Investment Report - Stock Traders Daily]     0\n"
          ]
        },
        {
          "name": "stderr",
          "output_type": "stream",
          "text": [
            "<ipython-input-3-35737c005e65>:26: XMLParsedAsHTMLWarning: It looks like you're parsing an XML document using an HTML parser. If this really is an HTML document (maybe it's XHTML?), you can ignore or filter this warning. If it's XML, you should know that using an XML parser will be more reliable. To parse this document as XML, make sure you have the lxml package installed, and pass the keyword argument `features=\"xml\"` into the BeautifulSoup constructor.\n",
            "  parsed_doc = bs.BeautifulSoup(doc,'lxml')\n"
          ]
        },
        {
          "name": "stdout",
          "output_type": "stream",
          "text": [
            "Empty DataFrame\n",
            "Columns: [Ticker, Titles, Date]\n",
            "Index: []\n",
            "  Ticker                                             Titles  Date\n",
            "0     BA  [Surging Safety Concerns Send Boeing (NYSE:BA)...     0\n"
          ]
        },
        {
          "name": "stderr",
          "output_type": "stream",
          "text": [
            "<ipython-input-3-35737c005e65>:26: XMLParsedAsHTMLWarning: It looks like you're parsing an XML document using an HTML parser. If this really is an HTML document (maybe it's XHTML?), you can ignore or filter this warning. If it's XML, you should know that using an XML parser will be more reliable. To parse this document as XML, make sure you have the lxml package installed, and pass the keyword argument `features=\"xml\"` into the BeautifulSoup constructor.\n",
            "  parsed_doc = bs.BeautifulSoup(doc,'lxml')\n"
          ]
        },
        {
          "name": "stdout",
          "output_type": "stream",
          "text": [
            "  Ticker                                             Titles  Date\n",
            "0   BKNG  [Here's Why Booking Holdings (BKNG) is a Stron...     0\n",
            "1   BKNG  [Stocks Showing Improving Market Leadership: B...     0\n",
            "2   BKNG  [Where are the Opportunities in (BKNG) - Stock...     0\n",
            "5   BKNG  [Notable ETF Outflow Detected - XLY, BKNG, LOW...     0\n"
          ]
        },
        {
          "name": "stderr",
          "output_type": "stream",
          "text": [
            "<ipython-input-3-35737c005e65>:26: XMLParsedAsHTMLWarning: It looks like you're parsing an XML document using an HTML parser. If this really is an HTML document (maybe it's XHTML?), you can ignore or filter this warning. If it's XML, you should know that using an XML parser will be more reliable. To parse this document as XML, make sure you have the lxml package installed, and pass the keyword argument `features=\"xml\"` into the BeautifulSoup constructor.\n",
            "  parsed_doc = bs.BeautifulSoup(doc,'lxml')\n"
          ]
        },
        {
          "name": "stdout",
          "output_type": "stream",
          "text": [
            "  Ticker                                             Titles  Date\n",
            "0    BWA  [Coldstream Capital Management Inc. Lowers Sto...     0\n",
            "1    BWA  [(BWA) Investment Analysis - Stock Traders Daily]     0\n",
            "4    BWA  [Teacher Retirement System of Texas Has $38600...     0\n"
          ]
        },
        {
          "name": "stderr",
          "output_type": "stream",
          "text": [
            "<ipython-input-3-35737c005e65>:26: XMLParsedAsHTMLWarning: It looks like you're parsing an XML document using an HTML parser. If this really is an HTML document (maybe it's XHTML?), you can ignore or filter this warning. If it's XML, you should know that using an XML parser will be more reliable. To parse this document as XML, make sure you have the lxml package installed, and pass the keyword argument `features=\"xml\"` into the BeautifulSoup constructor.\n",
            "  parsed_doc = bs.BeautifulSoup(doc,'lxml')\n"
          ]
        },
        {
          "name": "stdout",
          "output_type": "stream",
          "text": [
            "  Ticker                                             Titles  Date\n",
            "0    BXP  [Beximco Pharmaceuticals (LON:BXP) Shares Cros...     0\n"
          ]
        },
        {
          "name": "stderr",
          "output_type": "stream",
          "text": [
            "<ipython-input-3-35737c005e65>:26: XMLParsedAsHTMLWarning: It looks like you're parsing an XML document using an HTML parser. If this really is an HTML document (maybe it's XHTML?), you can ignore or filter this warning. If it's XML, you should know that using an XML parser will be more reliable. To parse this document as XML, make sure you have the lxml package installed, and pass the keyword argument `features=\"xml\"` into the BeautifulSoup constructor.\n",
            "  parsed_doc = bs.BeautifulSoup(doc,'lxml')\n"
          ]
        },
        {
          "name": "stdout",
          "output_type": "stream",
          "text": [
            "  Ticker                                             Titles  Date\n",
            "2    BSX         [How To Trade (BSX) - Stock Traders Daily]     0\n",
            "3    BSX  [TrinityPoint Wealth LLC Purchases 697 Shares ...     0\n"
          ]
        },
        {
          "name": "stderr",
          "output_type": "stream",
          "text": [
            "<ipython-input-3-35737c005e65>:26: XMLParsedAsHTMLWarning: It looks like you're parsing an XML document using an HTML parser. If this really is an HTML document (maybe it's XHTML?), you can ignore or filter this warning. If it's XML, you should know that using an XML parser will be more reliable. To parse this document as XML, make sure you have the lxml package installed, and pass the keyword argument `features=\"xml\"` into the BeautifulSoup constructor.\n",
            "  parsed_doc = bs.BeautifulSoup(doc,'lxml')\n"
          ]
        },
        {
          "name": "stdout",
          "output_type": "stream",
          "text": [
            "   Ticker                                             Titles  Date\n",
            "0     BMY  [PFE: Dividend Stability and Growth in Pharma:...     0\n",
            "8     BMY  [Dynamic Technology Lab Private Ltd Decreases ...     0\n",
            "13    BMY  [Bristol-Myers Squibb (NYSE:BMY) Receives Aver...     0\n"
          ]
        },
        {
          "name": "stderr",
          "output_type": "stream",
          "text": [
            "<ipython-input-3-35737c005e65>:26: XMLParsedAsHTMLWarning: It looks like you're parsing an XML document using an HTML parser. If this really is an HTML document (maybe it's XHTML?), you can ignore or filter this warning. If it's XML, you should know that using an XML parser will be more reliable. To parse this document as XML, make sure you have the lxml package installed, and pass the keyword argument `features=\"xml\"` into the BeautifulSoup constructor.\n",
            "  parsed_doc = bs.BeautifulSoup(doc,'lxml')\n"
          ]
        },
        {
          "name": "stdout",
          "output_type": "stream",
          "text": [
            "  Ticker                                             Titles  Date\n",
            "2   AVGO  [Noteworthy Tuesday Option Activity: SMCI, AVG...     0\n"
          ]
        },
        {
          "name": "stderr",
          "output_type": "stream",
          "text": [
            "<ipython-input-3-35737c005e65>:26: XMLParsedAsHTMLWarning: It looks like you're parsing an XML document using an HTML parser. If this really is an HTML document (maybe it's XHTML?), you can ignore or filter this warning. If it's XML, you should know that using an XML parser will be more reliable. To parse this document as XML, make sure you have the lxml package installed, and pass the keyword argument `features=\"xml\"` into the BeautifulSoup constructor.\n",
            "  parsed_doc = bs.BeautifulSoup(doc,'lxml')\n"
          ]
        },
        {
          "name": "stdout",
          "output_type": "stream",
          "text": [
            "  Ticker                                             Titles  Date\n",
            "0     BR  [At US$141, Is Broadridge Financial Solutions,...     0\n",
            "1     BR  [Orion Portfolio Solutions LLC Sells 1993 Shar...     0\n",
            "4     BR  [When Should You Buy Broadridge Financial Solu...     0\n"
          ]
        },
        {
          "name": "stderr",
          "output_type": "stream",
          "text": [
            "<ipython-input-3-35737c005e65>:26: XMLParsedAsHTMLWarning: It looks like you're parsing an XML document using an HTML parser. If this really is an HTML document (maybe it's XHTML?), you can ignore or filter this warning. If it's XML, you should know that using an XML parser will be more reliable. To parse this document as XML, make sure you have the lxml package installed, and pass the keyword argument `features=\"xml\"` into the BeautifulSoup constructor.\n",
            "  parsed_doc = bs.BeautifulSoup(doc,'lxml')\n"
          ]
        },
        {
          "name": "stdout",
          "output_type": "stream",
          "text": [
            "  Ticker                                             Titles  Date\n",
            "1    BRO       [(BRO) Technical Data - Stock Traders Daily]     0\n",
            "2    BRO  [Advisory Services Network LLC Sells 323 Share...     0\n"
          ]
        },
        {
          "name": "stderr",
          "output_type": "stream",
          "text": [
            "<ipython-input-3-35737c005e65>:26: XMLParsedAsHTMLWarning: It looks like you're parsing an XML document using an HTML parser. If this really is an HTML document (maybe it's XHTML?), you can ignore or filter this warning. If it's XML, you should know that using an XML parser will be more reliable. To parse this document as XML, make sure you have the lxml package installed, and pass the keyword argument `features=\"xml\"` into the BeautifulSoup constructor.\n",
            "  parsed_doc = bs.BeautifulSoup(doc,'lxml')\n"
          ]
        },
        {
          "name": "stdout",
          "output_type": "stream",
          "text": [
            "  Ticker                                             Titles  Date\n",
            "1   BF.B  [Best-performing Kentucky Stocks Last Week - S...     0\n"
          ]
        },
        {
          "name": "stderr",
          "output_type": "stream",
          "text": [
            "<ipython-input-3-35737c005e65>:26: XMLParsedAsHTMLWarning: It looks like you're parsing an XML document using an HTML parser. If this really is an HTML document (maybe it's XHTML?), you can ignore or filter this warning. If it's XML, you should know that using an XML parser will be more reliable. To parse this document as XML, make sure you have the lxml package installed, and pass the keyword argument `features=\"xml\"` into the BeautifulSoup constructor.\n",
            "  parsed_doc = bs.BeautifulSoup(doc,'lxml')\n"
          ]
        },
        {
          "name": "stdout",
          "output_type": "stream",
          "text": [
            "  Ticker                                             Titles  Date\n",
            "1   BLDR  [Principal Securities Inc. Purchases Shares of...     0\n",
            "5   BLDR  [D.A. Davidson & CO. Sells 2603 Shares of Buil...     0\n"
          ]
        },
        {
          "name": "stderr",
          "output_type": "stream",
          "text": [
            "<ipython-input-3-35737c005e65>:26: XMLParsedAsHTMLWarning: It looks like you're parsing an XML document using an HTML parser. If this really is an HTML document (maybe it's XHTML?), you can ignore or filter this warning. If it's XML, you should know that using an XML parser will be more reliable. To parse this document as XML, make sure you have the lxml package installed, and pass the keyword argument `features=\"xml\"` into the BeautifulSoup constructor.\n",
            "  parsed_doc = bs.BeautifulSoup(doc,'lxml')\n"
          ]
        },
        {
          "name": "stdout",
          "output_type": "stream",
          "text": [
            "   Ticker                                             Titles  Date\n",
            "0      BG  [Bunge Global SA (NYSE:BG) Shares Acquired by ...     0\n",
            "27     BG  [Is Bank of America stock a good investment no...     0\n"
          ]
        },
        {
          "name": "stderr",
          "output_type": "stream",
          "text": [
            "<ipython-input-3-35737c005e65>:26: XMLParsedAsHTMLWarning: It looks like you're parsing an XML document using an HTML parser. If this really is an HTML document (maybe it's XHTML?), you can ignore or filter this warning. If it's XML, you should know that using an XML parser will be more reliable. To parse this document as XML, make sure you have the lxml package installed, and pass the keyword argument `features=\"xml\"` into the BeautifulSoup constructor.\n",
            "  parsed_doc = bs.BeautifulSoup(doc,'lxml')\n"
          ]
        },
        {
          "name": "stdout",
          "output_type": "stream",
          "text": [
            "  Ticker                                             Titles  Date\n",
            "1   CDNS  [Cadence Design Systems, Inc. (NASDAQ:CDNS) Gi...     0\n",
            "2   CDNS  [(CDNS) Pivots Trading Plans and Risk Controls...     0\n",
            "3   CDNS  [Analysts Set Cadence Design Systems, Inc. (NA...     0\n",
            "6   CDNS  [SageView Advisory Group LLC Acquires New Hold...     0\n"
          ]
        },
        {
          "name": "stderr",
          "output_type": "stream",
          "text": [
            "<ipython-input-3-35737c005e65>:26: XMLParsedAsHTMLWarning: It looks like you're parsing an XML document using an HTML parser. If this really is an HTML document (maybe it's XHTML?), you can ignore or filter this warning. If it's XML, you should know that using an XML parser will be more reliable. To parse this document as XML, make sure you have the lxml package installed, and pass the keyword argument `features=\"xml\"` into the BeautifulSoup constructor.\n",
            "  parsed_doc = bs.BeautifulSoup(doc,'lxml')\n"
          ]
        },
        {
          "name": "stdout",
          "output_type": "stream",
          "text": [
            "  Ticker                                             Titles  Date\n",
            "0    CZR  [Caesars Entertainment (CZR) Catches Eye: Stoc...     0\n"
          ]
        },
        {
          "name": "stderr",
          "output_type": "stream",
          "text": [
            "<ipython-input-3-35737c005e65>:26: XMLParsedAsHTMLWarning: It looks like you're parsing an XML document using an HTML parser. If this really is an HTML document (maybe it's XHTML?), you can ignore or filter this warning. If it's XML, you should know that using an XML parser will be more reliable. To parse this document as XML, make sure you have the lxml package installed, and pass the keyword argument `features=\"xml\"` into the BeautifulSoup constructor.\n",
            "  parsed_doc = bs.BeautifulSoup(doc,'lxml')\n"
          ]
        },
        {
          "name": "stdout",
          "output_type": "stream",
          "text": [
            "   Ticker                                             Titles  Date\n",
            "1     CPT  [Camden Property Trust (NYSE:CPT) Given Averag...     0\n",
            "85    CPT  [An analyst sees good growth prospects for Cam...     0\n"
          ]
        },
        {
          "name": "stderr",
          "output_type": "stream",
          "text": [
            "<ipython-input-3-35737c005e65>:26: XMLParsedAsHTMLWarning: It looks like you're parsing an XML document using an HTML parser. If this really is an HTML document (maybe it's XHTML?), you can ignore or filter this warning. If it's XML, you should know that using an XML parser will be more reliable. To parse this document as XML, make sure you have the lxml package installed, and pass the keyword argument `features=\"xml\"` into the BeautifulSoup constructor.\n",
            "  parsed_doc = bs.BeautifulSoup(doc,'lxml')\n"
          ]
        },
        {
          "name": "stdout",
          "output_type": "stream",
          "text": [
            "  Ticker                                             Titles  Date\n",
            "0    CPB  [Campbell Soup Layoffs 2024: What to Know Abou...     0\n",
            "1    CPB         [How To Trade (CPB) - Stock Traders Daily]     0\n",
            "2    CPB  [Campbell Soup (CPB) Q1 Earnings and Revenues ...     0\n",
            "3    CPB  [Campbell to cut 415 jobs as it restructures i...     0\n"
          ]
        },
        {
          "name": "stderr",
          "output_type": "stream",
          "text": [
            "<ipython-input-3-35737c005e65>:26: XMLParsedAsHTMLWarning: It looks like you're parsing an XML document using an HTML parser. If this really is an HTML document (maybe it's XHTML?), you can ignore or filter this warning. If it's XML, you should know that using an XML parser will be more reliable. To parse this document as XML, make sure you have the lxml package installed, and pass the keyword argument `features=\"xml\"` into the BeautifulSoup constructor.\n",
            "  parsed_doc = bs.BeautifulSoup(doc,'lxml')\n"
          ]
        },
        {
          "name": "stdout",
          "output_type": "stream",
          "text": [
            "   Ticker                                             Titles  Date\n",
            "0     COF  [US Bancorp DE Sells 2801 Shares of Capital On...     0\n",
            "8     COF  [Capital One Financial Co. (NYSE:COF) Shares S...     0\n",
            "15    COF  [Capital One Financial Co. (NYSE:COF) Receives...     0\n"
          ]
        },
        {
          "name": "stderr",
          "output_type": "stream",
          "text": [
            "<ipython-input-3-35737c005e65>:26: XMLParsedAsHTMLWarning: It looks like you're parsing an XML document using an HTML parser. If this really is an HTML document (maybe it's XHTML?), you can ignore or filter this warning. If it's XML, you should know that using an XML parser will be more reliable. To parse this document as XML, make sure you have the lxml package installed, and pass the keyword argument `features=\"xml\"` into the BeautifulSoup constructor.\n",
            "  parsed_doc = bs.BeautifulSoup(doc,'lxml')\n"
          ]
        },
        {
          "name": "stdout",
          "output_type": "stream",
          "text": [
            "   Ticker                                             Titles  Date\n",
            "0     CAH  [Cardinal Health (NYSE:CAH) Stock Rating Lower...     0\n",
            "1     CAH  [Reasons to Retain Cardinal Health (CAH) in Yo...     0\n",
            "7     CAH  [Commerce Bank Acquires 3186 Shares of Cardina...     0\n",
            "9     CAH  [2051 Shares in Cardinal Health, Inc. (NYSE:CA...     0\n",
            "10    CAH  [Cardinal Health (CAH) Q1 Earnings and Revenue...     0\n",
            "11    CAH  [Orion Portfolio Solutions LLC Acquires 2434 S...     0\n"
          ]
        },
        {
          "name": "stderr",
          "output_type": "stream",
          "text": [
            "<ipython-input-3-35737c005e65>:26: XMLParsedAsHTMLWarning: It looks like you're parsing an XML document using an HTML parser. If this really is an HTML document (maybe it's XHTML?), you can ignore or filter this warning. If it's XML, you should know that using an XML parser will be more reliable. To parse this document as XML, make sure you have the lxml package installed, and pass the keyword argument `features=\"xml\"` into the BeautifulSoup constructor.\n",
            "  parsed_doc = bs.BeautifulSoup(doc,'lxml')\n"
          ]
        },
        {
          "name": "stdout",
          "output_type": "stream",
          "text": [
            "  Ticker                                             Titles  Date\n",
            "0    KMX  [D.A. Davidson & CO. Raises Stock Position in ...     0\n",
            "1    KMX  [How the (KMX) price action is used to our Adv...     0\n"
          ]
        },
        {
          "name": "stderr",
          "output_type": "stream",
          "text": [
            "<ipython-input-3-35737c005e65>:26: XMLParsedAsHTMLWarning: It looks like you're parsing an XML document using an HTML parser. If this really is an HTML document (maybe it's XHTML?), you can ignore or filter this warning. If it's XML, you should know that using an XML parser will be more reliable. To parse this document as XML, make sure you have the lxml package installed, and pass the keyword argument `features=\"xml\"` into the BeautifulSoup constructor.\n",
            "  parsed_doc = bs.BeautifulSoup(doc,'lxml')\n"
          ]
        },
        {
          "name": "stdout",
          "output_type": "stream",
          "text": [
            "  Ticker                                             Titles  Date\n",
            "0    CCL  [Carnival Co. & plc (NYSE:CCL) Receives Consen...     0\n",
            "1    CCL  [Carnival Co. & plc (NYSE:CCL) Given Consensus...     0\n"
          ]
        },
        {
          "name": "stderr",
          "output_type": "stream",
          "text": [
            "<ipython-input-3-35737c005e65>:26: XMLParsedAsHTMLWarning: It looks like you're parsing an XML document using an HTML parser. If this really is an HTML document (maybe it's XHTML?), you can ignore or filter this warning. If it's XML, you should know that using an XML parser will be more reliable. To parse this document as XML, make sure you have the lxml package installed, and pass the keyword argument `features=\"xml\"` into the BeautifulSoup constructor.\n",
            "  parsed_doc = bs.BeautifulSoup(doc,'lxml')\n"
          ]
        },
        {
          "name": "stdout",
          "output_type": "stream",
          "text": [
            "  Ticker                                             Titles  Date\n",
            "0   CARR  [Are Options Traders Betting on a Big Move in ...     0\n"
          ]
        },
        {
          "name": "stderr",
          "output_type": "stream",
          "text": [
            "<ipython-input-3-35737c005e65>:26: XMLParsedAsHTMLWarning: It looks like you're parsing an XML document using an HTML parser. If this really is an HTML document (maybe it's XHTML?), you can ignore or filter this warning. If it's XML, you should know that using an XML parser will be more reliable. To parse this document as XML, make sure you have the lxml package installed, and pass the keyword argument `features=\"xml\"` into the BeautifulSoup constructor.\n",
            "  parsed_doc = bs.BeautifulSoup(doc,'lxml')\n"
          ]
        },
        {
          "name": "stdout",
          "output_type": "stream",
          "text": [
            "Empty DataFrame\n",
            "Columns: [Ticker, Titles, Date]\n",
            "Index: []\n",
            "  Ticker                                             Titles  Date\n",
            "0    CAT  [Caterpillar (CAT) Stock Moves -0.08%: What Yo...     0\n"
          ]
        },
        {
          "name": "stderr",
          "output_type": "stream",
          "text": [
            "<ipython-input-3-35737c005e65>:26: XMLParsedAsHTMLWarning: It looks like you're parsing an XML document using an HTML parser. If this really is an HTML document (maybe it's XHTML?), you can ignore or filter this warning. If it's XML, you should know that using an XML parser will be more reliable. To parse this document as XML, make sure you have the lxml package installed, and pass the keyword argument `features=\"xml\"` into the BeautifulSoup constructor.\n",
            "  parsed_doc = bs.BeautifulSoup(doc,'lxml')\n"
          ]
        },
        {
          "name": "stdout",
          "output_type": "stream",
          "text": [
            "   Ticker                                             Titles  Date\n",
            "0    CBOE  [Cboe Global Markets, Inc. (BATS:CBOE) Stock H...     0\n",
            "10   CBOE  [Principal Securities Inc. Purchases Shares of...     0\n",
            "6    CBOE  [Cboe Global Markets, Inc. (BATS:CBOE) Shares ...     0\n"
          ]
        },
        {
          "name": "stderr",
          "output_type": "stream",
          "text": [
            "<ipython-input-3-35737c005e65>:26: XMLParsedAsHTMLWarning: It looks like you're parsing an XML document using an HTML parser. If this really is an HTML document (maybe it's XHTML?), you can ignore or filter this warning. If it's XML, you should know that using an XML parser will be more reliable. To parse this document as XML, make sure you have the lxml package installed, and pass the keyword argument `features=\"xml\"` into the BeautifulSoup constructor.\n",
            "  parsed_doc = bs.BeautifulSoup(doc,'lxml')\n"
          ]
        },
        {
          "name": "stdout",
          "output_type": "stream",
          "text": [
            "  Ticker                                             Titles  Date\n",
            "0   CBRE  [CBRE Group, Inc. (NYSE:CBRE) Shares Sold by U...     0\n",
            "3   CBRE  [Corient Private Wealth LLC Decreases Stock Po...     0\n"
          ]
        },
        {
          "name": "stderr",
          "output_type": "stream",
          "text": [
            "<ipython-input-3-35737c005e65>:26: XMLParsedAsHTMLWarning: It looks like you're parsing an XML document using an HTML parser. If this really is an HTML document (maybe it's XHTML?), you can ignore or filter this warning. If it's XML, you should know that using an XML parser will be more reliable. To parse this document as XML, make sure you have the lxml package installed, and pass the keyword argument `features=\"xml\"` into the BeautifulSoup constructor.\n",
            "  parsed_doc = bs.BeautifulSoup(doc,'lxml')\n"
          ]
        },
        {
          "name": "stdout",
          "output_type": "stream",
          "text": [
            "  Ticker                                             Titles  Date\n",
            "0    CDW  [Franklin Resources Inc. Buys 3,587 Shares of ...     0\n"
          ]
        },
        {
          "name": "stderr",
          "output_type": "stream",
          "text": [
            "<ipython-input-3-35737c005e65>:26: XMLParsedAsHTMLWarning: It looks like you're parsing an XML document using an HTML parser. If this really is an HTML document (maybe it's XHTML?), you can ignore or filter this warning. If it's XML, you should know that using an XML parser will be more reliable. To parse this document as XML, make sure you have the lxml package installed, and pass the keyword argument `features=\"xml\"` into the BeautifulSoup constructor.\n",
            "  parsed_doc = bs.BeautifulSoup(doc,'lxml')\n"
          ]
        },
        {
          "name": "stdout",
          "output_type": "stream",
          "text": [
            "Empty DataFrame\n",
            "Columns: [Ticker, Titles, Date]\n",
            "Index: []\n",
            "  Ticker                                             Titles  Date\n",
            "1    COR  [Cencora Enters Oversold Territory (COR) - Nas...     0\n"
          ]
        },
        {
          "name": "stderr",
          "output_type": "stream",
          "text": [
            "<ipython-input-3-35737c005e65>:26: XMLParsedAsHTMLWarning: It looks like you're parsing an XML document using an HTML parser. If this really is an HTML document (maybe it's XHTML?), you can ignore or filter this warning. If it's XML, you should know that using an XML parser will be more reliable. To parse this document as XML, make sure you have the lxml package installed, and pass the keyword argument `features=\"xml\"` into the BeautifulSoup constructor.\n",
            "  parsed_doc = bs.BeautifulSoup(doc,'lxml')\n"
          ]
        },
        {
          "name": "stdout",
          "output_type": "stream",
          "text": [
            "  Ticker                                             Titles  Date\n",
            "0    CNC       [(CNC) Trading Advice - Stock Traders Daily]     0\n",
            "2    CNC  [Centene Co. (NYSE:CNC) Given Consensus Recomm...     0\n",
            "3    CNC  [Centene Co. (NYSE:CNC) Receives Consensus Rec...     0\n",
            "5    CNC  [Macpower CNC Machines Limited (NSE:MACPOWER) ...     0\n"
          ]
        },
        {
          "name": "stderr",
          "output_type": "stream",
          "text": [
            "<ipython-input-3-35737c005e65>:26: XMLParsedAsHTMLWarning: It looks like you're parsing an XML document using an HTML parser. If this really is an HTML document (maybe it's XHTML?), you can ignore or filter this warning. If it's XML, you should know that using an XML parser will be more reliable. To parse this document as XML, make sure you have the lxml package installed, and pass the keyword argument `features=\"xml\"` into the BeautifulSoup constructor.\n",
            "  parsed_doc = bs.BeautifulSoup(doc,'lxml')\n"
          ]
        },
        {
          "name": "stdout",
          "output_type": "stream",
          "text": [
            "  Ticker                                         Titles  Date\n",
            "0    CNP  [(CNP) Trading Signals - Stock Traders Daily]     0\n"
          ]
        },
        {
          "name": "stderr",
          "output_type": "stream",
          "text": [
            "<ipython-input-3-35737c005e65>:26: XMLParsedAsHTMLWarning: It looks like you're parsing an XML document using an HTML parser. If this really is an HTML document (maybe it's XHTML?), you can ignore or filter this warning. If it's XML, you should know that using an XML parser will be more reliable. To parse this document as XML, make sure you have the lxml package installed, and pass the keyword argument `features=\"xml\"` into the BeautifulSoup constructor.\n",
            "  parsed_doc = bs.BeautifulSoup(doc,'lxml')\n"
          ]
        },
        {
          "name": "stdout",
          "output_type": "stream",
          "text": [
            "  Ticker                                             Titles  Date\n",
            "0     CF  [PNC Financial Services Group Inc. Purchases 2...     0\n"
          ]
        },
        {
          "name": "stderr",
          "output_type": "stream",
          "text": [
            "<ipython-input-3-35737c005e65>:26: XMLParsedAsHTMLWarning: It looks like you're parsing an XML document using an HTML parser. If this really is an HTML document (maybe it's XHTML?), you can ignore or filter this warning. If it's XML, you should know that using an XML parser will be more reliable. To parse this document as XML, make sure you have the lxml package installed, and pass the keyword argument `features=\"xml\"` into the BeautifulSoup constructor.\n",
            "  parsed_doc = bs.BeautifulSoup(doc,'lxml')\n"
          ]
        },
        {
          "name": "stdout",
          "output_type": "stream",
          "text": [
            "  Ticker                                             Titles  Date\n",
            "0   CHRW  [PNC Financial Services Group Inc. Has $2.05 M...     0\n",
            "1   CHRW        [How To Trade (CHRW) - Stock Traders Daily]     0\n"
          ]
        },
        {
          "name": "stderr",
          "output_type": "stream",
          "text": [
            "<ipython-input-3-35737c005e65>:26: XMLParsedAsHTMLWarning: It looks like you're parsing an XML document using an HTML parser. If this really is an HTML document (maybe it's XHTML?), you can ignore or filter this warning. If it's XML, you should know that using an XML parser will be more reliable. To parse this document as XML, make sure you have the lxml package installed, and pass the keyword argument `features=\"xml\"` into the BeautifulSoup constructor.\n",
            "  parsed_doc = bs.BeautifulSoup(doc,'lxml')\n"
          ]
        },
        {
          "name": "stdout",
          "output_type": "stream",
          "text": [
            "  Ticker                                           Titles  Date\n",
            "1    CRL  [Trend Tracker for (CRL) - Stock Traders Daily]     0\n"
          ]
        },
        {
          "name": "stderr",
          "output_type": "stream",
          "text": [
            "<ipython-input-3-35737c005e65>:26: XMLParsedAsHTMLWarning: It looks like you're parsing an XML document using an HTML parser. If this really is an HTML document (maybe it's XHTML?), you can ignore or filter this warning. If it's XML, you should know that using an XML parser will be more reliable. To parse this document as XML, make sure you have the lxml package installed, and pass the keyword argument `features=\"xml\"` into the BeautifulSoup constructor.\n",
            "  parsed_doc = bs.BeautifulSoup(doc,'lxml')\n"
          ]
        },
        {
          "name": "stdout",
          "output_type": "stream",
          "text": [
            "  Ticker                                             Titles  Date\n",
            "2   SCHW  [Intech Investment Management LLC Trims Stock ...     0\n",
            "3   SCHW  [Notable Tuesday Option Activity: HRL, HD, SCH...     0\n"
          ]
        },
        {
          "name": "stderr",
          "output_type": "stream",
          "text": [
            "<ipython-input-3-35737c005e65>:26: XMLParsedAsHTMLWarning: It looks like you're parsing an XML document using an HTML parser. If this really is an HTML document (maybe it's XHTML?), you can ignore or filter this warning. If it's XML, you should know that using an XML parser will be more reliable. To parse this document as XML, make sure you have the lxml package installed, and pass the keyword argument `features=\"xml\"` into the BeautifulSoup constructor.\n",
            "  parsed_doc = bs.BeautifulSoup(doc,'lxml')\n"
          ]
        },
        {
          "name": "stdout",
          "output_type": "stream",
          "text": [
            "  Ticker                                             Titles  Date\n",
            "0   CHTR  [Bear of the Day: Charter Communications (CHTR...     0\n",
            "1   CHTR  [(CHTR) Investment Analysis - Stock Traders Da...     0\n"
          ]
        },
        {
          "name": "stderr",
          "output_type": "stream",
          "text": [
            "<ipython-input-3-35737c005e65>:26: XMLParsedAsHTMLWarning: It looks like you're parsing an XML document using an HTML parser. If this really is an HTML document (maybe it's XHTML?), you can ignore or filter this warning. If it's XML, you should know that using an XML parser will be more reliable. To parse this document as XML, make sure you have the lxml package installed, and pass the keyword argument `features=\"xml\"` into the BeautifulSoup constructor.\n",
            "  parsed_doc = bs.BeautifulSoup(doc,'lxml')\n"
          ]
        },
        {
          "name": "stdout",
          "output_type": "stream",
          "text": [
            "  Ticker                                             Titles  Date\n",
            "0    CVX  [M&A News: Chevron (NYSE:CVX) Notches Up After...     0\n",
            "1    CVX  [3 Value Stocks to Buy at a 52-Week Low in May...     0\n",
            "3    CVX  [Chevron (CVX), Rhino Prepare for Offshore Dri...     0\n",
            "5    CVX  [Hess shareholders to vote on proposed $53B sa...     0\n"
          ]
        },
        {
          "name": "stderr",
          "output_type": "stream",
          "text": [
            "<ipython-input-3-35737c005e65>:26: XMLParsedAsHTMLWarning: It looks like you're parsing an XML document using an HTML parser. If this really is an HTML document (maybe it's XHTML?), you can ignore or filter this warning. If it's XML, you should know that using an XML parser will be more reliable. To parse this document as XML, make sure you have the lxml package installed, and pass the keyword argument `features=\"xml\"` into the BeautifulSoup constructor.\n",
            "  parsed_doc = bs.BeautifulSoup(doc,'lxml')\n"
          ]
        },
        {
          "name": "stdout",
          "output_type": "stream",
          "text": [
            "  Ticker                                             Titles  Date\n",
            "1    CMG  [The Chipotle Walkout Method: What Does This M...     0\n",
            "3    CMG  [Objective long/short (CMG) Report - Stock Tra...     0\n",
            "6    CMG  [CMG Announces Appointment of Dave Montana as ...     0\n",
            "7    CMG  [Computer Modelling Group Ltd. (TSE:CMG) Senio...     0\n"
          ]
        },
        {
          "name": "stderr",
          "output_type": "stream",
          "text": [
            "<ipython-input-3-35737c005e65>:26: XMLParsedAsHTMLWarning: It looks like you're parsing an XML document using an HTML parser. If this really is an HTML document (maybe it's XHTML?), you can ignore or filter this warning. If it's XML, you should know that using an XML parser will be more reliable. To parse this document as XML, make sure you have the lxml package installed, and pass the keyword argument `features=\"xml\"` into the BeautifulSoup constructor.\n",
            "  parsed_doc = bs.BeautifulSoup(doc,'lxml')\n"
          ]
        },
        {
          "name": "stdout",
          "output_type": "stream",
          "text": [
            "  Ticker                                             Titles  Date\n",
            "0     CB  [Chubb Insiders Sell US$30m Of Stock, Possibly...     0\n",
            "1     CB  [Where are the Opportunities in (CB) - Stock T...     0\n",
            "2     CB  [SageView Advisory Group LLC Takes Position in...     0\n"
          ]
        },
        {
          "name": "stderr",
          "output_type": "stream",
          "text": [
            "<ipython-input-3-35737c005e65>:26: XMLParsedAsHTMLWarning: It looks like you're parsing an XML document using an HTML parser. If this really is an HTML document (maybe it's XHTML?), you can ignore or filter this warning. If it's XML, you should know that using an XML parser will be more reliable. To parse this document as XML, make sure you have the lxml package installed, and pass the keyword argument `features=\"xml\"` into the BeautifulSoup constructor.\n",
            "  parsed_doc = bs.BeautifulSoup(doc,'lxml')\n"
          ]
        },
        {
          "name": "stdout",
          "output_type": "stream",
          "text": [
            "  Ticker                                             Titles  Date\n",
            "0    CHD  [When the Price of (CHD) Talks, People Listen ...     0\n",
            "1    CHD  [US Bancorp DE Cuts Position in Church & Dwigh...     0\n"
          ]
        },
        {
          "name": "stderr",
          "output_type": "stream",
          "text": [
            "<ipython-input-3-35737c005e65>:26: XMLParsedAsHTMLWarning: It looks like you're parsing an XML document using an HTML parser. If this really is an HTML document (maybe it's XHTML?), you can ignore or filter this warning. If it's XML, you should know that using an XML parser will be more reliable. To parse this document as XML, make sure you have the lxml package installed, and pass the keyword argument `features=\"xml\"` into the BeautifulSoup constructor.\n",
            "  parsed_doc = bs.BeautifulSoup(doc,'lxml')\n"
          ]
        },
        {
          "name": "stdout",
          "output_type": "stream",
          "text": [
            "  Ticker                                             Titles  Date\n",
            "0     CI  [CI Stock Shows Why it May be the Best Stock i...     0\n",
            "1     CI     [Trend Tracker for (CI) - Stock Traders Daily]     0\n"
          ]
        },
        {
          "name": "stderr",
          "output_type": "stream",
          "text": [
            "<ipython-input-3-35737c005e65>:26: XMLParsedAsHTMLWarning: It looks like you're parsing an XML document using an HTML parser. If this really is an HTML document (maybe it's XHTML?), you can ignore or filter this warning. If it's XML, you should know that using an XML parser will be more reliable. To parse this document as XML, make sure you have the lxml package installed, and pass the keyword argument `features=\"xml\"` into the BeautifulSoup constructor.\n",
            "  parsed_doc = bs.BeautifulSoup(doc,'lxml')\n"
          ]
        },
        {
          "name": "stdout",
          "output_type": "stream",
          "text": [
            "  Ticker                                             Titles  Date\n",
            "0   CINF  [(CINF) Long Term Investment Analysis - Stock ...     0\n",
            "1   CINF  [Cincinnati Financial Unveils Investor Present...     0\n",
            "4   CINF  [Closing Bell: CI Global Infrastructure Pvt Po...     0\n",
            "7   CINF  [5 Insurance Stocks to Watch With Impressive D...     0\n"
          ]
        },
        {
          "name": "stderr",
          "output_type": "stream",
          "text": [
            "<ipython-input-3-35737c005e65>:26: XMLParsedAsHTMLWarning: It looks like you're parsing an XML document using an HTML parser. If this really is an HTML document (maybe it's XHTML?), you can ignore or filter this warning. If it's XML, you should know that using an XML parser will be more reliable. To parse this document as XML, make sure you have the lxml package installed, and pass the keyword argument `features=\"xml\"` into the BeautifulSoup constructor.\n",
            "  parsed_doc = bs.BeautifulSoup(doc,'lxml')\n"
          ]
        },
        {
          "name": "stdout",
          "output_type": "stream",
          "text": [
            "  Ticker                                             Titles  Date\n",
            "0   CTAS  [Long Term Trading Analysis for (CTAS) - Stock...     0\n",
            "1   CTAS  [Cintas (CTAS) Upgraded to Buy: Here's What Yo...     0\n",
            "4   CTAS  [The Dividend Investors' Dream Team: 3 Stocks ...     0\n"
          ]
        },
        {
          "name": "stderr",
          "output_type": "stream",
          "text": [
            "<ipython-input-3-35737c005e65>:26: XMLParsedAsHTMLWarning: It looks like you're parsing an XML document using an HTML parser. If this really is an HTML document (maybe it's XHTML?), you can ignore or filter this warning. If it's XML, you should know that using an XML parser will be more reliable. To parse this document as XML, make sure you have the lxml package installed, and pass the keyword argument `features=\"xml\"` into the BeautifulSoup constructor.\n",
            "  parsed_doc = bs.BeautifulSoup(doc,'lxml')\n"
          ]
        },
        {
          "name": "stdout",
          "output_type": "stream",
          "text": [
            "  Ticker                                             Titles  Date\n",
            "1   CSCO  [Learn to Evaluate (CSCO) using the Charts - S...     0\n",
            "7   CSCO  [Cisco Announces June 2024 Events with the Fin...     0\n"
          ]
        },
        {
          "name": "stderr",
          "output_type": "stream",
          "text": [
            "<ipython-input-3-35737c005e65>:26: XMLParsedAsHTMLWarning: It looks like you're parsing an XML document using an HTML parser. If this really is an HTML document (maybe it's XHTML?), you can ignore or filter this warning. If it's XML, you should know that using an XML parser will be more reliable. To parse this document as XML, make sure you have the lxml package installed, and pass the keyword argument `features=\"xml\"` into the BeautifulSoup constructor.\n",
            "  parsed_doc = bs.BeautifulSoup(doc,'lxml')\n"
          ]
        },
        {
          "name": "stdout",
          "output_type": "stream",
          "text": [
            "Empty DataFrame\n",
            "Columns: [Ticker, Titles, Date]\n",
            "Index: []\n",
            "Empty DataFrame\n",
            "Columns: [Ticker, Titles, Date]\n",
            "Index: []\n",
            "  Ticker                                             Titles  Date\n",
            "1    CLX  [Learn to Evaluate (CLX) using the Charts - St...     0\n"
          ]
        },
        {
          "name": "stderr",
          "output_type": "stream",
          "text": [
            "<ipython-input-3-35737c005e65>:26: XMLParsedAsHTMLWarning: It looks like you're parsing an XML document using an HTML parser. If this really is an HTML document (maybe it's XHTML?), you can ignore or filter this warning. If it's XML, you should know that using an XML parser will be more reliable. To parse this document as XML, make sure you have the lxml package installed, and pass the keyword argument `features=\"xml\"` into the BeautifulSoup constructor.\n",
            "  parsed_doc = bs.BeautifulSoup(doc,'lxml')\n"
          ]
        },
        {
          "name": "stdout",
          "output_type": "stream",
          "text": [
            "  Ticker                                             Titles  Date\n",
            "2    CME  [Long Term Trading Analysis for (CME) - Stock ...     0\n"
          ]
        },
        {
          "name": "stderr",
          "output_type": "stream",
          "text": [
            "<ipython-input-3-35737c005e65>:26: XMLParsedAsHTMLWarning: It looks like you're parsing an XML document using an HTML parser. If this really is an HTML document (maybe it's XHTML?), you can ignore or filter this warning. If it's XML, you should know that using an XML parser will be more reliable. To parse this document as XML, make sure you have the lxml package installed, and pass the keyword argument `features=\"xml\"` into the BeautifulSoup constructor.\n",
            "  parsed_doc = bs.BeautifulSoup(doc,'lxml')\n"
          ]
        },
        {
          "name": "stdout",
          "output_type": "stream",
          "text": [
            "   Ticker                                             Titles  Date\n",
            "0     CMS    [(CMS) Investment Report - Stock Traders Daily]     0\n",
            "50    CMS  [CMS stock rated a Neutral by UBS – Knox Daily...     0\n",
            "51    CMS  [CMS Energy Corporation (CMS)'s stock chart: A...     0\n",
            "7     CMS  [Stocks in news: LIC, Vedanta, IRCTC, RITES, N...     0\n",
            "6     CMS  [Top 10 Stocks To Buy For Today (28-05-24): Ad...     0\n",
            "54    CMS  [Stocks to Watch: LIC, Vedanta, IRCTC, RITES, ...     0\n",
            "52    CMS  [Rs 3.25 dividend per share: Smallcap stock go...     0\n",
            "5     CMS  [Top 10 Stocks To Buy For Today (28-05-24): Ad...     0\n"
          ]
        },
        {
          "name": "stderr",
          "output_type": "stream",
          "text": [
            "<ipython-input-3-35737c005e65>:26: XMLParsedAsHTMLWarning: It looks like you're parsing an XML document using an HTML parser. If this really is an HTML document (maybe it's XHTML?), you can ignore or filter this warning. If it's XML, you should know that using an XML parser will be more reliable. To parse this document as XML, make sure you have the lxml package installed, and pass the keyword argument `features=\"xml\"` into the BeautifulSoup constructor.\n",
            "  parsed_doc = bs.BeautifulSoup(doc,'lxml')\n"
          ]
        },
        {
          "name": "stdout",
          "output_type": "stream",
          "text": [
            "  Ticker                                             Titles  Date\n",
            "3     KO  [Coca-Cola (NYSE:KO) Trading Down 0.3% - Marke...     0\n",
            "9     KO  [Jump Financial LLC Sells 82,772 Shares of The...     0\n"
          ]
        },
        {
          "name": "stderr",
          "output_type": "stream",
          "text": [
            "<ipython-input-3-35737c005e65>:26: XMLParsedAsHTMLWarning: It looks like you're parsing an XML document using an HTML parser. If this really is an HTML document (maybe it's XHTML?), you can ignore or filter this warning. If it's XML, you should know that using an XML parser will be more reliable. To parse this document as XML, make sure you have the lxml package installed, and pass the keyword argument `features=\"xml\"` into the BeautifulSoup constructor.\n",
            "  parsed_doc = bs.BeautifulSoup(doc,'lxml')\n"
          ]
        },
        {
          "name": "stdout",
          "output_type": "stream",
          "text": [
            "   Ticker                                             Titles  Date\n",
            "0    CTSH  [Objective long/short (CTSH) Report - Stock Tr...     0\n",
            "1    CTSH  [US Bancorp DE Has $9.64 Million Stake in Cogn...     0\n",
            "8    CTSH  [Cognizant Technology Solutions Co. (NASDAQ:CT...     0\n",
            "10   CTSH  [United Services Automobile Association Sells ...     0\n"
          ]
        },
        {
          "name": "stderr",
          "output_type": "stream",
          "text": [
            "<ipython-input-3-35737c005e65>:26: XMLParsedAsHTMLWarning: It looks like you're parsing an XML document using an HTML parser. If this really is an HTML document (maybe it's XHTML?), you can ignore or filter this warning. If it's XML, you should know that using an XML parser will be more reliable. To parse this document as XML, make sure you have the lxml package installed, and pass the keyword argument `features=\"xml\"` into the BeautifulSoup constructor.\n",
            "  parsed_doc = bs.BeautifulSoup(doc,'lxml')\n"
          ]
        },
        {
          "name": "stdout",
          "output_type": "stream",
          "text": [
            "  Ticker                                             Titles  Date\n",
            "0     CL  [Q1 Earnings Highs And Lows: Colgate-Palmolive...     0\n",
            "2     CL  [(CL) On The My Stocks Page - Stock Traders Da...     0\n"
          ]
        },
        {
          "name": "stderr",
          "output_type": "stream",
          "text": [
            "<ipython-input-3-35737c005e65>:26: XMLParsedAsHTMLWarning: It looks like you're parsing an XML document using an HTML parser. If this really is an HTML document (maybe it's XHTML?), you can ignore or filter this warning. If it's XML, you should know that using an XML parser will be more reliable. To parse this document as XML, make sure you have the lxml package installed, and pass the keyword argument `features=\"xml\"` into the BeautifulSoup constructor.\n",
            "  parsed_doc = bs.BeautifulSoup(doc,'lxml')\n"
          ]
        },
        {
          "name": "stdout",
          "output_type": "stream",
          "text": [
            "   Ticker                                             Titles  Date\n",
            "0   CMCSA  [Possible Bearish Signals With Comcast Insider...     0\n",
            "1   CMCSA  [Comcast Co. (NASDAQ:CMCSA) Shares Sold by Her...     0\n",
            "2   CMCSA  [Advisory Services Network LLC Reduces Positio...     0\n",
            "3   CMCSA     [(CMCSA) Trading Report - Stock Traders Daily]     0\n",
            "13  CMCSA  [United Services Automobile Association Sells ...     0\n"
          ]
        },
        {
          "name": "stderr",
          "output_type": "stream",
          "text": [
            "<ipython-input-3-35737c005e65>:26: XMLParsedAsHTMLWarning: It looks like you're parsing an XML document using an HTML parser. If this really is an HTML document (maybe it's XHTML?), you can ignore or filter this warning. If it's XML, you should know that using an XML parser will be more reliable. To parse this document as XML, make sure you have the lxml package installed, and pass the keyword argument `features=\"xml\"` into the BeautifulSoup constructor.\n",
            "  parsed_doc = bs.BeautifulSoup(doc,'lxml')\n"
          ]
        },
        {
          "name": "stdout",
          "output_type": "stream",
          "text": [
            "  Ticker                                             Titles  Date\n",
            "0    CMA  [Comerica Incorporated (NYSE:CMA) Shares Purch...     0\n",
            "1    CMA  [How the (CMA) price action is used to our Adv...     0\n"
          ]
        },
        {
          "name": "stderr",
          "output_type": "stream",
          "text": [
            "<ipython-input-3-35737c005e65>:26: XMLParsedAsHTMLWarning: It looks like you're parsing an XML document using an HTML parser. If this really is an HTML document (maybe it's XHTML?), you can ignore or filter this warning. If it's XML, you should know that using an XML parser will be more reliable. To parse this document as XML, make sure you have the lxml package installed, and pass the keyword argument `features=\"xml\"` into the BeautifulSoup constructor.\n",
            "  parsed_doc = bs.BeautifulSoup(doc,'lxml')\n"
          ]
        },
        {
          "name": "stdout",
          "output_type": "stream",
          "text": [
            "  Ticker                                             Titles  Date\n",
            "0    CAG  [Conagra Brands (CAG) Stock Sinks As Market Ga...     0\n",
            "1    CAG  [Learn to Evaluate (CAG) using the Charts - St...     0\n",
            "2    CAG  [Orion Portfolio Solutions LLC Trims Position ...     0\n",
            "6    CAG  [US Bancorp DE Purchases 31503 Shares of Conag...     0\n"
          ]
        },
        {
          "name": "stderr",
          "output_type": "stream",
          "text": [
            "<ipython-input-3-35737c005e65>:26: XMLParsedAsHTMLWarning: It looks like you're parsing an XML document using an HTML parser. If this really is an HTML document (maybe it's XHTML?), you can ignore or filter this warning. If it's XML, you should know that using an XML parser will be more reliable. To parse this document as XML, make sure you have the lxml package installed, and pass the keyword argument `features=\"xml\"` into the BeautifulSoup constructor.\n",
            "  parsed_doc = bs.BeautifulSoup(doc,'lxml')\n"
          ]
        },
        {
          "name": "stdout",
          "output_type": "stream",
          "text": [
            "  Ticker                                             Titles  Date\n",
            "6    COP  [United Services Automobile Association Buys 4...     0\n"
          ]
        },
        {
          "name": "stderr",
          "output_type": "stream",
          "text": [
            "<ipython-input-3-35737c005e65>:26: XMLParsedAsHTMLWarning: It looks like you're parsing an XML document using an HTML parser. If this really is an HTML document (maybe it's XHTML?), you can ignore or filter this warning. If it's XML, you should know that using an XML parser will be more reliable. To parse this document as XML, make sure you have the lxml package installed, and pass the keyword argument `features=\"xml\"` into the BeautifulSoup constructor.\n",
            "  parsed_doc = bs.BeautifulSoup(doc,'lxml')\n"
          ]
        },
        {
          "name": "stdout",
          "output_type": "stream",
          "text": [
            "   Ticker                                             Titles  Date\n",
            "1      ED  [When (ED) Moves Investors should Listen - Sto...     0\n",
            "2      ED  [EverSource Wealth Advisors LLC Sells 256 Shar...     0\n",
            "71     ED  [Subscriptions open for Abu Dhabi's Alef Educa...     0\n",
            "57     ED  [As Alef IPO opens, is education going to be n...     0\n"
          ]
        },
        {
          "name": "stderr",
          "output_type": "stream",
          "text": [
            "<ipython-input-3-35737c005e65>:26: XMLParsedAsHTMLWarning: It looks like you're parsing an XML document using an HTML parser. If this really is an HTML document (maybe it's XHTML?), you can ignore or filter this warning. If it's XML, you should know that using an XML parser will be more reliable. To parse this document as XML, make sure you have the lxml package installed, and pass the keyword argument `features=\"xml\"` into the BeautifulSoup constructor.\n",
            "  parsed_doc = bs.BeautifulSoup(doc,'lxml')\n"
          ]
        },
        {
          "name": "stdout",
          "output_type": "stream",
          "text": [
            "  Ticker                                             Titles  Date\n",
            "0    STZ  [Constellation Brands (STZ) Stock Moves -1.19%...     0\n",
            "1    STZ  [Advisory Services Network LLC Reduces Holding...     0\n",
            "3    STZ  [Royal Bank of Canada Reiterates \"Outperform\" ...     0\n"
          ]
        },
        {
          "name": "stderr",
          "output_type": "stream",
          "text": [
            "<ipython-input-3-35737c005e65>:26: XMLParsedAsHTMLWarning: It looks like you're parsing an XML document using an HTML parser. If this really is an HTML document (maybe it's XHTML?), you can ignore or filter this warning. If it's XML, you should know that using an XML parser will be more reliable. To parse this document as XML, make sure you have the lxml package installed, and pass the keyword argument `features=\"xml\"` into the BeautifulSoup constructor.\n",
            "  parsed_doc = bs.BeautifulSoup(doc,'lxml')\n"
          ]
        },
        {
          "name": "stdout",
          "output_type": "stream",
          "text": [
            "  Ticker                                             Titles  Date\n",
            "0    CEG  [Constellation Energy: Expensive But Well Posi...     0\n",
            "1    CEG  [Constellation Energy Corporation (CEG) Is a T...     0\n",
            "4    CEG  [8 Best Utilities Stocks to Ride the AI Boom i...     0\n",
            "5    CEG  [Constellation Energy's Options: A Look at Wha...     0\n"
          ]
        },
        {
          "name": "stderr",
          "output_type": "stream",
          "text": [
            "<ipython-input-3-35737c005e65>:26: XMLParsedAsHTMLWarning: It looks like you're parsing an XML document using an HTML parser. If this really is an HTML document (maybe it's XHTML?), you can ignore or filter this warning. If it's XML, you should know that using an XML parser will be more reliable. To parse this document as XML, make sure you have the lxml package installed, and pass the keyword argument `features=\"xml\"` into the BeautifulSoup constructor.\n",
            "  parsed_doc = bs.BeautifulSoup(doc,'lxml')\n"
          ]
        },
        {
          "name": "stdout",
          "output_type": "stream",
          "text": [
            "  Ticker                                             Titles  Date\n",
            "0    COO  [What's in Store for Cooper Companies (COO) in...     0\n",
            "1    COO  [UBS Group AG Raises Stock Holdings in The Coo...     0\n"
          ]
        },
        {
          "name": "stderr",
          "output_type": "stream",
          "text": [
            "<ipython-input-3-35737c005e65>:26: XMLParsedAsHTMLWarning: It looks like you're parsing an XML document using an HTML parser. If this really is an HTML document (maybe it's XHTML?), you can ignore or filter this warning. If it's XML, you should know that using an XML parser will be more reliable. To parse this document as XML, make sure you have the lxml package installed, and pass the keyword argument `features=\"xml\"` into the BeautifulSoup constructor.\n",
            "  parsed_doc = bs.BeautifulSoup(doc,'lxml')\n"
          ]
        },
        {
          "name": "stdout",
          "output_type": "stream",
          "text": [
            "  Ticker                                             Titles  Date\n",
            "0   CPRT  [(CPRT) Investment Analysis - Stock Traders Da...     0\n"
          ]
        },
        {
          "name": "stderr",
          "output_type": "stream",
          "text": [
            "<ipython-input-3-35737c005e65>:26: XMLParsedAsHTMLWarning: It looks like you're parsing an XML document using an HTML parser. If this really is an HTML document (maybe it's XHTML?), you can ignore or filter this warning. If it's XML, you should know that using an XML parser will be more reliable. To parse this document as XML, make sure you have the lxml package installed, and pass the keyword argument `features=\"xml\"` into the BeautifulSoup constructor.\n",
            "  parsed_doc = bs.BeautifulSoup(doc,'lxml')\n"
          ]
        },
        {
          "name": "stdout",
          "output_type": "stream",
          "text": [
            "   Ticker                                             Titles  Date\n",
            "0     GLW  [Are Wall Street Analysts Predicting Corning S...     0\n",
            "1     GLW  [Commerce Bank Has $2.83 Million Stock Positio...     0\n",
            "10    GLW  [SageView Advisory Group LLC Invests $348000 i...     0\n"
          ]
        },
        {
          "name": "stderr",
          "output_type": "stream",
          "text": [
            "<ipython-input-3-35737c005e65>:26: XMLParsedAsHTMLWarning: It looks like you're parsing an XML document using an HTML parser. If this really is an HTML document (maybe it's XHTML?), you can ignore or filter this warning. If it's XML, you should know that using an XML parser will be more reliable. To parse this document as XML, make sure you have the lxml package installed, and pass the keyword argument `features=\"xml\"` into the BeautifulSoup constructor.\n",
            "  parsed_doc = bs.BeautifulSoup(doc,'lxml')\n"
          ]
        },
        {
          "name": "stdout",
          "output_type": "stream",
          "text": [
            "  Ticker                                             Titles  Date\n",
            "0   CPAY  [PayPoint (LON:PAY) Stock Price Crosses Above ...     0\n"
          ]
        },
        {
          "name": "stderr",
          "output_type": "stream",
          "text": [
            "<ipython-input-3-35737c005e65>:26: XMLParsedAsHTMLWarning: It looks like you're parsing an XML document using an HTML parser. If this really is an HTML document (maybe it's XHTML?), you can ignore or filter this warning. If it's XML, you should know that using an XML parser will be more reliable. To parse this document as XML, make sure you have the lxml package installed, and pass the keyword argument `features=\"xml\"` into the BeautifulSoup constructor.\n",
            "  parsed_doc = bs.BeautifulSoup(doc,'lxml')\n"
          ]
        },
        {
          "name": "stdout",
          "output_type": "stream",
          "text": [
            "Empty DataFrame\n",
            "Columns: [Ticker, Titles, Date]\n",
            "Index: []\n",
            "  Ticker                                             Titles  Date\n",
            "0   CSGP  [US Bancorp DE Acquires 3596 Shares of CoStar ...     0\n",
            "2   CSGP  [SageView Advisory Group LLC Takes Position in...     0\n"
          ]
        },
        {
          "name": "stderr",
          "output_type": "stream",
          "text": [
            "<ipython-input-3-35737c005e65>:26: XMLParsedAsHTMLWarning: It looks like you're parsing an XML document using an HTML parser. If this really is an HTML document (maybe it's XHTML?), you can ignore or filter this warning. If it's XML, you should know that using an XML parser will be more reliable. To parse this document as XML, make sure you have the lxml package installed, and pass the keyword argument `features=\"xml\"` into the BeautifulSoup constructor.\n",
            "  parsed_doc = bs.BeautifulSoup(doc,'lxml')\n"
          ]
        },
        {
          "name": "stdout",
          "output_type": "stream",
          "text": [
            "   Ticker                                             Titles  Date\n",
            "0    COST  [Stock market today: Wall Street drifts in qui...     0\n",
            "24   COST  [Corner Growth Acquisition (NASDAQ:COOLU) Stoc...     0\n",
            "26   COST  [Symbotic (NASDAQ:SYM) Stock Price Down 1.4% o...     0\n",
            "27   COST  [IDW Media (NYSE:IDW) Stock Price Up 29.1% - D...     0\n",
            "28   COST  [Mitie Group (LON:MTO) Stock Price Crosses Abo...     0\n",
            "29   COST  [LiveWire Ergogenics (OTCMKTS:LVVV) Stock Pric...     0\n",
            "31   COST  [Sprott Physical Uranium Trust Fund (OTCMKTS:S...     0\n",
            "32   COST  [Linamar (OTCMKTS:LIMAF) Stock Price Passes Ab...     0\n",
            "95   COST  [Ugro Capital share price: 5 key reasons why b...     0\n",
            "23   COST  [Cactus Acquisition Corp. 1 (NASDAQ:CCTSU) Sto...     0\n",
            "34   COST  [PyroGenesis Canada (NASDAQ:PYRGF) Stock Price...     0\n",
            "39   COST  [Higher Interest Rates Roil Asian Stock Market...     0\n",
            "40   COST  [Medtronic (NYSE:MDT) Stock Price Up 1.1% Foll...     0\n",
            "82   COST  [PFC share price: Power Finance Corporation sh...     0\n",
            "94   COST  [Tata Power Share Price Highlights : Tata Powe...     0\n",
            "91   COST  [Suzlon Share Price Highlights : Suzlon closed...     0\n",
            "55   COST  [The National Grid share price nosedived 21% i...     0\n",
            "67   COST  [Multibagger textile stock: Nandan Denim share...     0\n",
            "80   COST  [Adani Power Share Price Highlights : Adani Po...     0\n",
            "35   COST  [Vermilion Energy (TSE:VET) Share Price Crosse...     0\n",
            "22   COST  [Cielo (OTCMKTS:CIOXY) Stock Price Passes Abov...     0\n",
            "41   COST  [Obtala (LON:OBT) Stock Price Passes Above Fif...     0\n",
            "83   COST  [Multibagger SME stock Suratwwala Business sha...     0\n",
            "8    COST  [Is it time to sell Starbucks stock as it ente...     0\n",
            "5    COST  [Mizuho upgrades Norwegian Cruise Line stock, ...     0\n",
            "21   COST  [MicroCloud Hologram (NASDAQ:HOLO) Stock Price...     0\n",
            "4    COST  [1 Favorable Trend Explains the 1,600% Rise in...     0\n",
            "9    COST  [Why Is Norwegian Cruise Line Stock Shooting H...     0\n",
            "10   COST  [GameStop (GME) Stock Price Rises 23% Pre-Mark...     0\n",
            "3    COST  [What Are Wall Street Analysts' Target Price f...     0\n",
            "12   COST  [Costco stock price and the case of extreme ov...     0\n",
            "13   COST  [ValiRx (LON:VAL) Stock Price Up 11.1% - Defen...     0\n",
            "14   COST  [Wall Street veteran trader revamps SoFi stock...     0\n",
            "2    COST  [Nvidia Stock Price Prediction: 258% Upside, $...     0\n",
            "17   COST  [ChatGPT-4o predicts Tesla stock price for Rob...     0\n",
            "1    COST  [Veteran fund manager revises Nvidia stock pri...     0\n",
            "7    COST  [Atlantica Stock: Algonquin Dumps For A Low Pr...     0\n",
            "6    COST  [3 Meme Stocks to Buy for Multibagger Returns ...     0\n"
          ]
        },
        {
          "name": "stderr",
          "output_type": "stream",
          "text": [
            "<ipython-input-3-35737c005e65>:26: XMLParsedAsHTMLWarning: It looks like you're parsing an XML document using an HTML parser. If this really is an HTML document (maybe it's XHTML?), you can ignore or filter this warning. If it's XML, you should know that using an XML parser will be more reliable. To parse this document as XML, make sure you have the lxml package installed, and pass the keyword argument `features=\"xml\"` into the BeautifulSoup constructor.\n",
            "  parsed_doc = bs.BeautifulSoup(doc,'lxml')\n"
          ]
        },
        {
          "name": "stdout",
          "output_type": "stream",
          "text": [
            "  Ticker                                             Titles  Date\n",
            "0   CTRA  [Franklin Resources Inc. Decreases Holdings in...     0\n",
            "3   CTRA  [Stock to buy: Anand Rathi recommends Olectra ...     0\n"
          ]
        },
        {
          "name": "stderr",
          "output_type": "stream",
          "text": [
            "<ipython-input-3-35737c005e65>:26: XMLParsedAsHTMLWarning: It looks like you're parsing an XML document using an HTML parser. If this really is an HTML document (maybe it's XHTML?), you can ignore or filter this warning. If it's XML, you should know that using an XML parser will be more reliable. To parse this document as XML, make sure you have the lxml package installed, and pass the keyword argument `features=\"xml\"` into the BeautifulSoup constructor.\n",
            "  parsed_doc = bs.BeautifulSoup(doc,'lxml')\n"
          ]
        },
        {
          "name": "stdout",
          "output_type": "stream",
          "text": [
            "Empty DataFrame\n",
            "Columns: [Ticker, Titles, Date]\n",
            "Index: []\n",
            "  Ticker                                        Titles  Date\n",
            "0    CSX  [(CSX) Trading Report - Stock Traders Daily]     0\n"
          ]
        },
        {
          "name": "stderr",
          "output_type": "stream",
          "text": [
            "<ipython-input-3-35737c005e65>:26: XMLParsedAsHTMLWarning: It looks like you're parsing an XML document using an HTML parser. If this really is an HTML document (maybe it's XHTML?), you can ignore or filter this warning. If it's XML, you should know that using an XML parser will be more reliable. To parse this document as XML, make sure you have the lxml package installed, and pass the keyword argument `features=\"xml\"` into the BeautifulSoup constructor.\n",
            "  parsed_doc = bs.BeautifulSoup(doc,'lxml')\n"
          ]
        },
        {
          "name": "stdout",
          "output_type": "stream",
          "text": [
            "  Ticker                                             Titles  Date\n",
            "0    CMI  [Cambridge Investment Research Advisors Inc. G...     0\n",
            "1    CMI  [Where are the Opportunities in (CMI) - Stock ...     0\n",
            "6    CMI  [Orion Portfolio Solutions LLC Has $3.92 Milli...     0\n"
          ]
        },
        {
          "name": "stderr",
          "output_type": "stream",
          "text": [
            "<ipython-input-3-35737c005e65>:26: XMLParsedAsHTMLWarning: It looks like you're parsing an XML document using an HTML parser. If this really is an HTML document (maybe it's XHTML?), you can ignore or filter this warning. If it's XML, you should know that using an XML parser will be more reliable. To parse this document as XML, make sure you have the lxml package installed, and pass the keyword argument `features=\"xml\"` into the BeautifulSoup constructor.\n",
            "  parsed_doc = bs.BeautifulSoup(doc,'lxml')\n"
          ]
        },
        {
          "name": "stdout",
          "output_type": "stream",
          "text": [
            "  Ticker                                             Titles  Date\n",
            "0    CVS  [How Are CVS Health's Profit Margins Trending?...     0\n",
            "1    CVS  [CVS Health Insiders Sold US$4.2m Of Shares Su...     0\n",
            "2    CVS  [2 Beaten-Down Dividend Stocks to Buy and Hold...     0\n"
          ]
        },
        {
          "name": "stderr",
          "output_type": "stream",
          "text": [
            "<ipython-input-3-35737c005e65>:26: XMLParsedAsHTMLWarning: It looks like you're parsing an XML document using an HTML parser. If this really is an HTML document (maybe it's XHTML?), you can ignore or filter this warning. If it's XML, you should know that using an XML parser will be more reliable. To parse this document as XML, make sure you have the lxml package installed, and pass the keyword argument `features=\"xml\"` into the BeautifulSoup constructor.\n",
            "  parsed_doc = bs.BeautifulSoup(doc,'lxml')\n"
          ]
        },
        {
          "name": "stdout",
          "output_type": "stream",
          "text": [
            "  Ticker                                             Titles  Date\n",
            "0    DHR  [Objective long/short (DHR) Report - Stock Tra...     0\n"
          ]
        },
        {
          "name": "stderr",
          "output_type": "stream",
          "text": [
            "<ipython-input-3-35737c005e65>:26: XMLParsedAsHTMLWarning: It looks like you're parsing an XML document using an HTML parser. If this really is an HTML document (maybe it's XHTML?), you can ignore or filter this warning. If it's XML, you should know that using an XML parser will be more reliable. To parse this document as XML, make sure you have the lxml package installed, and pass the keyword argument `features=\"xml\"` into the BeautifulSoup constructor.\n",
            "  parsed_doc = bs.BeautifulSoup(doc,'lxml')\n"
          ]
        },
        {
          "name": "stdout",
          "output_type": "stream",
          "text": [
            "  Ticker                                             Titles  Date\n",
            "0    DRI  [Darden Restaurants, Inc. (NYSE:DRI) Shares So...     0\n",
            "1    DRI       [(DRI) Technical Data - Stock Traders Daily]     0\n",
            "2    DRI  [Darden Restaurants (NYSE:DRI) PT Lowered to $...     0\n",
            "5    DRI  [356671 Shares in Darden Restaurants, Inc. (NY...     0\n"
          ]
        },
        {
          "name": "stderr",
          "output_type": "stream",
          "text": [
            "<ipython-input-3-35737c005e65>:26: XMLParsedAsHTMLWarning: It looks like you're parsing an XML document using an HTML parser. If this really is an HTML document (maybe it's XHTML?), you can ignore or filter this warning. If it's XML, you should know that using an XML parser will be more reliable. To parse this document as XML, make sure you have the lxml package installed, and pass the keyword argument `features=\"xml\"` into the BeautifulSoup constructor.\n",
            "  parsed_doc = bs.BeautifulSoup(doc,'lxml')\n"
          ]
        },
        {
          "name": "stdout",
          "output_type": "stream",
          "text": [
            "  Ticker                                             Titles  Date\n",
            "0    DVA  [Quadrant Capital Group LLC Sells 202 Shares o...     0\n",
            "1    DVA  [Jump Financial LLC Lowers Position in DaVita ...     0\n",
            "5    DVA  [DaVita Inc. (NYSE:DVA) Shares Sold by Jump Fi...     0\n"
          ]
        },
        {
          "name": "stderr",
          "output_type": "stream",
          "text": [
            "<ipython-input-3-35737c005e65>:26: XMLParsedAsHTMLWarning: It looks like you're parsing an XML document using an HTML parser. If this really is an HTML document (maybe it's XHTML?), you can ignore or filter this warning. If it's XML, you should know that using an XML parser will be more reliable. To parse this document as XML, make sure you have the lxml package installed, and pass the keyword argument `features=\"xml\"` into the BeautifulSoup constructor.\n",
            "  parsed_doc = bs.BeautifulSoup(doc,'lxml')\n"
          ]
        },
        {
          "name": "stdout",
          "output_type": "stream",
          "text": [
            "   Ticker                                             Titles  Date\n",
            "0     DAY  [Stock trade settlement moves to single day as...     0\n",
            "20    DAY  [Stock Futures Mixed to Start Memorial Day Wee...     0\n",
            "26    DAY  [Stock market today: Wall Street drifts in qui...     0\n",
            "29    DAY  [Bharat Dynamics shares fall 7%, snaps 10-day ...     0\n",
            "40    DAY  [Stock markets decline for third day in volati...     0\n",
            "42    DAY  [PM Modi says stock markets will hit record hi...     0\n",
            "52    DAY  [Stock market today: Sensex, Nifty 50 fall for...     0\n",
            "19    DAY  [Trade of the Day: Bet That XPeng (XPEV) Stock...     0\n",
            "53    DAY  [Stock markets fall for third day ahead of pol...     0\n",
            "67    DAY  [Share market update: Most active stocks of th...     0\n",
            "69    DAY  [Option Strategy of the Day | Positive bias in...     0\n",
            "72    DAY  [Bharat Dynamics shares fall 7%, snap 10-day g...     0\n",
            "85    DAY  [IIFL Finance delays Q4, FY24 earnings; stock ...     0\n",
            "88    DAY  [Bharat Dynamics shares tank 7% on profit book...     0\n",
            "90    DAY  [Closing Bell: Nifty below 22,900, Sensex fall...     0\n",
            "63    DAY  [US Returns to Single-Day Trade Settlements wi...     0\n",
            "18    DAY  [Stock market today: Wall Street drifts in qui...     0\n",
            "49    DAY  [Invesco CurrencyShares Euro Trust (NYSEARCA:F...     0\n",
            "16    DAY  [Stock market today: Wall Street drifts in qui...     0\n",
            "9     DAY  [What A Shorter Stock Trade Settlement Cycle—K...     0\n",
            "8     DAY  [Proposed Illinois Gambling Tax Hits DraftKing...     0\n",
            "1     DAY  [Stock market today: Wall Street drifts in qui...     0\n",
            "12    DAY  [Magnificent Seven Stocks: Nvidia Stock Hits R...     0\n",
            "3     DAY  [Celsius Stock Got a Price Target Boost. Why S...     0\n",
            "6     DAY  [Dow Jones Pulls Back, Nvidia Stock helps Lift...     0\n",
            "2     DAY  [Stock Trades Will Settle One Day Faster With ...     0\n",
            "5     DAY  [Wall Street Returns to T+1 Stock Trading, Spe...     0\n",
            "15    DAY  [Memorial Day open and closed: stocks, banks, ...     0\n",
            "14    DAY  [Stock Market Today: Dow Jones Falls As Nvidia...     0\n"
          ]
        },
        {
          "name": "stderr",
          "output_type": "stream",
          "text": [
            "<ipython-input-3-35737c005e65>:26: XMLParsedAsHTMLWarning: It looks like you're parsing an XML document using an HTML parser. If this really is an HTML document (maybe it's XHTML?), you can ignore or filter this warning. If it's XML, you should know that using an XML parser will be more reliable. To parse this document as XML, make sure you have the lxml package installed, and pass the keyword argument `features=\"xml\"` into the BeautifulSoup constructor.\n",
            "  parsed_doc = bs.BeautifulSoup(doc,'lxml')\n"
          ]
        },
        {
          "name": "stdout",
          "output_type": "stream",
          "text": [
            "   Ticker                                             Titles  Date\n",
            "0    DECK  [Why Deckers (DECK) is a Top Growth Stock for ...     0\n",
            "15   DECK  [Deckers Outdoor (NYSE:DECK) Lifted to “Buy” a...     0\n",
            "11   DECK  [Deckers Outdoor Co. (NYSE:DECK) Shares Purcha...     0\n",
            "1    DECK  [Why Deckers (DECK) is a Top Growth Stock for ...     0\n",
            "2    DECK  [Deckers Outdoor Co. (NYSE:DECK) Shares Purcha...     0\n"
          ]
        },
        {
          "name": "stderr",
          "output_type": "stream",
          "text": [
            "<ipython-input-3-35737c005e65>:26: XMLParsedAsHTMLWarning: It looks like you're parsing an XML document using an HTML parser. If this really is an HTML document (maybe it's XHTML?), you can ignore or filter this warning. If it's XML, you should know that using an XML parser will be more reliable. To parse this document as XML, make sure you have the lxml package installed, and pass the keyword argument `features=\"xml\"` into the BeautifulSoup constructor.\n",
            "  parsed_doc = bs.BeautifulSoup(doc,'lxml')\n"
          ]
        },
        {
          "name": "stdout",
          "output_type": "stream",
          "text": [
            "   Ticker                                             Titles  Date\n",
            "0      DE  [US Bancorp DE Has $9.20 Million Stock Holding...     0\n",
            "19     DE  [US Bancorp DE Acquires 3596 Shares of CoStar ...     0\n",
            "18     DE  [Organigram Holdings Inc. (TSE:OGI) Senior Off...     0\n",
            "17     DE  [US Bancorp DE Acquires 9537 Shares of STERIS ...     0\n",
            "16     DE  [US Bancorp DE Purchases 1275 Shares of Veeva ...     0\n",
            "15     DE  [Avery Dennison Co. (NYSE:AVY) Shares Purchase...     0\n",
            "13     DE  [US Bancorp DE Sells 93 Shares of West Pharmac...     0\n",
            "12     DE  [US Bancorp DE Sells 481 Shares of FactSet Res...     0\n",
            "11     DE  [US Bancorp DE Sells 8331 Shares of Fomento Ec...     0\n",
            "10     DE  [US Bancorp DE Sells 1489 Shares of Williams-S...     0\n",
            "14     DE  [Saia, Inc. (NASDAQ:SAIA) Shares Acquired by U...     0\n",
            "8      DE  [First Trust Water ETF (NYSEARCA:FIW) Shares S...     0\n",
            "7      DE  [US Bancorp DE Decreases Stock Holdings in Amc...     0\n",
            "5      DE  [Snowflake Inc. (NYSE:SNOW) Stock Position Inc...     0\n",
            "3      DE  [US Bancorp DE Cuts Stock Holdings in Las Vega...     0\n",
            "9      DE  [Agilent Technologies, Inc. (NYSE:A) Shares Bo...     0\n"
          ]
        },
        {
          "name": "stderr",
          "output_type": "stream",
          "text": [
            "<ipython-input-3-35737c005e65>:26: XMLParsedAsHTMLWarning: It looks like you're parsing an XML document using an HTML parser. If this really is an HTML document (maybe it's XHTML?), you can ignore or filter this warning. If it's XML, you should know that using an XML parser will be more reliable. To parse this document as XML, make sure you have the lxml package installed, and pass the keyword argument `features=\"xml\"` into the BeautifulSoup constructor.\n",
            "  parsed_doc = bs.BeautifulSoup(doc,'lxml')\n"
          ]
        },
        {
          "name": "stdout",
          "output_type": "stream",
          "text": [
            "  Ticker                                             Titles  Date\n",
            "0    DAL  [Here's Why Delta Air Lines (DAL) is a Strong ...     0\n",
            "1    DAL  [Here's Why Delta Air Lines (DAL) is a Strong ...     0\n",
            "4    DAL  [DAL, UAL: Why These Airline Stocks Deserve Th...     0\n"
          ]
        },
        {
          "name": "stderr",
          "output_type": "stream",
          "text": [
            "<ipython-input-3-35737c005e65>:26: XMLParsedAsHTMLWarning: It looks like you're parsing an XML document using an HTML parser. If this really is an HTML document (maybe it's XHTML?), you can ignore or filter this warning. If it's XML, you should know that using an XML parser will be more reliable. To parse this document as XML, make sure you have the lxml package installed, and pass the keyword argument `features=\"xml\"` into the BeautifulSoup constructor.\n",
            "  parsed_doc = bs.BeautifulSoup(doc,'lxml')\n"
          ]
        },
        {
          "name": "stdout",
          "output_type": "stream",
          "text": [
            "  Ticker                                             Titles  Date\n",
            "0    DVN  [Is Trending Stock Devon Energy Corporation (D...     0\n",
            "1    DVN  [Devon Energy Co. (NYSE:DVN) Shares Sold by Tr...     0\n"
          ]
        },
        {
          "name": "stderr",
          "output_type": "stream",
          "text": [
            "<ipython-input-3-35737c005e65>:26: XMLParsedAsHTMLWarning: It looks like you're parsing an XML document using an HTML parser. If this really is an HTML document (maybe it's XHTML?), you can ignore or filter this warning. If it's XML, you should know that using an XML parser will be more reliable. To parse this document as XML, make sure you have the lxml package installed, and pass the keyword argument `features=\"xml\"` into the BeautifulSoup constructor.\n",
            "  parsed_doc = bs.BeautifulSoup(doc,'lxml')\n"
          ]
        },
        {
          "name": "stdout",
          "output_type": "stream",
          "text": [
            "  Ticker                                             Titles  Date\n",
            "1   DXCM  [DexCom, Inc. (NASDAQ:DXCM) Given Consensus Re...     0\n"
          ]
        },
        {
          "name": "stderr",
          "output_type": "stream",
          "text": [
            "<ipython-input-3-35737c005e65>:26: XMLParsedAsHTMLWarning: It looks like you're parsing an XML document using an HTML parser. If this really is an HTML document (maybe it's XHTML?), you can ignore or filter this warning. If it's XML, you should know that using an XML parser will be more reliable. To parse this document as XML, make sure you have the lxml package installed, and pass the keyword argument `features=\"xml\"` into the BeautifulSoup constructor.\n",
            "  parsed_doc = bs.BeautifulSoup(doc,'lxml')\n"
          ]
        },
        {
          "name": "stdout",
          "output_type": "stream",
          "text": [
            "  Ticker                                             Titles  Date\n",
            "0   FANG  [Do Options Traders Know Something About Diamo...     0\n",
            "4   FANG  [Diamondback Energy (NASDAQ:FANG) Downgraded t...     0\n"
          ]
        },
        {
          "name": "stderr",
          "output_type": "stream",
          "text": [
            "<ipython-input-3-35737c005e65>:26: XMLParsedAsHTMLWarning: It looks like you're parsing an XML document using an HTML parser. If this really is an HTML document (maybe it's XHTML?), you can ignore or filter this warning. If it's XML, you should know that using an XML parser will be more reliable. To parse this document as XML, make sure you have the lxml package installed, and pass the keyword argument `features=\"xml\"` into the BeautifulSoup constructor.\n",
            "  parsed_doc = bs.BeautifulSoup(doc,'lxml')\n"
          ]
        },
        {
          "name": "stdout",
          "output_type": "stream",
          "text": [
            "  Ticker                                             Titles  Date\n",
            "0    DLR  [(DLR) Technical Pivots with Risk Controls - S...     0\n",
            "1    DLR  [21,247 Shares in Digital Realty Trust, Inc. (...     0\n"
          ]
        },
        {
          "name": "stderr",
          "output_type": "stream",
          "text": [
            "<ipython-input-3-35737c005e65>:26: XMLParsedAsHTMLWarning: It looks like you're parsing an XML document using an HTML parser. If this really is an HTML document (maybe it's XHTML?), you can ignore or filter this warning. If it's XML, you should know that using an XML parser will be more reliable. To parse this document as XML, make sure you have the lxml package installed, and pass the keyword argument `features=\"xml\"` into the BeautifulSoup constructor.\n",
            "  parsed_doc = bs.BeautifulSoup(doc,'lxml')\n"
          ]
        },
        {
          "name": "stdout",
          "output_type": "stream",
          "text": [
            "  Ticker                                             Titles  Date\n",
            "0    DFS  [Why You Should Bet on Discover Financial (DFS...     0\n"
          ]
        },
        {
          "name": "stderr",
          "output_type": "stream",
          "text": [
            "<ipython-input-3-35737c005e65>:26: XMLParsedAsHTMLWarning: It looks like you're parsing an XML document using an HTML parser. If this really is an HTML document (maybe it's XHTML?), you can ignore or filter this warning. If it's XML, you should know that using an XML parser will be more reliable. To parse this document as XML, make sure you have the lxml package installed, and pass the keyword argument `features=\"xml\"` into the BeautifulSoup constructor.\n",
            "  parsed_doc = bs.BeautifulSoup(doc,'lxml')\n"
          ]
        },
        {
          "name": "stdout",
          "output_type": "stream",
          "text": [
            "  Ticker                                             Titles  Date\n",
            "0     DG  [Commerce Bank Sells 1413 Shares of Dollar Gen...     0\n",
            "1     DG  [Dollar General Co. (NYSE:DG) Shares Purchased...     0\n",
            "2     DG  [When (DG) Moves Investors should Listen - Sto...     0\n",
            "3     DG  [Dollar General Stock Double Play: Owning The ...     0\n",
            "8     DG  [Dollar General Co. (NYSE:DG) Shares Sold by C...     0\n"
          ]
        },
        {
          "name": "stderr",
          "output_type": "stream",
          "text": [
            "<ipython-input-3-35737c005e65>:26: XMLParsedAsHTMLWarning: It looks like you're parsing an XML document using an HTML parser. If this really is an HTML document (maybe it's XHTML?), you can ignore or filter this warning. If it's XML, you should know that using an XML parser will be more reliable. To parse this document as XML, make sure you have the lxml package installed, and pass the keyword argument `features=\"xml\"` into the BeautifulSoup constructor.\n",
            "  parsed_doc = bs.BeautifulSoup(doc,'lxml')\n"
          ]
        },
        {
          "name": "stdout",
          "output_type": "stream",
          "text": [
            "  Ticker                                             Titles  Date\n",
            "3   DLTR  [Cracker Barrel (CBRL) to Post Q3 Earnings: Wh...     0\n"
          ]
        },
        {
          "name": "stderr",
          "output_type": "stream",
          "text": [
            "<ipython-input-3-35737c005e65>:26: XMLParsedAsHTMLWarning: It looks like you're parsing an XML document using an HTML parser. If this really is an HTML document (maybe it's XHTML?), you can ignore or filter this warning. If it's XML, you should know that using an XML parser will be more reliable. To parse this document as XML, make sure you have the lxml package installed, and pass the keyword argument `features=\"xml\"` into the BeautifulSoup constructor.\n",
            "  parsed_doc = bs.BeautifulSoup(doc,'lxml')\n"
          ]
        },
        {
          "name": "stdout",
          "output_type": "stream",
          "text": [
            "   Ticker                                             Titles  Date\n",
            "2       D  [Share market update: Most active stocks on D-...     0\n",
            "51      D  [Election creates Rs 26 lakh crore stock boom....     0\n"
          ]
        },
        {
          "name": "stderr",
          "output_type": "stream",
          "text": [
            "<ipython-input-3-35737c005e65>:26: XMLParsedAsHTMLWarning: It looks like you're parsing an XML document using an HTML parser. If this really is an HTML document (maybe it's XHTML?), you can ignore or filter this warning. If it's XML, you should know that using an XML parser will be more reliable. To parse this document as XML, make sure you have the lxml package installed, and pass the keyword argument `features=\"xml\"` into the BeautifulSoup constructor.\n",
            "  parsed_doc = bs.BeautifulSoup(doc,'lxml')\n"
          ]
        },
        {
          "name": "stdout",
          "output_type": "stream",
          "text": [
            "  Ticker                                             Titles  Date\n",
            "0    DPZ  [Domino's Pizza, Inc. (NYSE:DPZ) Shares Acquir...     0\n",
            "1    DPZ  [When the Price of (DPZ) Talks, People Listen ...     0\n",
            "9    DPZ  [Dimensional Fund Advisors LP Has $56.39 Milli...     0\n"
          ]
        },
        {
          "name": "stderr",
          "output_type": "stream",
          "text": [
            "<ipython-input-3-35737c005e65>:26: XMLParsedAsHTMLWarning: It looks like you're parsing an XML document using an HTML parser. If this really is an HTML document (maybe it's XHTML?), you can ignore or filter this warning. If it's XML, you should know that using an XML parser will be more reliable. To parse this document as XML, make sure you have the lxml package installed, and pass the keyword argument `features=\"xml\"` into the BeautifulSoup constructor.\n",
            "  parsed_doc = bs.BeautifulSoup(doc,'lxml')\n"
          ]
        },
        {
          "name": "stdout",
          "output_type": "stream",
          "text": [
            "   Ticker                                             Titles  Date\n",
            "0     DOV  [Dover Co. (NYSE:DOV) Given Average Rating of ...     0\n",
            "90    DOV  [Dover Corp. (DOV) did well last session? – US...     0\n",
            "77    DOV  [(DOV) Investment Analysis and Advice - Stock ...     0\n"
          ]
        },
        {
          "name": "stderr",
          "output_type": "stream",
          "text": [
            "<ipython-input-3-35737c005e65>:26: XMLParsedAsHTMLWarning: It looks like you're parsing an XML document using an HTML parser. If this really is an HTML document (maybe it's XHTML?), you can ignore or filter this warning. If it's XML, you should know that using an XML parser will be more reliable. To parse this document as XML, make sure you have the lxml package installed, and pass the keyword argument `features=\"xml\"` into the BeautifulSoup constructor.\n",
            "  parsed_doc = bs.BeautifulSoup(doc,'lxml')\n"
          ]
        },
        {
          "name": "stdout",
          "output_type": "stream",
          "text": [
            "   Ticker                                             Titles  Date\n",
            "0     DOW  [Dow slides nearly 300 points as higher rates ...     0\n",
            "37    DOW  [NASDAQ Index, SP500, Dow Jones Forecasts – NA...     0\n",
            "28    DOW  [Dow Jones Industrial Average backslides on Tu...     0\n",
            "47    DOW  [Stock Market News Today: Markets mixed, Nasda...     0\n",
            "26    DOW  [Nasdaq Index, Dow Jones, S&P 500 News: Nvidia...     0\n",
            "70    DOW  [Merck, Salesforce share losses lead Dow's nea...     0\n",
            "22    DOW  [Nasdaq 100, Dow Jones, S&P 500 News: Mixed wi...     0\n",
            "21    DOW  [Dow Jones Tech Giant Apple Stock Nears Buy Po...     0\n",
            "20    DOW  [Dow Futures Fall, But Techs Rise As Apple, Nv...     0\n",
            "19    DOW  [Dow Jones Futures Fall, But Nvidia Leads Tech...     0\n",
            "18    DOW  [Stocks mixed ahead of Friday's PCE, Dow opens...     0\n",
            "17    DOW  [Merck, Amgen share losses contribute to Dow's...     0\n",
            "36    DOW  [3 Dow Stocks That Are Must Buys in June - 24/...     0\n",
            "15    DOW  [3 Dow Stocks to Sell With More Downside to Co...     0\n",
            "16    DOW  [Is Dow Inc. (NYSE:DOW) Potentially Undervalue...     0\n",
            "13    DOW  [Dow Jones Pulls Back, Nvidia Stock helps Lift...     0\n",
            "1     DOW  [Stock Market Today: Dow Slips, Nasdaq Hits Re...     0\n",
            "2     DOW  [Stock market today: Stocks mixed as focus tur...     0\n",
            "4     DOW  [Nasdaq, S&P, Dow are mixed as markets return ...     0\n",
            "14    DOW  [Dow Jones 40,000: Investors Dig In - The Motl...     0\n",
            "6     DOW  [Wall Street today: US stocks mixed, Nasdaq cr...     0\n",
            "75    DOW  [Dow Dips Over 100 Points; GameStop Shares Spi...     0\n",
            "8     DOW  [U.S. Stock Futures Mixed as Markets Brace for...     0\n",
            "9     DOW  [Stock Market Today: Dow Jones Falls As Nvidia...     0\n",
            "10    DOW  [Dow Jones Today: Nvidia Soars to Record; Risi...     0\n",
            "11    DOW  [Dow's 325-point fall led by losses for Merck,...     0\n",
            "12    DOW  [Stock Market Today: GameStop Stock Jumps, Dow...     0\n",
            "7     DOW  [Nasdaq eyes fresh record as holiday-shortened...     0\n",
            "34    DOW  [Stock Trades Will Settle One Day Faster With ...     0\n"
          ]
        },
        {
          "name": "stderr",
          "output_type": "stream",
          "text": [
            "<ipython-input-3-35737c005e65>:26: XMLParsedAsHTMLWarning: It looks like you're parsing an XML document using an HTML parser. If this really is an HTML document (maybe it's XHTML?), you can ignore or filter this warning. If it's XML, you should know that using an XML parser will be more reliable. To parse this document as XML, make sure you have the lxml package installed, and pass the keyword argument `features=\"xml\"` into the BeautifulSoup constructor.\n",
            "  parsed_doc = bs.BeautifulSoup(doc,'lxml')\n"
          ]
        },
        {
          "name": "stdout",
          "output_type": "stream",
          "text": [
            "  Ticker                                             Titles  Date\n",
            "0    DHI  [D.R. Horton (DHI) Stock Moves -0.16%: What Yo...     0\n",
            "1    DHI  [Long Term Trading Analysis for (DHI) - Stock ...     0\n"
          ]
        },
        {
          "name": "stderr",
          "output_type": "stream",
          "text": [
            "<ipython-input-3-35737c005e65>:26: XMLParsedAsHTMLWarning: It looks like you're parsing an XML document using an HTML parser. If this really is an HTML document (maybe it's XHTML?), you can ignore or filter this warning. If it's XML, you should know that using an XML parser will be more reliable. To parse this document as XML, make sure you have the lxml package installed, and pass the keyword argument `features=\"xml\"` into the BeautifulSoup constructor.\n",
            "  parsed_doc = bs.BeautifulSoup(doc,'lxml')\n"
          ]
        },
        {
          "name": "stdout",
          "output_type": "stream",
          "text": [
            "  Ticker                                             Titles  Date\n",
            "0    DTE  [DTE Energy (NYSE:DTE) Shares Bought by UBS Gr...     0\n",
            "1    DTE  [(DTE) Investment Analysis - Stock Traders Daily]     0\n",
            "3    DTE  [DTE Energy (NYSE:DTE) Receives Average Recomm...     0\n",
            "5    DTE  [Commerce Bank Has $2.24 Million Stock Positio...     0\n"
          ]
        },
        {
          "name": "stderr",
          "output_type": "stream",
          "text": [
            "<ipython-input-3-35737c005e65>:26: XMLParsedAsHTMLWarning: It looks like you're parsing an XML document using an HTML parser. If this really is an HTML document (maybe it's XHTML?), you can ignore or filter this warning. If it's XML, you should know that using an XML parser will be more reliable. To parse this document as XML, make sure you have the lxml package installed, and pass the keyword argument `features=\"xml\"` into the BeautifulSoup constructor.\n",
            "  parsed_doc = bs.BeautifulSoup(doc,'lxml')\n"
          ]
        },
        {
          "name": "stdout",
          "output_type": "stream",
          "text": [
            "  Ticker                                             Titles  Date\n",
            "0    DUK  [Here Funds are Buying Duke Energy Corp (NYSE:...     0\n",
            "1    DUK  [How to Take Advantage of moves in (DUK) - Sto...     0\n"
          ]
        },
        {
          "name": "stderr",
          "output_type": "stream",
          "text": [
            "<ipython-input-3-35737c005e65>:26: XMLParsedAsHTMLWarning: It looks like you're parsing an XML document using an HTML parser. If this really is an HTML document (maybe it's XHTML?), you can ignore or filter this warning. If it's XML, you should know that using an XML parser will be more reliable. To parse this document as XML, make sure you have the lxml package installed, and pass the keyword argument `features=\"xml\"` into the BeautifulSoup constructor.\n",
            "  parsed_doc = bs.BeautifulSoup(doc,'lxml')\n"
          ]
        },
        {
          "name": "stdout",
          "output_type": "stream",
          "text": [
            "  Ticker                                             Titles  Date\n",
            "0     DD  [DuPont Stock Is Rising. Wall Street Likes the...     0\n",
            "2     DD  [(DD) On The My Stocks Page - Stock Traders Da...     0\n",
            "5     DD  [DuPont's (DD) Tedlar Features Aerospace Innov...     0\n"
          ]
        },
        {
          "name": "stderr",
          "output_type": "stream",
          "text": [
            "<ipython-input-3-35737c005e65>:26: XMLParsedAsHTMLWarning: It looks like you're parsing an XML document using an HTML parser. If this really is an HTML document (maybe it's XHTML?), you can ignore or filter this warning. If it's XML, you should know that using an XML parser will be more reliable. To parse this document as XML, make sure you have the lxml package installed, and pass the keyword argument `features=\"xml\"` into the BeautifulSoup constructor.\n",
            "  parsed_doc = bs.BeautifulSoup(doc,'lxml')\n"
          ]
        },
        {
          "name": "stdout",
          "output_type": "stream",
          "text": [
            "  Ticker                                             Titles  Date\n",
            "0    EMN  [Are Investors Undervaluing Eastman Chemical (...     0\n",
            "1    EMN  [(EMN) Pivots Trading Plans and Risk Controls ...     0\n",
            "2    EMN  [Brown Advisory Inc. Sells 760 Shares of Eastm...     0\n"
          ]
        },
        {
          "name": "stderr",
          "output_type": "stream",
          "text": [
            "<ipython-input-3-35737c005e65>:26: XMLParsedAsHTMLWarning: It looks like you're parsing an XML document using an HTML parser. If this really is an HTML document (maybe it's XHTML?), you can ignore or filter this warning. If it's XML, you should know that using an XML parser will be more reliable. To parse this document as XML, make sure you have the lxml package installed, and pass the keyword argument `features=\"xml\"` into the BeautifulSoup constructor.\n",
            "  parsed_doc = bs.BeautifulSoup(doc,'lxml')\n"
          ]
        },
        {
          "name": "stdout",
          "output_type": "stream",
          "text": [
            "  Ticker                                             Titles  Date\n",
            "0    ETN  [Learn to Evaluate (ETN) using the Charts - St...     0\n"
          ]
        },
        {
          "name": "stderr",
          "output_type": "stream",
          "text": [
            "<ipython-input-3-35737c005e65>:26: XMLParsedAsHTMLWarning: It looks like you're parsing an XML document using an HTML parser. If this really is an HTML document (maybe it's XHTML?), you can ignore or filter this warning. If it's XML, you should know that using an XML parser will be more reliable. To parse this document as XML, make sure you have the lxml package installed, and pass the keyword argument `features=\"xml\"` into the BeautifulSoup constructor.\n",
            "  parsed_doc = bs.BeautifulSoup(doc,'lxml')\n"
          ]
        },
        {
          "name": "stdout",
          "output_type": "stream",
          "text": [
            "  Ticker                                             Titles  Date\n",
            "0   EBAY  [eBay: Can Stock’s Impressive 2024 Run Continu...     0\n",
            "1   EBAY  [Assetmark Inc. Purchases 6258 Shares of eBay ...     0\n"
          ]
        },
        {
          "name": "stderr",
          "output_type": "stream",
          "text": [
            "<ipython-input-3-35737c005e65>:26: XMLParsedAsHTMLWarning: It looks like you're parsing an XML document using an HTML parser. If this really is an HTML document (maybe it's XHTML?), you can ignore or filter this warning. If it's XML, you should know that using an XML parser will be more reliable. To parse this document as XML, make sure you have the lxml package installed, and pass the keyword argument `features=\"xml\"` into the BeautifulSoup constructor.\n",
            "  parsed_doc = bs.BeautifulSoup(doc,'lxml')\n"
          ]
        },
        {
          "name": "stdout",
          "output_type": "stream",
          "text": [
            "  Ticker                                             Titles  Date\n",
            "0    ECL  [How the (ECL) price action is used to our Adv...     0\n"
          ]
        },
        {
          "name": "stderr",
          "output_type": "stream",
          "text": [
            "<ipython-input-3-35737c005e65>:26: XMLParsedAsHTMLWarning: It looks like you're parsing an XML document using an HTML parser. If this really is an HTML document (maybe it's XHTML?), you can ignore or filter this warning. If it's XML, you should know that using an XML parser will be more reliable. To parse this document as XML, make sure you have the lxml package installed, and pass the keyword argument `features=\"xml\"` into the BeautifulSoup constructor.\n",
            "  parsed_doc = bs.BeautifulSoup(doc,'lxml')\n"
          ]
        },
        {
          "name": "stdout",
          "output_type": "stream",
          "text": [
            "  Ticker                                             Titles  Date\n",
            "0    EIX  [Wells Fargo & Company MN Trims Stake in Ediso...     0\n",
            "1    EIX    [(EIX) Investment Report - Stock Traders Daily]     0\n"
          ]
        },
        {
          "name": "stderr",
          "output_type": "stream",
          "text": [
            "<ipython-input-3-35737c005e65>:26: XMLParsedAsHTMLWarning: It looks like you're parsing an XML document using an HTML parser. If this really is an HTML document (maybe it's XHTML?), you can ignore or filter this warning. If it's XML, you should know that using an XML parser will be more reliable. To parse this document as XML, make sure you have the lxml package installed, and pass the keyword argument `features=\"xml\"` into the BeautifulSoup constructor.\n",
            "  parsed_doc = bs.BeautifulSoup(doc,'lxml')\n"
          ]
        },
        {
          "name": "stdout",
          "output_type": "stream",
          "text": [
            "  Ticker                                             Titles  Date\n",
            "0     EW  [Long Term Trading Analysis for (EW) - Stock T...     0\n"
          ]
        },
        {
          "name": "stderr",
          "output_type": "stream",
          "text": [
            "<ipython-input-3-35737c005e65>:26: XMLParsedAsHTMLWarning: It looks like you're parsing an XML document using an HTML parser. If this really is an HTML document (maybe it's XHTML?), you can ignore or filter this warning. If it's XML, you should know that using an XML parser will be more reliable. To parse this document as XML, make sure you have the lxml package installed, and pass the keyword argument `features=\"xml\"` into the BeautifulSoup constructor.\n",
            "  parsed_doc = bs.BeautifulSoup(doc,'lxml')\n"
          ]
        },
        {
          "name": "stdout",
          "output_type": "stream",
          "text": [
            "Empty DataFrame\n",
            "Columns: [Ticker, Titles, Date]\n",
            "Index: []\n",
            "  Ticker                                             Titles  Date\n",
            "0    ELV  [Why Elevance Health (ELV) is a Top Growth Sto...     0\n",
            "1    ELV  [Why Elevance Health (ELV) is a Top Growth Sto...     0\n",
            "2    ELV  [Advisory Services Network LLC Cuts Holdings i...     0\n"
          ]
        },
        {
          "name": "stderr",
          "output_type": "stream",
          "text": [
            "<ipython-input-3-35737c005e65>:26: XMLParsedAsHTMLWarning: It looks like you're parsing an XML document using an HTML parser. If this really is an HTML document (maybe it's XHTML?), you can ignore or filter this warning. If it's XML, you should know that using an XML parser will be more reliable. To parse this document as XML, make sure you have the lxml package installed, and pass the keyword argument `features=\"xml\"` into the BeautifulSoup constructor.\n",
            "  parsed_doc = bs.BeautifulSoup(doc,'lxml')\n"
          ]
        },
        {
          "name": "stdout",
          "output_type": "stream",
          "text": [
            "  Ticker                                             Titles  Date\n",
            "0    LLY  [Eli Lilly and Company (LLY) Is a Trending Sto...     0\n",
            "3    LLY  [The Dividend Acceleration Squad: 3 Stocks Wit...     0\n"
          ]
        },
        {
          "name": "stderr",
          "output_type": "stream",
          "text": [
            "<ipython-input-3-35737c005e65>:26: XMLParsedAsHTMLWarning: It looks like you're parsing an XML document using an HTML parser. If this really is an HTML document (maybe it's XHTML?), you can ignore or filter this warning. If it's XML, you should know that using an XML parser will be more reliable. To parse this document as XML, make sure you have the lxml package installed, and pass the keyword argument `features=\"xml\"` into the BeautifulSoup constructor.\n",
            "  parsed_doc = bs.BeautifulSoup(doc,'lxml')\n"
          ]
        },
        {
          "name": "stdout",
          "output_type": "stream",
          "text": [
            "  Ticker                                             Titles  Date\n",
            "0    EMR  [Emerson Electric (EMR) Is Considered a Good I...     0\n",
            "1    EMR  [Advisory Services Network LLC Cuts Holdings i...     0\n",
            "2    EMR      [(EMR) Trading Signals - Stock Traders Daily]     0\n"
          ]
        },
        {
          "name": "stderr",
          "output_type": "stream",
          "text": [
            "<ipython-input-3-35737c005e65>:26: XMLParsedAsHTMLWarning: It looks like you're parsing an XML document using an HTML parser. If this really is an HTML document (maybe it's XHTML?), you can ignore or filter this warning. If it's XML, you should know that using an XML parser will be more reliable. To parse this document as XML, make sure you have the lxml package installed, and pass the keyword argument `features=\"xml\"` into the BeautifulSoup constructor.\n",
            "  parsed_doc = bs.BeautifulSoup(doc,'lxml')\n"
          ]
        },
        {
          "name": "stdout",
          "output_type": "stream",
          "text": [
            "  Ticker                                             Titles  Date\n",
            "0   ENPH  [Investors Heavily Search Enphase Energy, Inc....     0\n",
            "2   ENPH  [Market Whales and Their Recent Bets on ENPH O...     0\n"
          ]
        },
        {
          "name": "stderr",
          "output_type": "stream",
          "text": [
            "<ipython-input-3-35737c005e65>:26: XMLParsedAsHTMLWarning: It looks like you're parsing an XML document using an HTML parser. If this really is an HTML document (maybe it's XHTML?), you can ignore or filter this warning. If it's XML, you should know that using an XML parser will be more reliable. To parse this document as XML, make sure you have the lxml package installed, and pass the keyword argument `features=\"xml\"` into the BeautifulSoup constructor.\n",
            "  parsed_doc = bs.BeautifulSoup(doc,'lxml')\n"
          ]
        },
        {
          "name": "stdout",
          "output_type": "stream",
          "text": [
            "   Ticker                                             Titles  Date\n",
            "0     ETR  [At €29.20, Is Fresenius SE & Co. KGaA (ETR:FR...     0\n",
            "1     ETR  [Brown Advisory Inc. Lowers Position in Enterg...     0\n",
            "13    ETR  [Ringmetall's (ETR:HP3A) investors will be ple...     0\n",
            "5     ETR  [MLP (ETR:MLP) Has Affirmed Its Dividend Of €0...     0\n",
            "7     ETR  [Volkswagen (ETR:VOW3) Shares Pass Above 200-D...     0\n"
          ]
        },
        {
          "name": "stderr",
          "output_type": "stream",
          "text": [
            "<ipython-input-3-35737c005e65>:26: XMLParsedAsHTMLWarning: It looks like you're parsing an XML document using an HTML parser. If this really is an HTML document (maybe it's XHTML?), you can ignore or filter this warning. If it's XML, you should know that using an XML parser will be more reliable. To parse this document as XML, make sure you have the lxml package installed, and pass the keyword argument `features=\"xml\"` into the BeautifulSoup constructor.\n",
            "  parsed_doc = bs.BeautifulSoup(doc,'lxml')\n"
          ]
        },
        {
          "name": "stdout",
          "output_type": "stream",
          "text": [
            "  Ticker                                             Titles  Date\n",
            "0    EOG  [Here's Why Hold Strategy is Apt for EOG Resou...     0\n",
            "1    EOG  [Orion Portfolio Solutions LLC Raises Position...     0\n",
            "3    EOG  [BP, EOG Resources in talks to jointly develop...     0\n",
            "4    EOG  [When the Price of (EOG) Talks, People Listen ...     0\n",
            "6    EOG  [BP and EOG Resources to Develop Major Trinida...     0\n"
          ]
        },
        {
          "name": "stderr",
          "output_type": "stream",
          "text": [
            "<ipython-input-3-35737c005e65>:26: XMLParsedAsHTMLWarning: It looks like you're parsing an XML document using an HTML parser. If this really is an HTML document (maybe it's XHTML?), you can ignore or filter this warning. If it's XML, you should know that using an XML parser will be more reliable. To parse this document as XML, make sure you have the lxml package installed, and pass the keyword argument `features=\"xml\"` into the BeautifulSoup constructor.\n",
            "  parsed_doc = bs.BeautifulSoup(doc,'lxml')\n"
          ]
        },
        {
          "name": "stdout",
          "output_type": "stream",
          "text": [
            "Empty DataFrame\n",
            "Columns: [Ticker, Titles, Date]\n",
            "Index: []\n",
            "  Ticker                                             Titles  Date\n",
            "0    EQT  [EQT Co. (NYSE:EQT) Given Average Recommendati...     0\n",
            "1    EQT  [How to Take Advantage of moves in (EQT) - Sto...     0\n"
          ]
        },
        {
          "name": "stderr",
          "output_type": "stream",
          "text": [
            "<ipython-input-3-35737c005e65>:26: XMLParsedAsHTMLWarning: It looks like you're parsing an XML document using an HTML parser. If this really is an HTML document (maybe it's XHTML?), you can ignore or filter this warning. If it's XML, you should know that using an XML parser will be more reliable. To parse this document as XML, make sure you have the lxml package installed, and pass the keyword argument `features=\"xml\"` into the BeautifulSoup constructor.\n",
            "  parsed_doc = bs.BeautifulSoup(doc,'lxml')\n"
          ]
        },
        {
          "name": "stdout",
          "output_type": "stream",
          "text": [
            "  Ticker                                             Titles  Date\n",
            "0    EFX  [Where are the Opportunities in (EFX) - Stock ...     0\n"
          ]
        },
        {
          "name": "stderr",
          "output_type": "stream",
          "text": [
            "<ipython-input-3-35737c005e65>:26: XMLParsedAsHTMLWarning: It looks like you're parsing an XML document using an HTML parser. If this really is an HTML document (maybe it's XHTML?), you can ignore or filter this warning. If it's XML, you should know that using an XML parser will be more reliable. To parse this document as XML, make sure you have the lxml package installed, and pass the keyword argument `features=\"xml\"` into the BeautifulSoup constructor.\n",
            "  parsed_doc = bs.BeautifulSoup(doc,'lxml')\n"
          ]
        },
        {
          "name": "stdout",
          "output_type": "stream",
          "text": [
            "   Ticker                                             Titles  Date\n",
            "0    EQIX  [EQUINIX, INC. (NASDAQ: EQIX) DEADLINE ALERT: ...     0\n",
            "1    EQIX  [Brown Advisory Inc. Buys New Stake in Equinix...     0\n",
            "2    EQIX  [Analyst Expectations For Equinix's Future - E...     0\n",
            "13   EQIX  [Corient Private Wealth LLC Has $4.77 Million ...     0\n"
          ]
        },
        {
          "name": "stderr",
          "output_type": "stream",
          "text": [
            "<ipython-input-3-35737c005e65>:26: XMLParsedAsHTMLWarning: It looks like you're parsing an XML document using an HTML parser. If this really is an HTML document (maybe it's XHTML?), you can ignore or filter this warning. If it's XML, you should know that using an XML parser will be more reliable. To parse this document as XML, make sure you have the lxml package installed, and pass the keyword argument `features=\"xml\"` into the BeautifulSoup constructor.\n",
            "  parsed_doc = bs.BeautifulSoup(doc,'lxml')\n"
          ]
        },
        {
          "name": "stdout",
          "output_type": "stream",
          "text": [
            "   Ticker                                             Titles  Date\n",
            "0     EQR    [Trend Tracker for (EQR) - Stock Traders Daily]     0\n",
            "9     EQR  [Coldstream Capital Management Inc. Takes $212...     0\n",
            "6     EQR  [Equity Residential (NYSE:EQR) Given Consensus...     0\n",
            "85    EQR  [Investing in Equity Residential Properties Tr...     0\n",
            "1     EQR  [Corient Private Wealth LLC Sells 2504 Shares ...     0\n"
          ]
        },
        {
          "name": "stderr",
          "output_type": "stream",
          "text": [
            "<ipython-input-3-35737c005e65>:26: XMLParsedAsHTMLWarning: It looks like you're parsing an XML document using an HTML parser. If this really is an HTML document (maybe it's XHTML?), you can ignore or filter this warning. If it's XML, you should know that using an XML parser will be more reliable. To parse this document as XML, make sure you have the lxml package installed, and pass the keyword argument `features=\"xml\"` into the BeautifulSoup constructor.\n",
            "  parsed_doc = bs.BeautifulSoup(doc,'lxml')\n"
          ]
        },
        {
          "name": "stdout",
          "output_type": "stream",
          "text": [
            "  Ticker                                             Titles  Date\n",
            "0    ESS  [(ESS) On The My Stocks Page - Stock Traders D...     0\n"
          ]
        },
        {
          "name": "stderr",
          "output_type": "stream",
          "text": [
            "<ipython-input-3-35737c005e65>:26: XMLParsedAsHTMLWarning: It looks like you're parsing an XML document using an HTML parser. If this really is an HTML document (maybe it's XHTML?), you can ignore or filter this warning. If it's XML, you should know that using an XML parser will be more reliable. To parse this document as XML, make sure you have the lxml package installed, and pass the keyword argument `features=\"xml\"` into the BeautifulSoup constructor.\n",
            "  parsed_doc = bs.BeautifulSoup(doc,'lxml')\n"
          ]
        },
        {
          "name": "stdout",
          "output_type": "stream",
          "text": [
            "  Ticker                                             Titles  Date\n",
            "0     EL  [Artisan Partners Limited Partnership Has $107...     0\n",
            "1     EL  [El Pollo Loco Holdings, Inc. (NASDAQ:LOCO) Sh...     0\n"
          ]
        },
        {
          "name": "stderr",
          "output_type": "stream",
          "text": [
            "<ipython-input-3-35737c005e65>:26: XMLParsedAsHTMLWarning: It looks like you're parsing an XML document using an HTML parser. If this really is an HTML document (maybe it's XHTML?), you can ignore or filter this warning. If it's XML, you should know that using an XML parser will be more reliable. To parse this document as XML, make sure you have the lxml package installed, and pass the keyword argument `features=\"xml\"` into the BeautifulSoup constructor.\n",
            "  parsed_doc = bs.BeautifulSoup(doc,'lxml')\n"
          ]
        },
        {
          "name": "stdout",
          "output_type": "stream",
          "text": [
            "  Ticker                                             Titles  Date\n",
            "0   ETSY  [Etsy, Inc. (NASDAQ:ETSY) Shares Acquired by A...     0\n",
            "3   ETSY  [How the (ETSY) price action is used to our Ad...     0\n"
          ]
        },
        {
          "name": "stderr",
          "output_type": "stream",
          "text": [
            "<ipython-input-3-35737c005e65>:26: XMLParsedAsHTMLWarning: It looks like you're parsing an XML document using an HTML parser. If this really is an HTML document (maybe it's XHTML?), you can ignore or filter this warning. If it's XML, you should know that using an XML parser will be more reliable. To parse this document as XML, make sure you have the lxml package installed, and pass the keyword argument `features=\"xml\"` into the BeautifulSoup constructor.\n",
            "  parsed_doc = bs.BeautifulSoup(doc,'lxml')\n"
          ]
        },
        {
          "name": "stdout",
          "output_type": "stream",
          "text": [
            "  Ticker                                             Titles  Date\n",
            "0     EG  [UBS Group AG Takes Position in Everest Group,...     0\n"
          ]
        },
        {
          "name": "stderr",
          "output_type": "stream",
          "text": [
            "<ipython-input-3-35737c005e65>:26: XMLParsedAsHTMLWarning: It looks like you're parsing an XML document using an HTML parser. If this really is an HTML document (maybe it's XHTML?), you can ignore or filter this warning. If it's XML, you should know that using an XML parser will be more reliable. To parse this document as XML, make sure you have the lxml package installed, and pass the keyword argument `features=\"xml\"` into the BeautifulSoup constructor.\n",
            "  parsed_doc = bs.BeautifulSoup(doc,'lxml')\n"
          ]
        },
        {
          "name": "stdout",
          "output_type": "stream",
          "text": [
            "   Ticker                                             Titles  Date\n",
            "0    EVRG  [Evergy, Inc. (NYSE:EVRG) Shares Bought by Ass...     0\n",
            "5    EVRG  [PNC Financial Services Group Inc. Increases S...     0\n",
            "3    EVRG  [EverSource Wealth Advisors LLC Buys 748 Share...     0\n",
            "80   EVRG  [Evergy Inc (EVRG) stock on the rise: An overv...     0\n"
          ]
        },
        {
          "name": "stderr",
          "output_type": "stream",
          "text": [
            "<ipython-input-3-35737c005e65>:26: XMLParsedAsHTMLWarning: It looks like you're parsing an XML document using an HTML parser. If this really is an HTML document (maybe it's XHTML?), you can ignore or filter this warning. If it's XML, you should know that using an XML parser will be more reliable. To parse this document as XML, make sure you have the lxml package installed, and pass the keyword argument `features=\"xml\"` into the BeautifulSoup constructor.\n",
            "  parsed_doc = bs.BeautifulSoup(doc,'lxml')\n"
          ]
        },
        {
          "name": "stdout",
          "output_type": "stream",
          "text": [
            "  Ticker                                             Titles  Date\n",
            "0     ES  [Hsbc Holdings PLC Boosts Stock Position in Ev...     0\n"
          ]
        },
        {
          "name": "stderr",
          "output_type": "stream",
          "text": [
            "<ipython-input-3-35737c005e65>:26: XMLParsedAsHTMLWarning: It looks like you're parsing an XML document using an HTML parser. If this really is an HTML document (maybe it's XHTML?), you can ignore or filter this warning. If it's XML, you should know that using an XML parser will be more reliable. To parse this document as XML, make sure you have the lxml package installed, and pass the keyword argument `features=\"xml\"` into the BeautifulSoup constructor.\n",
            "  parsed_doc = bs.BeautifulSoup(doc,'lxml')\n"
          ]
        },
        {
          "name": "stdout",
          "output_type": "stream",
          "text": [
            "   Ticker                                             Titles  Date\n",
            "0     EXC  [EverSource Wealth Advisors LLC Purchases 825 ...     0\n",
            "3     EXC  [SageView Advisory Group LLC Acquires 570 Shar...     0\n",
            "7     EXC  [Commerce Bank Sells 1254 Shares of Exelon Co....     0\n",
            "8     EXC  [Assetmark Inc. Buys 8400 Shares of Exelon Co....     0\n",
            "11    EXC  [D.A. Davidson & CO. Purchases 414 Shares of E...     0\n"
          ]
        },
        {
          "name": "stderr",
          "output_type": "stream",
          "text": [
            "<ipython-input-3-35737c005e65>:26: XMLParsedAsHTMLWarning: It looks like you're parsing an XML document using an HTML parser. If this really is an HTML document (maybe it's XHTML?), you can ignore or filter this warning. If it's XML, you should know that using an XML parser will be more reliable. To parse this document as XML, make sure you have the lxml package installed, and pass the keyword argument `features=\"xml\"` into the BeautifulSoup constructor.\n",
            "  parsed_doc = bs.BeautifulSoup(doc,'lxml')\n"
          ]
        },
        {
          "name": "stdout",
          "output_type": "stream",
          "text": [
            "  Ticker                                             Titles  Date\n",
            "1   EXPE  [Expedia Group, Inc. (NASDAQ:EXPE) Shares Sold...     0\n"
          ]
        },
        {
          "name": "stderr",
          "output_type": "stream",
          "text": [
            "<ipython-input-3-35737c005e65>:26: XMLParsedAsHTMLWarning: It looks like you're parsing an XML document using an HTML parser. If this really is an HTML document (maybe it's XHTML?), you can ignore or filter this warning. If it's XML, you should know that using an XML parser will be more reliable. To parse this document as XML, make sure you have the lxml package installed, and pass the keyword argument `features=\"xml\"` into the BeautifulSoup constructor.\n",
            "  parsed_doc = bs.BeautifulSoup(doc,'lxml')\n"
          ]
        },
        {
          "name": "stdout",
          "output_type": "stream",
          "text": [
            "  Ticker                                             Titles  Date\n",
            "0   EXPD  [Investment Analysts' Recent Ratings Changes f...     0\n",
            "1   EXPD  [(EXPD) Pivots Trading Plans and Risk Controls...     0\n"
          ]
        },
        {
          "name": "stderr",
          "output_type": "stream",
          "text": [
            "<ipython-input-3-35737c005e65>:26: XMLParsedAsHTMLWarning: It looks like you're parsing an XML document using an HTML parser. If this really is an HTML document (maybe it's XHTML?), you can ignore or filter this warning. If it's XML, you should know that using an XML parser will be more reliable. To parse this document as XML, make sure you have the lxml package installed, and pass the keyword argument `features=\"xml\"` into the BeautifulSoup constructor.\n",
            "  parsed_doc = bs.BeautifulSoup(doc,'lxml')\n"
          ]
        },
        {
          "name": "stdout",
          "output_type": "stream",
          "text": [
            "  Ticker                                             Titles  Date\n",
            "6    EXR  [GSI Capital Advisors LLC Lowers Position in E...     0\n"
          ]
        },
        {
          "name": "stderr",
          "output_type": "stream",
          "text": [
            "<ipython-input-3-35737c005e65>:26: XMLParsedAsHTMLWarning: It looks like you're parsing an XML document using an HTML parser. If this really is an HTML document (maybe it's XHTML?), you can ignore or filter this warning. If it's XML, you should know that using an XML parser will be more reliable. To parse this document as XML, make sure you have the lxml package installed, and pass the keyword argument `features=\"xml\"` into the BeautifulSoup constructor.\n",
            "  parsed_doc = bs.BeautifulSoup(doc,'lxml')\n"
          ]
        },
        {
          "name": "stdout",
          "output_type": "stream",
          "text": [
            "  Ticker                                             Titles  Date\n",
            "1    XOM  [Exxon Mobil (NYSE:XOM) Stock Price Up 0.7% - ...     0\n",
            "3    XOM  [3 Stocks Billionaire Investor Ken Griffin Bou...     0\n",
            "4    XOM  [Investors Fear Exxon Lawsuit Hinders Sustaina...     0\n",
            "5    XOM  [Exxon Mobil Co. (NYSE:XOM) Receives Consensus...     0\n",
            "6    XOM      [(XOM) Trading Signals - Stock Traders Daily]     0\n"
          ]
        },
        {
          "name": "stderr",
          "output_type": "stream",
          "text": [
            "<ipython-input-3-35737c005e65>:26: XMLParsedAsHTMLWarning: It looks like you're parsing an XML document using an HTML parser. If this really is an HTML document (maybe it's XHTML?), you can ignore or filter this warning. If it's XML, you should know that using an XML parser will be more reliable. To parse this document as XML, make sure you have the lxml package installed, and pass the keyword argument `features=\"xml\"` into the BeautifulSoup constructor.\n",
            "  parsed_doc = bs.BeautifulSoup(doc,'lxml')\n"
          ]
        },
        {
          "name": "stdout",
          "output_type": "stream",
          "text": [
            "  Ticker                                             Titles  Date\n",
            "0   FFIV  [Trading (FFIV) With Integrated Risk Controls ...     0\n",
            "1   FFIV  [F5, Inc. (NASDAQ:FFIV) Stake Increased by Neu...     0\n",
            "3   FFIV  [Intech Investment Management LLC Sells 9,460 ...     0\n"
          ]
        },
        {
          "name": "stderr",
          "output_type": "stream",
          "text": [
            "<ipython-input-3-35737c005e65>:26: XMLParsedAsHTMLWarning: It looks like you're parsing an XML document using an HTML parser. If this really is an HTML document (maybe it's XHTML?), you can ignore or filter this warning. If it's XML, you should know that using an XML parser will be more reliable. To parse this document as XML, make sure you have the lxml package installed, and pass the keyword argument `features=\"xml\"` into the BeautifulSoup constructor.\n",
            "  parsed_doc = bs.BeautifulSoup(doc,'lxml')\n"
          ]
        },
        {
          "name": "stdout",
          "output_type": "stream",
          "text": [
            "  Ticker                                             Titles  Date\n",
            "0    FDS  [How to Take Advantage of moves in (FDS) - Sto...     0\n",
            "1    FDS  [US Bancorp DE Sells 481 Shares of FactSet Res...     0\n"
          ]
        },
        {
          "name": "stderr",
          "output_type": "stream",
          "text": [
            "<ipython-input-3-35737c005e65>:26: XMLParsedAsHTMLWarning: It looks like you're parsing an XML document using an HTML parser. If this really is an HTML document (maybe it's XHTML?), you can ignore or filter this warning. If it's XML, you should know that using an XML parser will be more reliable. To parse this document as XML, make sure you have the lxml package installed, and pass the keyword argument `features=\"xml\"` into the BeautifulSoup constructor.\n",
            "  parsed_doc = bs.BeautifulSoup(doc,'lxml')\n"
          ]
        },
        {
          "name": "stdout",
          "output_type": "stream",
          "text": [
            "  Ticker                                             Titles  Date\n",
            "0   FICO  [PNC Financial Services Group Inc. Acquires 71...     0\n",
            "1   FICO  [FICO UK Credit Card Market Report: March 2024...     0\n"
          ]
        },
        {
          "name": "stderr",
          "output_type": "stream",
          "text": [
            "<ipython-input-3-35737c005e65>:26: XMLParsedAsHTMLWarning: It looks like you're parsing an XML document using an HTML parser. If this really is an HTML document (maybe it's XHTML?), you can ignore or filter this warning. If it's XML, you should know that using an XML parser will be more reliable. To parse this document as XML, make sure you have the lxml package installed, and pass the keyword argument `features=\"xml\"` into the BeautifulSoup constructor.\n",
            "  parsed_doc = bs.BeautifulSoup(doc,'lxml')\n"
          ]
        },
        {
          "name": "stdout",
          "output_type": "stream",
          "text": [
            "  Ticker                                             Titles  Date\n",
            "0   FAST  [Stock trade settlement moves to single day as...     0\n",
            "1   FAST  [Fast-paced Momentum Stock BRF (BRFS) Is Still...     0\n",
            "2   FAST  [Wall Street Returns to T+1 Stock Trading, Spe...     0\n",
            "3   FAST  [Memorial Day open and closed: stocks, banks, ...     0\n",
            "4   FAST      [(FAST) Technical Data - Stock Traders Daily]     0\n"
          ]
        },
        {
          "name": "stderr",
          "output_type": "stream",
          "text": [
            "<ipython-input-3-35737c005e65>:26: XMLParsedAsHTMLWarning: It looks like you're parsing an XML document using an HTML parser. If this really is an HTML document (maybe it's XHTML?), you can ignore or filter this warning. If it's XML, you should know that using an XML parser will be more reliable. To parse this document as XML, make sure you have the lxml package installed, and pass the keyword argument `features=\"xml\"` into the BeautifulSoup constructor.\n",
            "  parsed_doc = bs.BeautifulSoup(doc,'lxml')\n"
          ]
        },
        {
          "name": "stdout",
          "output_type": "stream",
          "text": [
            "  Ticker                                             Titles  Date\n",
            "0    FRT  [Principal Financial Group Inc. Has $8.75 Mill...     0\n",
            "2    FRT  [Best-performing Maryland Stocks Last Week - S...     0\n"
          ]
        },
        {
          "name": "stderr",
          "output_type": "stream",
          "text": [
            "<ipython-input-3-35737c005e65>:26: XMLParsedAsHTMLWarning: It looks like you're parsing an XML document using an HTML parser. If this really is an HTML document (maybe it's XHTML?), you can ignore or filter this warning. If it's XML, you should know that using an XML parser will be more reliable. To parse this document as XML, make sure you have the lxml package installed, and pass the keyword argument `features=\"xml\"` into the BeautifulSoup constructor.\n",
            "  parsed_doc = bs.BeautifulSoup(doc,'lxml')\n"
          ]
        },
        {
          "name": "stdout",
          "output_type": "stream",
          "text": [
            "Empty DataFrame\n",
            "Columns: [Ticker, Titles, Date]\n",
            "Index: []\n",
            "  Ticker                                             Titles  Date\n",
            "0    FIS  [Fidelity National Information Services (NYSE:...     0\n"
          ]
        },
        {
          "name": "stderr",
          "output_type": "stream",
          "text": [
            "<ipython-input-3-35737c005e65>:26: XMLParsedAsHTMLWarning: It looks like you're parsing an XML document using an HTML parser. If this really is an HTML document (maybe it's XHTML?), you can ignore or filter this warning. If it's XML, you should know that using an XML parser will be more reliable. To parse this document as XML, make sure you have the lxml package installed, and pass the keyword argument `features=\"xml\"` into the BeautifulSoup constructor.\n",
            "  parsed_doc = bs.BeautifulSoup(doc,'lxml')\n"
          ]
        },
        {
          "name": "stdout",
          "output_type": "stream",
          "text": [
            "  Ticker                                             Titles  Date\n",
            "0   FITB  [How the (FITB) price action is used to our Ad...     0\n",
            "1   FITB  [Fifth Third Bancorp (NASDAQ:FITB) Shares Sold...     0\n"
          ]
        },
        {
          "name": "stderr",
          "output_type": "stream",
          "text": [
            "<ipython-input-3-35737c005e65>:26: XMLParsedAsHTMLWarning: It looks like you're parsing an XML document using an HTML parser. If this really is an HTML document (maybe it's XHTML?), you can ignore or filter this warning. If it's XML, you should know that using an XML parser will be more reliable. To parse this document as XML, make sure you have the lxml package installed, and pass the keyword argument `features=\"xml\"` into the BeautifulSoup constructor.\n",
            "  parsed_doc = bs.BeautifulSoup(doc,'lxml')\n"
          ]
        },
        {
          "name": "stdout",
          "output_type": "stream",
          "text": [
            "   Ticker                                             Titles  Date\n",
            "0    FSLR  [FSLR Stock Today: Why First Solar Doesn't Hav...     0\n",
            "2    FSLR  [D.A. Davidson & CO. Grows Stock Position in F...     0\n",
            "13   FSLR  [PNC Financial Services Group Inc. Cuts Positi...     0\n",
            "5    FSLR  [(FSLR) Technical Pivots with Risk Controls - ...     0\n"
          ]
        },
        {
          "name": "stderr",
          "output_type": "stream",
          "text": [
            "<ipython-input-3-35737c005e65>:26: XMLParsedAsHTMLWarning: It looks like you're parsing an XML document using an HTML parser. If this really is an HTML document (maybe it's XHTML?), you can ignore or filter this warning. If it's XML, you should know that using an XML parser will be more reliable. To parse this document as XML, make sure you have the lxml package installed, and pass the keyword argument `features=\"xml\"` into the BeautifulSoup constructor.\n",
            "  parsed_doc = bs.BeautifulSoup(doc,'lxml')\n"
          ]
        },
        {
          "name": "stdout",
          "output_type": "stream",
          "text": [
            "   Ticker                                             Titles  Date\n",
            "0      FE  [Commerce Bank Grows Stock Holdings in FirstEn...     0\n",
            "1      FE  [(FE) Long Term Investment Analysis - Stock Tr...     0\n",
            "60     FE  [DSE urges NBR not to impose capital gains tax...     0\n"
          ]
        },
        {
          "name": "stderr",
          "output_type": "stream",
          "text": [
            "<ipython-input-3-35737c005e65>:26: XMLParsedAsHTMLWarning: It looks like you're parsing an XML document using an HTML parser. If this really is an HTML document (maybe it's XHTML?), you can ignore or filter this warning. If it's XML, you should know that using an XML parser will be more reliable. To parse this document as XML, make sure you have the lxml package installed, and pass the keyword argument `features=\"xml\"` into the BeautifulSoup constructor.\n",
            "  parsed_doc = bs.BeautifulSoup(doc,'lxml')\n"
          ]
        },
        {
          "name": "stdout",
          "output_type": "stream",
          "text": [
            "Empty DataFrame\n",
            "Columns: [Ticker, Titles, Date]\n",
            "Index: []\n",
            "   Ticker                                             Titles  Date\n",
            "0     FMC  [Trexquant Investment LP Cuts Holdings in FMC ...     0\n",
            "1     FMC  [Where are the Opportunities in (FMC) - Stock ...     0\n",
            "9     FMC  [Recent Analysts' Ratings Changes for FMC (FMC...     0\n",
            "11    FMC  [Brown Advisory Inc. Boosts Position in FMC Co...     0\n",
            "14    FMC  [EverSource Wealth Advisors LLC Grows Stake in...     0\n"
          ]
        },
        {
          "name": "stderr",
          "output_type": "stream",
          "text": [
            "<ipython-input-3-35737c005e65>:26: XMLParsedAsHTMLWarning: It looks like you're parsing an XML document using an HTML parser. If this really is an HTML document (maybe it's XHTML?), you can ignore or filter this warning. If it's XML, you should know that using an XML parser will be more reliable. To parse this document as XML, make sure you have the lxml package installed, and pass the keyword argument `features=\"xml\"` into the BeautifulSoup constructor.\n",
            "  parsed_doc = bs.BeautifulSoup(doc,'lxml')\n"
          ]
        },
        {
          "name": "stdout",
          "output_type": "stream",
          "text": [
            "  Ticker                                             Titles  Date\n",
            "0      F  [Ford Motor (NYSE:F) Stock Price Down 2.4% - M...     0\n",
            "2      F  [(F) Investment Analysis and Advice - Stock Tr...     0\n"
          ]
        },
        {
          "name": "stderr",
          "output_type": "stream",
          "text": [
            "<ipython-input-3-35737c005e65>:26: XMLParsedAsHTMLWarning: It looks like you're parsing an XML document using an HTML parser. If this really is an HTML document (maybe it's XHTML?), you can ignore or filter this warning. If it's XML, you should know that using an XML parser will be more reliable. To parse this document as XML, make sure you have the lxml package installed, and pass the keyword argument `features=\"xml\"` into the BeautifulSoup constructor.\n",
            "  parsed_doc = bs.BeautifulSoup(doc,'lxml')\n"
          ]
        },
        {
          "name": "stdout",
          "output_type": "stream",
          "text": [
            "  Ticker                                             Titles  Date\n",
            "0   FTNT  [Commerce Bank Sells 310 Shares of Fortinet, I...     0\n",
            "2   FTNT  [(FTNT) Investment Analysis and Advice - Stock...     0\n",
            "8   FTNT  [Quest Partners LLC Acquires New Shares in For...     0\n"
          ]
        },
        {
          "name": "stderr",
          "output_type": "stream",
          "text": [
            "<ipython-input-3-35737c005e65>:26: XMLParsedAsHTMLWarning: It looks like you're parsing an XML document using an HTML parser. If this really is an HTML document (maybe it's XHTML?), you can ignore or filter this warning. If it's XML, you should know that using an XML parser will be more reliable. To parse this document as XML, make sure you have the lxml package installed, and pass the keyword argument `features=\"xml\"` into the BeautifulSoup constructor.\n",
            "  parsed_doc = bs.BeautifulSoup(doc,'lxml')\n"
          ]
        },
        {
          "name": "stdout",
          "output_type": "stream",
          "text": [
            "   Ticker                                             Titles  Date\n",
            "0     FTV  [Franklin Resources Inc. Has $23.19 Million St...     0\n",
            "98    FTV  [Fortive Corp [FTV] SVP – Human Resources sale...     0\n"
          ]
        },
        {
          "name": "stderr",
          "output_type": "stream",
          "text": [
            "<ipython-input-3-35737c005e65>:26: XMLParsedAsHTMLWarning: It looks like you're parsing an XML document using an HTML parser. If this really is an HTML document (maybe it's XHTML?), you can ignore or filter this warning. If it's XML, you should know that using an XML parser will be more reliable. To parse this document as XML, make sure you have the lxml package installed, and pass the keyword argument `features=\"xml\"` into the BeautifulSoup constructor.\n",
            "  parsed_doc = bs.BeautifulSoup(doc,'lxml')\n"
          ]
        },
        {
          "name": "stdout",
          "output_type": "stream",
          "text": [
            "  Ticker                                             Titles  Date\n",
            "0   FOXA  [Principal Financial Group Inc. Sells 22075 Sh...     0\n",
            "6   FOXA  [Quadrant Capital Group LLC Sells 1297 Shares ...     0\n"
          ]
        },
        {
          "name": "stderr",
          "output_type": "stream",
          "text": [
            "<ipython-input-3-35737c005e65>:26: XMLParsedAsHTMLWarning: It looks like you're parsing an XML document using an HTML parser. If this really is an HTML document (maybe it's XHTML?), you can ignore or filter this warning. If it's XML, you should know that using an XML parser will be more reliable. To parse this document as XML, make sure you have the lxml package installed, and pass the keyword argument `features=\"xml\"` into the BeautifulSoup constructor.\n",
            "  parsed_doc = bs.BeautifulSoup(doc,'lxml')\n"
          ]
        },
        {
          "name": "stdout",
          "output_type": "stream",
          "text": [
            "  Ticker                                             Titles  Date\n",
            "0    FOX  [Principal Financial Group Inc. Sells 22075 Sh...     0\n"
          ]
        },
        {
          "name": "stderr",
          "output_type": "stream",
          "text": [
            "<ipython-input-3-35737c005e65>:26: XMLParsedAsHTMLWarning: It looks like you're parsing an XML document using an HTML parser. If this really is an HTML document (maybe it's XHTML?), you can ignore or filter this warning. If it's XML, you should know that using an XML parser will be more reliable. To parse this document as XML, make sure you have the lxml package installed, and pass the keyword argument `features=\"xml\"` into the BeautifulSoup constructor.\n",
            "  parsed_doc = bs.BeautifulSoup(doc,'lxml')\n"
          ]
        },
        {
          "name": "stdout",
          "output_type": "stream",
          "text": [
            "  Ticker                                             Titles  Date\n",
            "1    BEN  [Trading (BEN) With Integrated Risk Controls -...     0\n"
          ]
        },
        {
          "name": "stderr",
          "output_type": "stream",
          "text": [
            "<ipython-input-3-35737c005e65>:26: XMLParsedAsHTMLWarning: It looks like you're parsing an XML document using an HTML parser. If this really is an HTML document (maybe it's XHTML?), you can ignore or filter this warning. If it's XML, you should know that using an XML parser will be more reliable. To parse this document as XML, make sure you have the lxml package installed, and pass the keyword argument `features=\"xml\"` into the BeautifulSoup constructor.\n",
            "  parsed_doc = bs.BeautifulSoup(doc,'lxml')\n"
          ]
        },
        {
          "name": "stdout",
          "output_type": "stream",
          "text": [
            "  Ticker                                             Titles  Date\n",
            "0    FCX  [Freeport-McMoRan Inc. (NYSE:FCX) Shares Purch...     0\n",
            "4    FCX  [Behind the Scenes of Freeport-McMoRan's Lates...     0\n"
          ]
        },
        {
          "name": "stderr",
          "output_type": "stream",
          "text": [
            "<ipython-input-3-35737c005e65>:26: XMLParsedAsHTMLWarning: It looks like you're parsing an XML document using an HTML parser. If this really is an HTML document (maybe it's XHTML?), you can ignore or filter this warning. If it's XML, you should know that using an XML parser will be more reliable. To parse this document as XML, make sure you have the lxml package installed, and pass the keyword argument `features=\"xml\"` into the BeautifulSoup constructor.\n",
            "  parsed_doc = bs.BeautifulSoup(doc,'lxml')\n"
          ]
        },
        {
          "name": "stdout",
          "output_type": "stream",
          "text": [
            "  Ticker                                             Titles  Date\n",
            "1   GRMN  [PNC Financial Services Group Inc. Grows Stock...     0\n"
          ]
        },
        {
          "name": "stderr",
          "output_type": "stream",
          "text": [
            "<ipython-input-3-35737c005e65>:26: XMLParsedAsHTMLWarning: It looks like you're parsing an XML document using an HTML parser. If this really is an HTML document (maybe it's XHTML?), you can ignore or filter this warning. If it's XML, you should know that using an XML parser will be more reliable. To parse this document as XML, make sure you have the lxml package installed, and pass the keyword argument `features=\"xml\"` into the BeautifulSoup constructor.\n",
            "  parsed_doc = bs.BeautifulSoup(doc,'lxml')\n"
          ]
        },
        {
          "name": "stdout",
          "output_type": "stream",
          "text": [
            "  Ticker                                             Titles  Date\n",
            "0     IT  [UBS says this little-known IT stock is primed...     0\n",
            "3     IT  [(IT) Proactive Strategies - Stock Traders Daily]     0\n"
          ]
        },
        {
          "name": "stderr",
          "output_type": "stream",
          "text": [
            "<ipython-input-3-35737c005e65>:26: XMLParsedAsHTMLWarning: It looks like you're parsing an XML document using an HTML parser. If this really is an HTML document (maybe it's XHTML?), you can ignore or filter this warning. If it's XML, you should know that using an XML parser will be more reliable. To parse this document as XML, make sure you have the lxml package installed, and pass the keyword argument `features=\"xml\"` into the BeautifulSoup constructor.\n",
            "  parsed_doc = bs.BeautifulSoup(doc,'lxml')\n"
          ]
        },
        {
          "name": "stdout",
          "output_type": "stream",
          "text": [
            "  Ticker                                             Titles  Date\n",
            "0     GE  [Is GE Aerospace Stock Going to $201? 1 Wall S...     0\n",
            "3     GE  [GE Aerospace Exec Executes Major Stock Transa...     0\n",
            "6     GE  [General Electric (NYSE:GE) Trading Down 0.4% ...     0\n",
            "5     GE  [Learn to Evaluate (GE) using the Charts - Sto...     0\n"
          ]
        },
        {
          "name": "stderr",
          "output_type": "stream",
          "text": [
            "<ipython-input-3-35737c005e65>:26: XMLParsedAsHTMLWarning: It looks like you're parsing an XML document using an HTML parser. If this really is an HTML document (maybe it's XHTML?), you can ignore or filter this warning. If it's XML, you should know that using an XML parser will be more reliable. To parse this document as XML, make sure you have the lxml package installed, and pass the keyword argument `features=\"xml\"` into the BeautifulSoup constructor.\n",
            "  parsed_doc = bs.BeautifulSoup(doc,'lxml')\n"
          ]
        },
        {
          "name": "stdout",
          "output_type": "stream",
          "text": [
            "  Ticker                                             Titles  Date\n",
            "0   GEHC  [Corient Private Wealth LLC Purchases 11907 Sh...     0\n"
          ]
        },
        {
          "name": "stderr",
          "output_type": "stream",
          "text": [
            "<ipython-input-3-35737c005e65>:26: XMLParsedAsHTMLWarning: It looks like you're parsing an XML document using an HTML parser. If this really is an HTML document (maybe it's XHTML?), you can ignore or filter this warning. If it's XML, you should know that using an XML parser will be more reliable. To parse this document as XML, make sure you have the lxml package installed, and pass the keyword argument `features=\"xml\"` into the BeautifulSoup constructor.\n",
            "  parsed_doc = bs.BeautifulSoup(doc,'lxml')\n"
          ]
        },
        {
          "name": "stdout",
          "output_type": "stream",
          "text": [
            "Empty DataFrame\n",
            "Columns: [Ticker, Titles, Date]\n",
            "Index: []\n",
            "  Ticker                                             Titles  Date\n",
            "0    GEN  [GEN vs. TT: Which Stock Should Value Investor...     0\n",
            "1    GEN  [Gen Digital shares target raised by Argus on ...     0\n",
            "3    GEN  [Gen Releases its Fiscal 2024 Social Impact Re...     0\n"
          ]
        },
        {
          "name": "stderr",
          "output_type": "stream",
          "text": [
            "<ipython-input-3-35737c005e65>:26: XMLParsedAsHTMLWarning: It looks like you're parsing an XML document using an HTML parser. If this really is an HTML document (maybe it's XHTML?), you can ignore or filter this warning. If it's XML, you should know that using an XML parser will be more reliable. To parse this document as XML, make sure you have the lxml package installed, and pass the keyword argument `features=\"xml\"` into the BeautifulSoup constructor.\n",
            "  parsed_doc = bs.BeautifulSoup(doc,'lxml')\n"
          ]
        },
        {
          "name": "stdout",
          "output_type": "stream",
          "text": [
            "   Ticker                                             Titles  Date\n",
            "0    GNRC  [How Generac Holdings (GNRC) Stock Stands Out ...     0\n",
            "11   GNRC  [Norges Bank Takes $67.25 Million Position in ...     0\n",
            "4    GNRC  [IPG Investment Advisors LLC Has $12.01 Millio...     0\n",
            "13   GNRC  [Principal Financial Group Inc. Has $8.95 Mill...     0\n",
            "3    GNRC  [Quest Partners LLC Acquires Shares of 1429 Ge...     0\n",
            "1    GNRC  [Generac Holdings Inc. (NYSE:GNRC) Shares Sold...     0\n"
          ]
        },
        {
          "name": "stderr",
          "output_type": "stream",
          "text": [
            "<ipython-input-3-35737c005e65>:26: XMLParsedAsHTMLWarning: It looks like you're parsing an XML document using an HTML parser. If this really is an HTML document (maybe it's XHTML?), you can ignore or filter this warning. If it's XML, you should know that using an XML parser will be more reliable. To parse this document as XML, make sure you have the lxml package installed, and pass the keyword argument `features=\"xml\"` into the BeautifulSoup constructor.\n",
            "  parsed_doc = bs.BeautifulSoup(doc,'lxml')\n"
          ]
        },
        {
          "name": "stdout",
          "output_type": "stream",
          "text": [
            "  Ticker                                             Titles  Date\n",
            "0     GD  [GD: 3 Defense Stocks to Buy With Bullish Sent...     0\n",
            "1     GD  [General Dynamics (GD) Stock Moves -1.85%: Wha...     0\n",
            "2     GD  [(GD) Long Term Investment Analysis - Stock Tr...     0\n"
          ]
        },
        {
          "name": "stderr",
          "output_type": "stream",
          "text": [
            "<ipython-input-3-35737c005e65>:26: XMLParsedAsHTMLWarning: It looks like you're parsing an XML document using an HTML parser. If this really is an HTML document (maybe it's XHTML?), you can ignore or filter this warning. If it's XML, you should know that using an XML parser will be more reliable. To parse this document as XML, make sure you have the lxml package installed, and pass the keyword argument `features=\"xml\"` into the BeautifulSoup constructor.\n",
            "  parsed_doc = bs.BeautifulSoup(doc,'lxml')\n"
          ]
        },
        {
          "name": "stdout",
          "output_type": "stream",
          "text": [
            "  Ticker                                             Titles  Date\n",
            "0    GIS       [(GIS) Trading Report - Stock Traders Daily]     0\n",
            "1    GIS  [Advisory Services Network LLC Cuts Stock Posi...     0\n",
            "3    GIS  [General Mills, Inc. (NYSE:GIS) Shares Sold by...     0\n"
          ]
        },
        {
          "name": "stderr",
          "output_type": "stream",
          "text": [
            "<ipython-input-3-35737c005e65>:26: XMLParsedAsHTMLWarning: It looks like you're parsing an XML document using an HTML parser. If this really is an HTML document (maybe it's XHTML?), you can ignore or filter this warning. If it's XML, you should know that using an XML parser will be more reliable. To parse this document as XML, make sure you have the lxml package installed, and pass the keyword argument `features=\"xml\"` into the BeautifulSoup constructor.\n",
            "  parsed_doc = bs.BeautifulSoup(doc,'lxml')\n"
          ]
        },
        {
          "name": "stdout",
          "output_type": "stream",
          "text": [
            "  Ticker                                             Titles  Date\n",
            "0     GM  [General Motors Company (GM) Is a Trending Sto...     0\n",
            "1     GM  [Brown Advisory Inc. Sells 5827 Shares of Gene...     0\n",
            "3     GM  [Where are the Opportunities in (GM) - Stock T...     0\n"
          ]
        },
        {
          "name": "stderr",
          "output_type": "stream",
          "text": [
            "<ipython-input-3-35737c005e65>:26: XMLParsedAsHTMLWarning: It looks like you're parsing an XML document using an HTML parser. If this really is an HTML document (maybe it's XHTML?), you can ignore or filter this warning. If it's XML, you should know that using an XML parser will be more reliable. To parse this document as XML, make sure you have the lxml package installed, and pass the keyword argument `features=\"xml\"` into the BeautifulSoup constructor.\n",
            "  parsed_doc = bs.BeautifulSoup(doc,'lxml')\n"
          ]
        },
        {
          "name": "stdout",
          "output_type": "stream",
          "text": [
            "  Ticker                                         Titles  Date\n",
            "0    GPC  [(GPC) Trading Signals - Stock Traders Daily]     0\n"
          ]
        },
        {
          "name": "stderr",
          "output_type": "stream",
          "text": [
            "<ipython-input-3-35737c005e65>:26: XMLParsedAsHTMLWarning: It looks like you're parsing an XML document using an HTML parser. If this really is an HTML document (maybe it's XHTML?), you can ignore or filter this warning. If it's XML, you should know that using an XML parser will be more reliable. To parse this document as XML, make sure you have the lxml package installed, and pass the keyword argument `features=\"xml\"` into the BeautifulSoup constructor.\n",
            "  parsed_doc = bs.BeautifulSoup(doc,'lxml')\n"
          ]
        },
        {
          "name": "stdout",
          "output_type": "stream",
          "text": [
            "   Ticker                                             Titles  Date\n",
            "0    GILD  [Gilead Sciences: Seriously Undervalued At Pea...     0\n",
            "11   GILD  [Gilead Sciences (GILD) Tops Q4 Earnings and R...     0\n"
          ]
        },
        {
          "name": "stderr",
          "output_type": "stream",
          "text": [
            "<ipython-input-3-35737c005e65>:26: XMLParsedAsHTMLWarning: It looks like you're parsing an XML document using an HTML parser. If this really is an HTML document (maybe it's XHTML?), you can ignore or filter this warning. If it's XML, you should know that using an XML parser will be more reliable. To parse this document as XML, make sure you have the lxml package installed, and pass the keyword argument `features=\"xml\"` into the BeautifulSoup constructor.\n",
            "  parsed_doc = bs.BeautifulSoup(doc,'lxml')\n"
          ]
        },
        {
          "name": "stdout",
          "output_type": "stream",
          "text": [
            "  Ticker                                             Titles  Date\n",
            "0    GPN  [(GPN) Proactive Strategies - Stock Traders Da...     0\n",
            "2    GPN  [D.A. Davidson & CO. Has $921000 Position in G...     0\n",
            "3    GPN  [Capitalize on Digitalization With These Top 3...     0\n"
          ]
        },
        {
          "name": "stderr",
          "output_type": "stream",
          "text": [
            "<ipython-input-3-35737c005e65>:26: XMLParsedAsHTMLWarning: It looks like you're parsing an XML document using an HTML parser. If this really is an HTML document (maybe it's XHTML?), you can ignore or filter this warning. If it's XML, you should know that using an XML parser will be more reliable. To parse this document as XML, make sure you have the lxml package installed, and pass the keyword argument `features=\"xml\"` into the BeautifulSoup constructor.\n",
            "  parsed_doc = bs.BeautifulSoup(doc,'lxml')\n"
          ]
        },
        {
          "name": "stdout",
          "output_type": "stream",
          "text": [
            "Empty DataFrame\n",
            "Columns: [Ticker, Titles, Date]\n",
            "Index: []\n",
            "  Ticker                                             Titles  Date\n",
            "0     GS  [Is The Goldman Sachs Group (GS) Stock Outpaci...     0\n"
          ]
        },
        {
          "name": "stderr",
          "output_type": "stream",
          "text": [
            "<ipython-input-3-35737c005e65>:26: XMLParsedAsHTMLWarning: It looks like you're parsing an XML document using an HTML parser. If this really is an HTML document (maybe it's XHTML?), you can ignore or filter this warning. If it's XML, you should know that using an XML parser will be more reliable. To parse this document as XML, make sure you have the lxml package installed, and pass the keyword argument `features=\"xml\"` into the BeautifulSoup constructor.\n",
            "  parsed_doc = bs.BeautifulSoup(doc,'lxml')\n"
          ]
        },
        {
          "name": "stdout",
          "output_type": "stream",
          "text": [
            "   Ticker                                             Titles  Date\n",
            "0     HAL  [Top news on May 28: HAL stock in focus, Rafal...     0\n",
            "54    HAL  [Should you buy Bharti Airtel, Hindustan Aeron...     0\n",
            "5     HAL  [Halliburton (NYSE:HAL) Shares Sold by D.A. Da...     0\n",
            "4     HAL  [HAL stock in focus as India, France to begin ...     0\n",
            "26    HAL  [From HAL to ONGC: Jefferies initiates coverag...     0\n",
            "2     HAL  [HAL stock in focus after India, France begin ...     0\n",
            "1     HAL  [Commerce Bank Sells 715 Shares of Halliburton...     0\n"
          ]
        },
        {
          "name": "stderr",
          "output_type": "stream",
          "text": [
            "<ipython-input-3-35737c005e65>:26: XMLParsedAsHTMLWarning: It looks like you're parsing an XML document using an HTML parser. If this really is an HTML document (maybe it's XHTML?), you can ignore or filter this warning. If it's XML, you should know that using an XML parser will be more reliable. To parse this document as XML, make sure you have the lxml package installed, and pass the keyword argument `features=\"xml\"` into the BeautifulSoup constructor.\n",
            "  parsed_doc = bs.BeautifulSoup(doc,'lxml')\n"
          ]
        },
        {
          "name": "stdout",
          "output_type": "stream",
          "text": [
            "  Ticker                                             Titles  Date\n",
            "0    HIG  [Objective long/short (HIG) Report - Stock Tra...     0\n",
            "1    HIG  [The Hartford Financial Services Group, Inc. (...     0\n"
          ]
        },
        {
          "name": "stderr",
          "output_type": "stream",
          "text": [
            "<ipython-input-3-35737c005e65>:26: XMLParsedAsHTMLWarning: It looks like you're parsing an XML document using an HTML parser. If this really is an HTML document (maybe it's XHTML?), you can ignore or filter this warning. If it's XML, you should know that using an XML parser will be more reliable. To parse this document as XML, make sure you have the lxml package installed, and pass the keyword argument `features=\"xml\"` into the BeautifulSoup constructor.\n",
            "  parsed_doc = bs.BeautifulSoup(doc,'lxml')\n"
          ]
        },
        {
          "name": "stdout",
          "output_type": "stream",
          "text": [
            "   Ticker                                             Titles  Date\n",
            "0     HAS  [Should You Invest in Nvidia After Its Stock S...     0\n",
            "1     HAS  [Nvidia Soars On Tesla Chief Musk's AI Startup...     0\n",
            "2     HAS     [PlayStation Portal stock tracker - TechRadar]     0\n",
            "3     HAS  [Nvidia Stock Price Prediction: 258% Upside, $...     0\n",
            "4     HAS  [Warren Buffett Just Sold $21 Billion in Apple...     0\n",
            "7     HAS  [This Stock Has A 10.45% Yield And Sells For L...     0\n",
            "14    HAS  [This Stock Has A 7.65% Yield And Sells For Le...     0\n",
            "13    HAS  [xAI, Elon Musk's Artificial Intelligence (AI)...     0\n",
            "39    HAS  [Royal India: This penny stock gained 2474% in...     0\n",
            "22    HAS  [Up 32% in May, this stock has the perfect set...     0\n"
          ]
        },
        {
          "name": "stderr",
          "output_type": "stream",
          "text": [
            "<ipython-input-3-35737c005e65>:26: XMLParsedAsHTMLWarning: It looks like you're parsing an XML document using an HTML parser. If this really is an HTML document (maybe it's XHTML?), you can ignore or filter this warning. If it's XML, you should know that using an XML parser will be more reliable. To parse this document as XML, make sure you have the lxml package installed, and pass the keyword argument `features=\"xml\"` into the BeautifulSoup constructor.\n",
            "  parsed_doc = bs.BeautifulSoup(doc,'lxml')\n"
          ]
        },
        {
          "name": "stdout",
          "output_type": "stream",
          "text": [
            "  Ticker                                             Titles  Date\n",
            "0    HCA  [HCA Healthcare, Inc. (NYSE:HCA) Shares Acquir...     0\n",
            "4    HCA  [HCA Healthcare, Inc. (NYSE:HCA) Shares Sold b...     0\n"
          ]
        },
        {
          "name": "stderr",
          "output_type": "stream",
          "text": [
            "<ipython-input-3-35737c005e65>:26: XMLParsedAsHTMLWarning: It looks like you're parsing an XML document using an HTML parser. If this really is an HTML document (maybe it's XHTML?), you can ignore or filter this warning. If it's XML, you should know that using an XML parser will be more reliable. To parse this document as XML, make sure you have the lxml package installed, and pass the keyword argument `features=\"xml\"` into the BeautifulSoup constructor.\n",
            "  parsed_doc = bs.BeautifulSoup(doc,'lxml')\n"
          ]
        },
        {
          "name": "stdout",
          "output_type": "stream",
          "text": [
            "Empty DataFrame\n",
            "Columns: [Ticker, Titles, Date]\n",
            "Index: []\n",
            "  Ticker                                             Titles  Date\n",
            "0   HSIC  [How to Take Advantage of moves in (HSIC) - St...     0\n",
            "1   HSIC  [Brown Advisory Inc. Reduces Stake in Henry Sc...     0\n"
          ]
        }
      ],
      "source": [
        "#STOCK\n",
        "\n",
        "sleep_time  = 5\n",
        "\n",
        "def extract_dates(parsed_doc):\n",
        "    from math import floor\n",
        "    today = datetime.datetime.now().date()\n",
        "    dates = parsed_doc.find_all('pubdate')\n",
        "    list_date = []\n",
        "    for date  in dates:\n",
        "        d = datetime.datetime.strptime( date.text, \"%a, %d %b %Y %H:%M:%S GMT\" )\n",
        "        list_date += [floor((today - d.date()).days / 1)]                          #.days\n",
        "    return list_date\n",
        "\n",
        "\n",
        "def get_titles(ticker, sleep_time):\n",
        "    '''\n",
        "    This function return the url response from google news and parsed html for a stock ticker.\n",
        "    The time parameter is the sleep time before each request\n",
        "    '''\n",
        "    url = 'https://news.google.com/rss/search?hl=en-US&q='+ticker+'%20stock&gl=US&ceid=US:en'\n",
        "\n",
        "    time.sleep(sleep_time) ## wait 15 seconds between each request. This is SUPER IMPORTANT otherwise your IP-address will be banned for sending too frequent requests.\n",
        "\n",
        "    doc = urllib.request.urlopen(url).read()\n",
        "    parsed_doc = bs.BeautifulSoup(doc,'lxml')\n",
        "    titles = parsed_doc.find_all('title')[1:]\n",
        "    list_date = extract_dates(parsed_doc)                 # we  assume/have verified that the date are extracted in the same order as the titles\n",
        "    dct = {\"Ticker\": [ ticker ]*len(titles) , \"Titles\" : titles, \"Date\" : list_date}\n",
        "    title_df = pd.DataFrame(dct)\n",
        "    title_df = title_df.sort_values(by=\"Date\")\n",
        "    title_df = title_df[title_df[\"Date\"]==0]\n",
        "    return title_df\n",
        "\n",
        "list_df = []                        #dictionary with input data\n",
        "for ticker in tickers:\n",
        "    title = get_titles(ticker, sleep_time)\n",
        "    list_df.append(title)\n",
        "    print(title)\n",
        "\n",
        "#input_df = pd.DataFrame(dct.values(),index = tickers,columns=[\"Titles\"])"
      ]
    },
    {
      "cell_type": "code",
      "execution_count": 5,
      "metadata": {
        "colab": {
          "base_uri": "https://localhost:8080/"
        },
        "id": "4AdKm3iKhpPe",
        "outputId": "6f54479b-29f0-4fd0-924d-cfe0b634665c"
      },
      "outputs": [
        {
          "name": "stdout",
          "output_type": "stream",
          "text": [
            "   Ticker                                             Titles  Date\n",
            "1     MMM  [Franklin Resources Inc. Sells 258599 Shares o...   0.0\n",
            "5     MMM  [Intech Investment Management LLC Sells 13,085...   0.0\n",
            "0     AOS  [Assetmark Inc. Buys 3924 Shares of A. O. Smit...   0.0\n",
            "5     AOS  [Coldstream Capital Management Inc. Invests $2...   0.0\n",
            "11    AOS  [Orion Portfolio Solutions LLC Has $5.36 Milli...   0.0\n",
            "..    ...                                                ...   ...\n",
            "12    XEL  [Dynamic Technology Lab Private Ltd Purchases ...   0.0\n",
            "0     YUM  [1587 Shares in Yum! Brands, Inc. (NYSE:YUM) A...   0.0\n",
            "18    YUM  [Assetmark Inc. Sells 340 Shares of Yum! Brand...   0.0\n",
            "15    YUM  [Jump Financial LLC Buys New Holdings in Yum! ...   0.0\n",
            "7     YUM  [1627 Shares in Yum! Brands, Inc. (NYSE:YUM) A...   0.0\n",
            "\n",
            "[1213 rows x 3 columns]\n"
          ]
        }
      ],
      "source": [
        "input_df = pd.concat(list_df)\n",
        "input_df.shape\n",
        "print(input_df)"
      ]
    },
    {
      "cell_type": "code",
      "execution_count": 7,
      "metadata": {
        "colab": {
          "base_uri": "https://localhost:8080/"
        },
        "id": "a6MQtGdWeMnr",
        "outputId": "04bd06aa-33a7-4785-f4f4-77d087e2eeea"
      },
      "outputs": [
        {
          "name": "stderr",
          "output_type": "stream",
          "text": [
            "ERROR:yfinance:$BF.B: possibly delisted; No price data found  (period=1mo)\n"
          ]
        },
        {
          "name": "stdout",
          "output_type": "stream",
          "text": [
            "$BF.B: possibly delisted; No price data found  (period=1mo)\n",
            "Insufficient data for BF.B\n",
            "   Ticker                                             Titles  Date   Var_prc  \\\n",
            "1     MMM  [Franklin Resources Inc. Sells 258599 Shares o...   0.0  0.001608   \n",
            "5     MMM  [Intech Investment Management LLC Sells 13,085...   0.0  0.001608   \n",
            "0     AOS  [Assetmark Inc. Buys 3924 Shares of A. O. Smit...   0.0  0.008445   \n",
            "5     AOS  [Coldstream Capital Management Inc. Invests $2...   0.0  0.008445   \n",
            "11    AOS  [Orion Portfolio Solutions LLC Has $5.36 Milli...   0.0  0.008445   \n",
            "..    ...                                                ...   ...       ...   \n",
            "12    XEL  [Dynamic Technology Lab Private Ltd Purchases ...   0.0 -0.006105   \n",
            "0     YUM  [1587 Shares in Yum! Brands, Inc. (NYSE:YUM) A...   0.0  0.009608   \n",
            "18    YUM  [Assetmark Inc. Sells 340 Shares of Yum! Brand...   0.0  0.009608   \n",
            "15    YUM  [Jump Financial LLC Buys New Holdings in Yum! ...   0.0  0.009608   \n",
            "7     YUM  [1627 Shares in Yum! Brands, Inc. (NYSE:YUM) A...   0.0  0.009608   \n",
            "\n",
            "    Target  \n",
            "1      0.0  \n",
            "5      0.0  \n",
            "0      0.0  \n",
            "5      0.0  \n",
            "11     0.0  \n",
            "..     ...  \n",
            "12     0.0  \n",
            "0      0.0  \n",
            "18     0.0  \n",
            "15     0.0  \n",
            "7      0.0  \n",
            "\n",
            "[1213 rows x 5 columns]\n"
          ]
        }
      ],
      "source": [
        "sleep_time = 5\n",
        "threshold = 0.01\n",
        "\n",
        "def get_var_prc(ticker, sleep_time):\n",
        "    tickerData = yf.Ticker(ticker)\n",
        "    time.sleep(sleep_time)  # Wait between requests\n",
        "    df = tickerData.history()\n",
        "    if len(df) < 2:\n",
        "        print(f\"Insufficient data for {ticker}\")\n",
        "        return None\n",
        "    df['Change'] = df['Close'].diff()\n",
        "    return df[\"Change\"].iloc[-1] / df[\"Close\"].iloc[-2]  # Use iloc for integer indexing\n",
        "\n",
        "def get_target(x):\n",
        "    if x < -threshold:\n",
        "        return -1\n",
        "    elif abs(x) < threshold:\n",
        "        return 0\n",
        "    else:\n",
        "        return 1\n",
        "\n",
        "\n",
        "\n",
        "# Add a new column 'Var_prc' and assign values to it\n",
        "for ticker in input_df['Ticker']:\n",
        "    var_prc = get_var_prc(ticker, sleep_time)\n",
        "    if var_prc is not None:  # Check if data is available\n",
        "        input_df.loc[input_df[\"Ticker\"] == ticker, 'Var_prc'] = var_prc\n",
        "        input_df.loc[input_df[\"Ticker\"] == ticker, 'Target'] = input_df[input_df[\"Ticker\"] == ticker]['Var_prc'].apply(get_target)\n",
        "print(input_df)"
      ]
    },
    {
      "cell_type": "code",
      "execution_count": 8,
      "metadata": {
        "id": "sKTH9TKrqnQm"
      },
      "outputs": [],
      "source": [
        "input_df.to_csv(\"data_2805_comma.csv\")\n",
        "input_df.to_csv(\"data_2805_semicolon.csv\")\n"
      ]
    },
    {
      "cell_type": "code",
      "execution_count": 9,
      "metadata": {
        "colab": {
          "base_uri": "https://localhost:8080/",
          "height": 17
        },
        "id": "1vDcyk1Yq1Qm",
        "outputId": "74258154-9ed1-4903-89b2-98c485aa9cb3"
      },
      "outputs": [
        {
          "data": {
            "application/javascript": "\n    async function download(id, filename, size) {\n      if (!google.colab.kernel.accessAllowed) {\n        return;\n      }\n      const div = document.createElement('div');\n      const label = document.createElement('label');\n      label.textContent = `Downloading \"${filename}\": `;\n      div.appendChild(label);\n      const progress = document.createElement('progress');\n      progress.max = size;\n      div.appendChild(progress);\n      document.body.appendChild(div);\n\n      const buffers = [];\n      let downloaded = 0;\n\n      const channel = await google.colab.kernel.comms.open(id);\n      // Send a message to notify the kernel that we're ready.\n      channel.send({})\n\n      for await (const message of channel.messages) {\n        // Send a message to notify the kernel that we're ready.\n        channel.send({})\n        if (message.buffers) {\n          for (const buffer of message.buffers) {\n            buffers.push(buffer);\n            downloaded += buffer.byteLength;\n            progress.value = downloaded;\n          }\n        }\n      }\n      const blob = new Blob(buffers, {type: 'application/binary'});\n      const a = document.createElement('a');\n      a.href = window.URL.createObjectURL(blob);\n      a.download = filename;\n      div.appendChild(a);\n      a.click();\n      div.remove();\n    }\n  ",
            "text/plain": [
              "<IPython.core.display.Javascript object>"
            ]
          },
          "metadata": {},
          "output_type": "display_data"
        },
        {
          "data": {
            "application/javascript": "download(\"download_a427f8db-a431-4135-a3df-69a5daddb666\", \"data_2705.csv\", 177630)",
            "text/plain": [
              "<IPython.core.display.Javascript object>"
            ]
          },
          "metadata": {},
          "output_type": "display_data"
        }
      ],
      "source": [
        "#from google.colab import files\n",
        "#files.download(\"data_2705.csv\")\n"
      ]
    }
  ],
  "metadata": {
    "colab": {
      "provenance": []
    },
    "kernelspec": {
      "display_name": "Python 3",
      "name": "python3"
    },
    "language_info": {
      "name": "python"
    }
  },
  "nbformat": 4,
  "nbformat_minor": 0
}
