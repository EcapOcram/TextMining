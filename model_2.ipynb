{
 "cells": [
  {
   "cell_type": "markdown",
   "metadata": {},
   "source": [
    "# Distilroberta-finetuned-financial-news-sentiment-analysis"
   ]
  },
  {
   "cell_type": "code",
   "execution_count": 78,
   "metadata": {},
   "outputs": [],
   "source": [
    "#!pip install ktrain\n",
    "#!pip install sentence_transformers"
   ]
  },
  {
   "cell_type": "code",
   "execution_count": 190,
   "metadata": {},
   "outputs": [],
   "source": [
    "import pandas as pd\n",
    "import numpy as np\n",
    "import tensorflow as tf\n",
    "import ktrain\n",
    "from ktrain import text\n",
    "\n",
    "#from sentence_transformers import SentenceTransformer\n",
    "\n",
    "data_set = pd.read_csv(r\"C:\\Users\\volpe\\Documents\\MARCO\\0.master\\0.Corsi\\Machine_learning\\Carman_google_drive\\TextMining\\data_0905_semicolon.csv\",sep=\";\")"
   ]
  },
  {
   "cell_type": "code",
   "execution_count": 191,
   "metadata": {},
   "outputs": [
    {
     "data": {
      "text/html": [
       "<div>\n",
       "<style scoped>\n",
       "    .dataframe tbody tr th:only-of-type {\n",
       "        vertical-align: middle;\n",
       "    }\n",
       "\n",
       "    .dataframe tbody tr th {\n",
       "        vertical-align: top;\n",
       "    }\n",
       "\n",
       "    .dataframe thead th {\n",
       "        text-align: right;\n",
       "    }\n",
       "</style>\n",
       "<table border=\"1\" class=\"dataframe\">\n",
       "  <thead>\n",
       "    <tr style=\"text-align: right;\">\n",
       "      <th></th>\n",
       "      <th>Unnamed: 0</th>\n",
       "      <th>Ticker</th>\n",
       "      <th>Titles</th>\n",
       "      <th>Date</th>\n",
       "      <th>Var_prc</th>\n",
       "      <th>Target</th>\n",
       "    </tr>\n",
       "  </thead>\n",
       "  <tbody>\n",
       "    <tr>\n",
       "      <th>0</th>\n",
       "      <td>0</td>\n",
       "      <td>MMM</td>\n",
       "      <td>&lt;title&gt;Here is What to Know Beyond Why 3M Comp...</td>\n",
       "      <td>0</td>\n",
       "      <td>0.008478</td>\n",
       "      <td>0.0</td>\n",
       "    </tr>\n",
       "    <tr>\n",
       "      <th>1</th>\n",
       "      <td>69</td>\n",
       "      <td>MMM</td>\n",
       "      <td>&lt;title&gt;What's Next For 3M Stock After A 15% Fa...</td>\n",
       "      <td>0</td>\n",
       "      <td>0.008478</td>\n",
       "      <td>0.0</td>\n",
       "    </tr>\n",
       "    <tr>\n",
       "      <th>2</th>\n",
       "      <td>68</td>\n",
       "      <td>MMM</td>\n",
       "      <td>&lt;title&gt;MMM Stock Quote Price and Forecast - CN...</td>\n",
       "      <td>0</td>\n",
       "      <td>0.008478</td>\n",
       "      <td>0.0</td>\n",
       "    </tr>\n",
       "    <tr>\n",
       "      <th>3</th>\n",
       "      <td>67</td>\n",
       "      <td>MMM</td>\n",
       "      <td>&lt;title&gt;3M Announces Upcoming Investor Event - ...</td>\n",
       "      <td>0</td>\n",
       "      <td>0.008478</td>\n",
       "      <td>0.0</td>\n",
       "    </tr>\n",
       "    <tr>\n",
       "      <th>4</th>\n",
       "      <td>66</td>\n",
       "      <td>MMM</td>\n",
       "      <td>&lt;title&gt;Open Door: Claire Pentecost + Beth Jaco...</td>\n",
       "      <td>0</td>\n",
       "      <td>0.008478</td>\n",
       "      <td>0.0</td>\n",
       "    </tr>\n",
       "  </tbody>\n",
       "</table>\n",
       "</div>"
      ],
      "text/plain": [
       "   Unnamed: 0 Ticker                                             Titles  Date  \\\n",
       "0           0    MMM  <title>Here is What to Know Beyond Why 3M Comp...     0   \n",
       "1          69    MMM  <title>What's Next For 3M Stock After A 15% Fa...     0   \n",
       "2          68    MMM  <title>MMM Stock Quote Price and Forecast - CN...     0   \n",
       "3          67    MMM  <title>3M Announces Upcoming Investor Event - ...     0   \n",
       "4          66    MMM  <title>Open Door: Claire Pentecost + Beth Jaco...     0   \n",
       "\n",
       "    Var_prc  Target  \n",
       "0  0.008478     0.0  \n",
       "1  0.008478     0.0  \n",
       "2  0.008478     0.0  \n",
       "3  0.008478     0.0  \n",
       "4  0.008478     0.0  "
      ]
     },
     "execution_count": 191,
     "metadata": {},
     "output_type": "execute_result"
    }
   ],
   "source": [
    "data_set.head()"
   ]
  },
  {
   "cell_type": "code",
   "execution_count": 192,
   "metadata": {},
   "outputs": [
    {
     "name": "stdout",
     "output_type": "stream",
     "text": [
      "(498, 12)\n"
     ]
    },
    {
     "data": {
      "text/html": [
       "<div>\n",
       "<style scoped>\n",
       "    .dataframe tbody tr th:only-of-type {\n",
       "        vertical-align: middle;\n",
       "    }\n",
       "\n",
       "    .dataframe tbody tr th {\n",
       "        vertical-align: top;\n",
       "    }\n",
       "\n",
       "    .dataframe thead th {\n",
       "        text-align: right;\n",
       "    }\n",
       "</style>\n",
       "<table border=\"1\" class=\"dataframe\">\n",
       "  <thead>\n",
       "    <tr style=\"text-align: right;\">\n",
       "      <th></th>\n",
       "      <th>Ticker</th>\n",
       "      <th>Article 1</th>\n",
       "      <th>Article 2</th>\n",
       "      <th>Article 3</th>\n",
       "      <th>Article 4</th>\n",
       "      <th>Article 5</th>\n",
       "      <th>Article 6</th>\n",
       "      <th>Article 7</th>\n",
       "      <th>Article 8</th>\n",
       "      <th>Article 9</th>\n",
       "      <th>Article 10</th>\n",
       "      <th>Target</th>\n",
       "    </tr>\n",
       "  </thead>\n",
       "  <tbody>\n",
       "    <tr>\n",
       "      <th>60</th>\n",
       "      <td>BAX</td>\n",
       "      <td>&lt;title&gt;Biden is tweaking an asylum rule to spe...</td>\n",
       "      <td>&lt;title&gt;Baxter's (BAX) Latest FDA Approval to B...</td>\n",
       "      <td>&lt;title&gt;Mayor Sarno Joined with Bax and Nagle t...</td>\n",
       "      <td>&lt;title&gt;Based On Its ROE, Is Baxter Internation...</td>\n",
       "      <td>&lt;title&gt;(01/02/24) Top Picks 2024: Baxter Inter...</td>\n",
       "      <td>&lt;title&gt;Baxter (BAX) Beats on Q3 Earnings, Dive...</td>\n",
       "      <td>&lt;title&gt;Is Baxter International (BAX) Too Good ...</td>\n",
       "      <td>&lt;title&gt;Baxter International Inc.'s (NYSE:BAX) ...</td>\n",
       "      <td>&lt;title&gt;Author Correction: Bax Inhibitor-1 regu...</td>\n",
       "      <td>&lt;title&gt;Estimating The Fair Value Of Baxter Int...</td>\n",
       "      <td>-1.0</td>\n",
       "    </tr>\n",
       "    <tr>\n",
       "      <th>61</th>\n",
       "      <td>BDX</td>\n",
       "      <td>&lt;title&gt;When the Price of (BDX) Talks, People L...</td>\n",
       "      <td>&lt;title&gt;Becton, Dickinson and Company (NYSE:BDX...</td>\n",
       "      <td>&lt;title&gt;Beyond the Balance Sheet: What SWOT Rev...</td>\n",
       "      <td>&lt;title&gt;Becton Dickinson (BDX) Surpasses Q3 Ear...</td>\n",
       "      <td>&lt;title&gt;Breaking: BDx Indonesia to acquire Indo...</td>\n",
       "      <td>&lt;title&gt;BD Increases Access to Cutting-Edge Ima...</td>\n",
       "      <td>&lt;title&gt;Investors Still Waiting For A Pull Back...</td>\n",
       "      <td>&lt;title&gt;BDx acquires data center freehold in Si...</td>\n",
       "      <td>&lt;title&gt;BDX Droids Coming to Star Wars Galaxy's...</td>\n",
       "      <td>&lt;title&gt;Why Becton Dickinson (BDX) is a Top Val...</td>\n",
       "      <td>-1.0</td>\n",
       "    </tr>\n",
       "    <tr>\n",
       "      <th>63</th>\n",
       "      <td>BBY</td>\n",
       "      <td>&lt;title&gt;Best Buy (NYSE:BBY) PT Lowered to $67.0...</td>\n",
       "      <td>&lt;title&gt;Best Buy (BBY) Up 11.1% Since Last Earn...</td>\n",
       "      <td>&lt;title&gt;Best Buy Reports Q4 FY24 Results - Best...</td>\n",
       "      <td>&lt;title&gt;Decoding Best Buy Co Inc (BBY): A Strat...</td>\n",
       "      <td>&lt;title&gt;Should You Think About Buying Best Buy ...</td>\n",
       "      <td>&lt;title&gt;This Insider Has Just Sold Shares In Be...</td>\n",
       "      <td>&lt;title&gt;Best Buy Geek Squad employees report ma...</td>\n",
       "      <td>&lt;title&gt;Best Buy Recalls Insignia® Air Fryers a...</td>\n",
       "      <td>&lt;title&gt;Down 15% This Year, Where Is Best Buy S...</td>\n",
       "      <td>&lt;title&gt;Dividend Investors: Don't Be Too Quick ...</td>\n",
       "      <td>0.0</td>\n",
       "    </tr>\n",
       "  </tbody>\n",
       "</table>\n",
       "</div>"
      ],
      "text/plain": [
       "   Ticker                                          Article 1  \\\n",
       "60    BAX  <title>Biden is tweaking an asylum rule to spe...   \n",
       "61    BDX  <title>When the Price of (BDX) Talks, People L...   \n",
       "63    BBY  <title>Best Buy (NYSE:BBY) PT Lowered to $67.0...   \n",
       "\n",
       "                                            Article 2  \\\n",
       "60  <title>Baxter's (BAX) Latest FDA Approval to B...   \n",
       "61  <title>Becton, Dickinson and Company (NYSE:BDX...   \n",
       "63  <title>Best Buy (BBY) Up 11.1% Since Last Earn...   \n",
       "\n",
       "                                            Article 3  \\\n",
       "60  <title>Mayor Sarno Joined with Bax and Nagle t...   \n",
       "61  <title>Beyond the Balance Sheet: What SWOT Rev...   \n",
       "63  <title>Best Buy Reports Q4 FY24 Results - Best...   \n",
       "\n",
       "                                            Article 4  \\\n",
       "60  <title>Based On Its ROE, Is Baxter Internation...   \n",
       "61  <title>Becton Dickinson (BDX) Surpasses Q3 Ear...   \n",
       "63  <title>Decoding Best Buy Co Inc (BBY): A Strat...   \n",
       "\n",
       "                                            Article 5  \\\n",
       "60  <title>(01/02/24) Top Picks 2024: Baxter Inter...   \n",
       "61  <title>Breaking: BDx Indonesia to acquire Indo...   \n",
       "63  <title>Should You Think About Buying Best Buy ...   \n",
       "\n",
       "                                            Article 6  \\\n",
       "60  <title>Baxter (BAX) Beats on Q3 Earnings, Dive...   \n",
       "61  <title>BD Increases Access to Cutting-Edge Ima...   \n",
       "63  <title>This Insider Has Just Sold Shares In Be...   \n",
       "\n",
       "                                            Article 7  \\\n",
       "60  <title>Is Baxter International (BAX) Too Good ...   \n",
       "61  <title>Investors Still Waiting For A Pull Back...   \n",
       "63  <title>Best Buy Geek Squad employees report ma...   \n",
       "\n",
       "                                            Article 8  \\\n",
       "60  <title>Baxter International Inc.'s (NYSE:BAX) ...   \n",
       "61  <title>BDx acquires data center freehold in Si...   \n",
       "63  <title>Best Buy Recalls Insignia® Air Fryers a...   \n",
       "\n",
       "                                            Article 9  \\\n",
       "60  <title>Author Correction: Bax Inhibitor-1 regu...   \n",
       "61  <title>BDX Droids Coming to Star Wars Galaxy's...   \n",
       "63  <title>Down 15% This Year, Where Is Best Buy S...   \n",
       "\n",
       "                                           Article 10  Target  \n",
       "60  <title>Estimating The Fair Value Of Baxter Int...    -1.0  \n",
       "61  <title>Why Becton Dickinson (BDX) is a Top Val...    -1.0  \n",
       "63  <title>Dividend Investors: Don't Be Too Quick ...     0.0  "
      ]
     },
     "execution_count": 192,
     "metadata": {},
     "output_type": "execute_result"
    }
   ],
   "source": [
    "# we want a input dataframe where there is only a row for each ticker, 10 columns with the 10 titles, and the target\n",
    "number_articles = 10\n",
    "col =[\"Ticker\"] + [ \"Article \" + str(i+1)  for i in range(number_articles)] + [\"Target\"]\n",
    "input_df = pd.DataFrame(columns=col)\n",
    "\n",
    "for ticker in data_set[\"Ticker\"].unique():\n",
    "    #extract the rows corresponfing to the ticker\n",
    "    ticker_df = data_set[ data_set[\"Ticker\"] ==  ticker ]\n",
    "    #create the new row to append to the dataset\n",
    "    articles_list = ticker_df[\"Titles\"].to_list()\n",
    "    ticker_target = ticker_df[\"Target\"].iloc[0]\n",
    "    new_row = [ticker] + articles_list + [ticker_target] \n",
    "    #append the new row to the dataset\n",
    "    input_df = input_df.append(pd.Series(new_row, index=col),ignore_index=True)\n",
    "input_df = input_df.dropna()\n",
    "print(input_df.shape)\n",
    "input_df.iloc[60:63,:]"
   ]
  },
  {
   "cell_type": "code",
   "execution_count": 193,
   "metadata": {},
   "outputs": [
    {
     "data": {
      "text/html": [
       "<div>\n",
       "<style scoped>\n",
       "    .dataframe tbody tr th:only-of-type {\n",
       "        vertical-align: middle;\n",
       "    }\n",
       "\n",
       "    .dataframe tbody tr th {\n",
       "        vertical-align: top;\n",
       "    }\n",
       "\n",
       "    .dataframe thead th {\n",
       "        text-align: right;\n",
       "    }\n",
       "</style>\n",
       "<table border=\"1\" class=\"dataframe\">\n",
       "  <thead>\n",
       "    <tr style=\"text-align: right;\">\n",
       "      <th></th>\n",
       "      <th>Ticker</th>\n",
       "      <th>Article 1</th>\n",
       "      <th>Article 2</th>\n",
       "      <th>Article 3</th>\n",
       "      <th>Article 4</th>\n",
       "      <th>Article 5</th>\n",
       "      <th>Article 6</th>\n",
       "      <th>Article 7</th>\n",
       "      <th>Article 8</th>\n",
       "      <th>Article 9</th>\n",
       "      <th>Article 10</th>\n",
       "      <th>Target</th>\n",
       "      <th>Concatenated Titles</th>\n",
       "    </tr>\n",
       "  </thead>\n",
       "  <tbody>\n",
       "    <tr>\n",
       "      <th>50</th>\n",
       "      <td>ADP</td>\n",
       "      <td>Ep. 539 - Analyzing the New Post-Draft Startup...</td>\n",
       "      <td>ADP Increases Cash Dividend; Marks 49th Consec...</td>\n",
       "      <td>Why Is Software Megacap ADP's Stock Trading Hi...</td>\n",
       "      <td>The Biggest ADP Fallers: How long Gerrit Cole ...</td>\n",
       "      <td>ADP Ventures | Creating a better world of work...</td>\n",
       "      <td>Private payrolls rose by 140,000 in February, ...</td>\n",
       "      <td>ADP Reimagines the Human Capital Management Cl...</td>\n",
       "      <td>ADP: Employers Added 103000 Workers in Novembe...</td>\n",
       "      <td>ADP Declares Regular Quarterly Dividend - PR N...</td>\n",
       "      <td>ADP vs Paychex: Which Payroll Software is Bett...</td>\n",
       "      <td>0.0</td>\n",
       "      <td>Ep. 539 - Analyzing the New Post-Draft Startup...</td>\n",
       "    </tr>\n",
       "    <tr>\n",
       "      <th>51</th>\n",
       "      <td>AZO</td>\n",
       "      <td>(AZO) Investment Report - Stock Traders Daily</td>\n",
       "      <td>Light-tuned selective photosynthesis of azo- a...</td>\n",
       "      <td>Optimal of black anti-static AZO/Al2O3-SiO2-Vx...</td>\n",
       "      <td>New azo-azomethine derivatives: Synthesis, cha...</td>\n",
       "      <td>NLO azo compounds with sulfonamide groups: A t...</td>\n",
       "      <td>Self-organized patterning on azo molecular gla...</td>\n",
       "      <td>Synthesis, spectroscopic characterization and ...</td>\n",
       "      <td>Protocol for photoelectrocatalytic synthesis o...</td>\n",
       "      <td>Easily accessible and tunable porous organic p...</td>\n",
       "      <td>Reversal in solvatochromism, photochromism and...</td>\n",
       "      <td>0.0</td>\n",
       "      <td>(AZO) Investment Report - Stock Traders Daily ...</td>\n",
       "    </tr>\n",
       "    <tr>\n",
       "      <th>52</th>\n",
       "      <td>AVB</td>\n",
       "      <td>Decoding AvalonBay Communities Inc (AVB): A St...</td>\n",
       "      <td>'Massive arguments' - AVB reveals Tottenham re...</td>\n",
       "      <td>Van der Vaart calls AVB 'an idiot' and explain...</td>\n",
       "      <td>10 Ways to Use AVB ('Already Vaped Bud') Marij...</td>\n",
       "      <td>Ruben Amorim to Liverpool: Will he become a Mo...</td>\n",
       "      <td>AVIATION LOGISTICS SUPPORT IN THE INDO-PACIFIC...</td>\n",
       "      <td>6 Easy Ways for Getting High Again with Your A...</td>\n",
       "      <td>‘This is really uncomfortable’ – John Terry an...</td>\n",
       "      <td>InfoComm 2023: DiGiCo Introduces Milan-Certifi...</td>\n",
       "      <td>Analysts See Upside On These 3 REITs - AvalonB...</td>\n",
       "      <td>0.0</td>\n",
       "      <td>Decoding AvalonBay Communities Inc (AVB): A St...</td>\n",
       "    </tr>\n",
       "  </tbody>\n",
       "</table>\n",
       "</div>"
      ],
      "text/plain": [
       "   Ticker                                          Article 1  \\\n",
       "50    ADP  Ep. 539 - Analyzing the New Post-Draft Startup...   \n",
       "51    AZO      (AZO) Investment Report - Stock Traders Daily   \n",
       "52    AVB  Decoding AvalonBay Communities Inc (AVB): A St...   \n",
       "\n",
       "                                            Article 2  \\\n",
       "50  ADP Increases Cash Dividend; Marks 49th Consec...   \n",
       "51  Light-tuned selective photosynthesis of azo- a...   \n",
       "52  'Massive arguments' - AVB reveals Tottenham re...   \n",
       "\n",
       "                                            Article 3  \\\n",
       "50  Why Is Software Megacap ADP's Stock Trading Hi...   \n",
       "51  Optimal of black anti-static AZO/Al2O3-SiO2-Vx...   \n",
       "52  Van der Vaart calls AVB 'an idiot' and explain...   \n",
       "\n",
       "                                            Article 4  \\\n",
       "50  The Biggest ADP Fallers: How long Gerrit Cole ...   \n",
       "51  New azo-azomethine derivatives: Synthesis, cha...   \n",
       "52  10 Ways to Use AVB ('Already Vaped Bud') Marij...   \n",
       "\n",
       "                                            Article 5  \\\n",
       "50  ADP Ventures | Creating a better world of work...   \n",
       "51  NLO azo compounds with sulfonamide groups: A t...   \n",
       "52  Ruben Amorim to Liverpool: Will he become a Mo...   \n",
       "\n",
       "                                            Article 6  \\\n",
       "50  Private payrolls rose by 140,000 in February, ...   \n",
       "51  Self-organized patterning on azo molecular gla...   \n",
       "52  AVIATION LOGISTICS SUPPORT IN THE INDO-PACIFIC...   \n",
       "\n",
       "                                            Article 7  \\\n",
       "50  ADP Reimagines the Human Capital Management Cl...   \n",
       "51  Synthesis, spectroscopic characterization and ...   \n",
       "52  6 Easy Ways for Getting High Again with Your A...   \n",
       "\n",
       "                                            Article 8  \\\n",
       "50  ADP: Employers Added 103000 Workers in Novembe...   \n",
       "51  Protocol for photoelectrocatalytic synthesis o...   \n",
       "52  ‘This is really uncomfortable’ – John Terry an...   \n",
       "\n",
       "                                            Article 9  \\\n",
       "50  ADP Declares Regular Quarterly Dividend - PR N...   \n",
       "51  Easily accessible and tunable porous organic p...   \n",
       "52  InfoComm 2023: DiGiCo Introduces Milan-Certifi...   \n",
       "\n",
       "                                           Article 10  Target  \\\n",
       "50  ADP vs Paychex: Which Payroll Software is Bett...     0.0   \n",
       "51  Reversal in solvatochromism, photochromism and...     0.0   \n",
       "52  Analysts See Upside On These 3 REITs - AvalonB...     0.0   \n",
       "\n",
       "                                  Concatenated Titles  \n",
       "50  Ep. 539 - Analyzing the New Post-Draft Startup...  \n",
       "51  (AZO) Investment Report - Stock Traders Daily ...  \n",
       "52  Decoding AvalonBay Communities Inc (AVB): A St...  "
      ]
     },
     "execution_count": 193,
     "metadata": {},
     "output_type": "execute_result"
    }
   ],
   "source": [
    "# Cleaning the columns and creating the input for the multilingual bert\n",
    "for i in range(1, 11):\n",
    "    column_name = f'Article {i}'\n",
    "    input_df[column_name] = input_df[column_name].str.replace('<title>', '').str.replace('</title>', '')\n",
    "\n",
    "input_df[\"Concatenated Titles\"] = input_df.iloc[:, 1:11].apply(lambda row: ' '.join(row), axis=1)\n",
    "input_df.dropna(axis = 0)\n",
    "# Print the resulting DataFrame\n",
    "input_df.iloc[50:53,:]"
   ]
  },
  {
   "cell_type": "code",
   "execution_count": 194,
   "metadata": {},
   "outputs": [],
   "source": [
    "from sklearn.model_selection import train_test_split\n",
    "\n",
    "X = input_df.filter([\"Concatenated Titles\"],axis=1)\n",
    "Y = input_df.filter([\"Target\"],axis=1)\n",
    "#print(Y)\n",
    "\n",
    "x_train, x_test, y_train, y_test = train_test_split( X, Y, test_size=0.20, random_state=42)\n",
    "y_train = y_train + 1          # classes need to start from 0\n",
    "y_test = y_test + 1"
   ]
  },
  {
   "cell_type": "markdown",
   "metadata": {},
   "source": [
    "### Here starts model training"
   ]
  },
  {
   "cell_type": "code",
   "execution_count": 195,
   "metadata": {},
   "outputs": [],
   "source": [
    "model_name = 'mrm8488/distilroberta-finetuned-financial-news-sentiment-analysis'\n",
    "transformer = text.Transformer(model_name, maxlen=512, class_names= np.array([0,1,2]))"
   ]
  },
  {
   "cell_type": "code",
   "execution_count": 196,
   "metadata": {},
   "outputs": [
    {
     "name": "stdout",
     "output_type": "stream",
     "text": [
      "preprocessing train...\n",
      "language: en\n",
      "train sequence lengths:\n",
      "\tmean : 137\n",
      "\t95percentile : 160\n",
      "\t99percentile : 174\n"
     ]
    },
    {
     "name": "stderr",
     "output_type": "stream",
     "text": [
      "c:\\Users\\volpe\\anaconda3\\envs\\kt\\lib\\site-packages\\ktrain\\utils.py:769: UserWarning: class_names implies classification but targets array contains float(s) instead of integers or strings\n",
      "  \"class_names implies classification but targets array contains float(s) instead of integers or strings\"\n"
     ]
    },
    {
     "data": {
      "text/html": [
       "\n",
       "<style>\n",
       "    /* Turns off some styling */\n",
       "    progress {\n",
       "        /* gets rid of default border in Firefox and Opera. */\n",
       "        border: none;\n",
       "        /* Needs to be in here for Safari polyfill so background images work as expected. */\n",
       "        background-size: auto;\n",
       "    }\n",
       "    progress:not([value]), progress:not([value])::-webkit-progress-bar {\n",
       "        background: repeating-linear-gradient(45deg, #7e7e7e, #7e7e7e 10px, #5c5c5c 10px, #5c5c5c 20px);\n",
       "    }\n",
       "    .progress-bar-interrupted, .progress-bar-interrupted::-webkit-progress-bar {\n",
       "        background: #F44336;\n",
       "    }\n",
       "</style>\n"
      ],
      "text/plain": [
       "<IPython.core.display.HTML object>"
      ]
     },
     "metadata": {},
     "output_type": "display_data"
    },
    {
     "data": {
      "text/html": [],
      "text/plain": [
       "<IPython.core.display.HTML object>"
      ]
     },
     "metadata": {},
     "output_type": "display_data"
    },
    {
     "name": "stdout",
     "output_type": "stream",
     "text": [
      "Is Multi-Label? False\n",
      "preprocessing test...\n",
      "language: en\n",
      "test sequence lengths:\n",
      "\tmean : 137\n",
      "\t95percentile : 164\n",
      "\t99percentile : 169\n"
     ]
    },
    {
     "data": {
      "text/html": [
       "\n",
       "<style>\n",
       "    /* Turns off some styling */\n",
       "    progress {\n",
       "        /* gets rid of default border in Firefox and Opera. */\n",
       "        border: none;\n",
       "        /* Needs to be in here for Safari polyfill so background images work as expected. */\n",
       "        background-size: auto;\n",
       "    }\n",
       "    progress:not([value]), progress:not([value])::-webkit-progress-bar {\n",
       "        background: repeating-linear-gradient(45deg, #7e7e7e, #7e7e7e 10px, #5c5c5c 10px, #5c5c5c 20px);\n",
       "    }\n",
       "    .progress-bar-interrupted, .progress-bar-interrupted::-webkit-progress-bar {\n",
       "        background: #F44336;\n",
       "    }\n",
       "</style>\n"
      ],
      "text/plain": [
       "<IPython.core.display.HTML object>"
      ]
     },
     "metadata": {},
     "output_type": "display_data"
    },
    {
     "data": {
      "text/html": [],
      "text/plain": [
       "<IPython.core.display.HTML object>"
      ]
     },
     "metadata": {},
     "output_type": "display_data"
    }
   ],
   "source": [
    "processed_train = transformer.preprocess_train(list(x_train[\"Concatenated Titles\"]), list(y_train[\"Target\"]))\n",
    "processed_test = transformer.preprocess_test(list(x_test[\"Concatenated Titles\"]), list(y_test[\"Target\"]))"
   ]
  },
  {
   "cell_type": "code",
   "execution_count": 197,
   "metadata": {},
   "outputs": [],
   "source": [
    "model = transformer.get_classifier()\n",
    "batch_size = 5                        #small training dataset\n",
    "learner = ktrain.get_learner(model, train_data=processed_train, val_data=processed_test, batch_size=batch_size)"
   ]
  },
  {
   "cell_type": "code",
   "execution_count": 198,
   "metadata": {},
   "outputs": [
    {
     "name": "stdout",
     "output_type": "stream",
     "text": [
      "[[0. 1. 0.]\n",
      " [0. 0. 1.]\n",
      " [0. 1. 0.]\n",
      " ...\n",
      " [1. 0. 0.]\n",
      " [0. 1. 0.]\n",
      " [0. 1. 0.]]\n"
     ]
    }
   ],
   "source": [
    "print(processed_train.y)"
   ]
  },
  {
   "cell_type": "code",
   "execution_count": 199,
   "metadata": {},
   "outputs": [
    {
     "name": "stdout",
     "output_type": "stream",
     "text": [
      "simulating training for different learning rates... this may take a few moments...\n",
      "11/79 [===>..........................] - ETA: 8:00 - loss: 3.9224 - accuracy: 0.3636"
     ]
    }
   ],
   "source": [
    "learner.lr_find(show_plot=True,  max_epochs=1)"
   ]
  },
  {
   "cell_type": "code",
   "execution_count": null,
   "metadata": {},
   "outputs": [
    {
     "name": "stdout",
     "output_type": "stream",
     "text": [
      "\n",
      "\n",
      "begin training using onecycle policy with max lr of 0.05...\n",
      "Epoch 1/2\n",
      "80/80 [==============================] - 518s 6s/step - loss: 3.8166 - accuracy: 0.5603 - val_loss: 1.9656 - val_accuracy: 0.1800\n",
      "Epoch 2/2\n",
      "80/80 [==============================] - 565s 7s/step - loss: 6.6673 - accuracy: 0.5402 - val_loss: 4.6888 - val_accuracy: 0.5900\n"
     ]
    },
    {
     "data": {
      "text/plain": [
       "<keras.callbacks.History at 0x1a30a85b5c8>"
      ]
     },
     "execution_count": 40,
     "metadata": {},
     "output_type": "execute_result"
    }
   ],
   "source": [
    "learner.fit_onecycle(0.5e-1, 2)"
   ]
  },
  {
   "cell_type": "code",
   "execution_count": null,
   "metadata": {},
   "outputs": [
    {
     "name": "stdout",
     "output_type": "stream",
     "text": [
      "4/4 [==============================] - 27s 6s/step\n",
      "              precision    recall  f1-score   support\n",
      "\n",
      "           0       0.00      0.00      0.00        23\n",
      "           1       0.59      1.00      0.74        59\n",
      "           2       0.00      0.00      0.00        18\n",
      "\n",
      "    accuracy                           0.59       100\n",
      "   macro avg       0.20      0.33      0.25       100\n",
      "weighted avg       0.35      0.59      0.44       100\n",
      "\n"
     ]
    },
    {
     "name": "stderr",
     "output_type": "stream",
     "text": [
      "c:\\Users\\volpe\\anaconda3\\envs\\kt\\lib\\site-packages\\sklearn\\metrics\\_classification.py:1318: UndefinedMetricWarning: Precision and F-score are ill-defined and being set to 0.0 in labels with no predicted samples. Use `zero_division` parameter to control this behavior.\n",
      "  _warn_prf(average, modifier, msg_start, len(result))\n",
      "c:\\Users\\volpe\\anaconda3\\envs\\kt\\lib\\site-packages\\sklearn\\metrics\\_classification.py:1318: UndefinedMetricWarning: Precision and F-score are ill-defined and being set to 0.0 in labels with no predicted samples. Use `zero_division` parameter to control this behavior.\n",
      "  _warn_prf(average, modifier, msg_start, len(result))\n",
      "c:\\Users\\volpe\\anaconda3\\envs\\kt\\lib\\site-packages\\sklearn\\metrics\\_classification.py:1318: UndefinedMetricWarning: Precision and F-score are ill-defined and being set to 0.0 in labels with no predicted samples. Use `zero_division` parameter to control this behavior.\n",
      "  _warn_prf(average, modifier, msg_start, len(result))\n"
     ]
    },
    {
     "data": {
      "text/plain": [
       "array([[ 0, 23,  0],\n",
       "       [ 0, 59,  0],\n",
       "       [ 0, 18,  0]], dtype=int64)"
      ]
     },
     "execution_count": 41,
     "metadata": {},
     "output_type": "execute_result"
    }
   ],
   "source": [
    "learner.validate(class_names=transformer.get_classes())"
   ]
  },
  {
   "cell_type": "code",
   "execution_count": null,
   "metadata": {},
   "outputs": [
    {
     "ename": "IndexError",
     "evalue": "only integers, slices (`:`), ellipsis (`...`), numpy.newaxis (`None`) and integer or boolean arrays are valid indices",
     "output_type": "error",
     "traceback": [
      "\u001b[1;31m---------------------------------------------------------------------------\u001b[0m",
      "\u001b[1;31mIndexError\u001b[0m                                Traceback (most recent call last)",
      "\u001b[1;32m~\\AppData\\Local\\Temp\\ipykernel_15572\\52512034.py\u001b[0m in \u001b[0;36m<module>\u001b[1;34m\u001b[0m\n\u001b[0;32m      8\u001b[0m print(input_df[\"Ticker\"].iloc[i],\"\\n\",\\\n\u001b[0;32m      9\u001b[0m       \u001b[1;34m\"Prediction: \\n\"\u001b[0m\u001b[1;33m,\u001b[0m\u001b[0;31m\\\u001b[0m\u001b[1;33m\u001b[0m\u001b[1;33m\u001b[0m\u001b[0m\n\u001b[1;32m---> 10\u001b[1;33m       \u001b[0mpredictor\u001b[0m\u001b[1;33m.\u001b[0m\u001b[0mpredict\u001b[0m\u001b[1;33m(\u001b[0m\u001b[0mx_test\u001b[0m\u001b[1;33m[\u001b[0m\u001b[1;34m\"Concatenated Titles\"\u001b[0m\u001b[1;33m]\u001b[0m\u001b[1;33m.\u001b[0m\u001b[0miloc\u001b[0m\u001b[1;33m[\u001b[0m\u001b[0mi\u001b[0m\u001b[1;33m]\u001b[0m\u001b[1;33m)\u001b[0m\u001b[1;33m,\u001b[0m\u001b[0;31m\\\u001b[0m\u001b[1;33m\u001b[0m\u001b[1;33m\u001b[0m\u001b[0m\n\u001b[0m\u001b[0;32m     11\u001b[0m       \u001b[1;34m\"\\nTarget: \\n\"\u001b[0m\u001b[1;33m,\u001b[0m\u001b[0;31m\\\u001b[0m\u001b[1;33m\u001b[0m\u001b[1;33m\u001b[0m\u001b[0m\n\u001b[0;32m     12\u001b[0m       y_train[\"Target\"].iloc[i])\n",
      "\u001b[1;31mIndexError\u001b[0m: only integers, slices (`:`), ellipsis (`...`), numpy.newaxis (`None`) and integer or boolean arrays are valid indices"
     ]
    }
   ],
   "source": [
    "'''\n",
    "# let's see some predictions\n",
    "'''\n",
    "predictor = ktrain.get_predictor(learner.model, preproc=transformer)\n",
    "import random as rand\n",
    "i = rand.randint(0,100)\n",
    "\n",
    "print(input_df[\"Ticker\"].iloc[i],\"\\n\",\\\n",
    "      \"Prediction: \\n\",\\\n",
    "      predictor.predict(x_test[\"Concatenated Titles\"].iloc[i]),\\\n",
    "      \"\\nTarget: \\n\",\\\n",
    "      y_train[\"Target\"].iloc[i])"
   ]
  },
  {
   "cell_type": "markdown",
   "metadata": {},
   "source": [
    "It always predicts class 1... not really good"
   ]
  },
  {
   "cell_type": "markdown",
   "metadata": {},
   "source": [
    "### Let's try embedding + NN"
   ]
  },
  {
   "cell_type": "code",
   "execution_count": null,
   "metadata": {},
   "outputs": [],
   "source": [
    "from sentence_transformers import SentenceTransformer"
   ]
  },
  {
   "cell_type": "code",
   "execution_count": null,
   "metadata": {},
   "outputs": [
    {
     "name": "stderr",
     "output_type": "stream",
     "text": [
      "No sentence-transformers model found with name C:\\Users\\volpe/.cache\\torch\\sentence_transformers\\mrm8488_distilroberta-finetuned-financial-news-sentiment-analysis. Creating a new one with MEAN pooling.\n"
     ]
    }
   ],
   "source": [
    "m = SentenceTransformer(\"mrm8488/distilroberta-finetuned-financial-news-sentiment-analysis\")"
   ]
  },
  {
   "cell_type": "code",
   "execution_count": null,
   "metadata": {},
   "outputs": [],
   "source": [
    "#len(m.encode(\"I love transformers!\"))     #768 dimensional embedding\n",
    "c = 768                   # dim embedding\n",
    "r = input_df.shape[0]    # dim dataset  \n",
    "\n",
    "X = np.zeros((r,c))\n",
    "for idx in range(r):\n",
    "  sentence_embeddings = m.encode(input_df.iloc[idx,:].loc[\"Concatenated Titles\"])\n",
    "  X[idx,:] = sentence_embeddings"
   ]
  },
  {
   "cell_type": "code",
   "execution_count": null,
   "metadata": {},
   "outputs": [
    {
     "data": {
      "text/plain": [
       "\"Smoothie King names Yum Brands veteran Gavin Felder chief financial officer - Nation's Restaurant News Yum China Holdings, Inc. (NYSE:YUMC) Q1 2024 Earnings Call Transcript - Yahoo Finance Yum Brands Doubles Tech Spending, Expands Generative AI Use - PYMNTS.com Compared to Estimates, Yum China (YUMC) Q1 Earnings: A Look at Key Metrics - Yahoo Finance Yum! Brands, Inc. (NYSE:YUM) Q4 2023 Earnings Call Transcript - Yahoo Finance Yum China (YUMC) Q4 2023 Earnings Call Transcript - The Motley Fool Yum Brands (YUM) Reports Next Week: Wall Street Expects Earnings Growth - Yahoo Finance Pizza Hut Announces Carl Loredo President of Pizza Hut U.S. - Business Wire Yum China (NYSE:YUMC) Misses Q1 Sales Targets - Yahoo Finance Yum! Brands (YUM) Reports Earnings Tomorrow: What To Expect - Yahoo Finance\""
      ]
     },
     "execution_count": 86,
     "metadata": {},
     "output_type": "execute_result"
    }
   ],
   "source": [
    "input_df.iloc[497,:].loc[\"Concatenated Titles\"]"
   ]
  },
  {
   "cell_type": "code",
   "execution_count": null,
   "metadata": {},
   "outputs": [],
   "source": [
    "t_size = 0.2\n",
    "\n",
    "x_train, x_test, y_train, y_test = train_test_split( X, np.array(input_df[\"Target\"]), test_size=t_size, random_state=42)\n"
   ]
  },
  {
   "cell_type": "code",
   "execution_count": null,
   "metadata": {},
   "outputs": [],
   "source": [
    "y_train = y_train + 1\n",
    "y_test = y_test + 1"
   ]
  },
  {
   "cell_type": "code",
   "execution_count": null,
   "metadata": {},
   "outputs": [],
   "source": [
    "import numpy as np\n",
    "import matplotlib.pyplot as plt\n",
    "from keras.models import Sequential\n",
    "from keras.layers import Dense\n",
    "from keras.optimizers import Adam, RMSprop, SGD, Adagrad"
   ]
  },
  {
   "cell_type": "code",
   "execution_count": null,
   "metadata": {},
   "outputs": [],
   "source": [
    "#to train the NN we need to convert integer output to binary array\n",
    "num_classes = 3\n",
    "\n",
    "y_train_dummy = np.zeros((len(y_train), num_classes))\n",
    "for i in range(0,len(y_train)):\n",
    "    class_idx = round(y_train[i])  \n",
    "    y_train_dummy[i, class_idx] = 1\n",
    "\n",
    "\n",
    "y_test_dummy = np.zeros((len(y_test), num_classes))\n",
    "for i in range(0,len(y_test)):\n",
    "    y_test_dummy[i,round(y_test[i])] = 1"
   ]
  },
  {
   "cell_type": "code",
   "execution_count": null,
   "metadata": {},
   "outputs": [
    {
     "name": "stdout",
     "output_type": "stream",
     "text": [
      "Epoch 1/200\n",
      "40/40 [==============================] - 1s 15ms/step - loss: 0.2967\n",
      "Epoch 2/200\n",
      "40/40 [==============================] - 1s 15ms/step - loss: 0.2939\n",
      "Epoch 3/200\n",
      "40/40 [==============================] - 1s 15ms/step - loss: 0.2940\n",
      "Epoch 4/200\n",
      "40/40 [==============================] - 1s 15ms/step - loss: 0.2937\n",
      "Epoch 5/200\n",
      "40/40 [==============================] - 1s 15ms/step - loss: 0.2938\n",
      "Epoch 6/200\n",
      "40/40 [==============================] - 1s 15ms/step - loss: 0.2934\n",
      "Epoch 7/200\n",
      "40/40 [==============================] - 1s 15ms/step - loss: 0.2934\n",
      "Epoch 8/200\n",
      "40/40 [==============================] - 1s 15ms/step - loss: 0.2940\n",
      "Epoch 9/200\n",
      "40/40 [==============================] - 1s 15ms/step - loss: 0.2938\n",
      "Epoch 10/200\n",
      "40/40 [==============================] - 1s 15ms/step - loss: 0.2935\n",
      "Epoch 11/200\n",
      "40/40 [==============================] - 1s 15ms/step - loss: 0.2934\n",
      "Epoch 12/200\n",
      "40/40 [==============================] - 1s 15ms/step - loss: 0.2925\n",
      "Epoch 13/200\n",
      "40/40 [==============================] - 1s 15ms/step - loss: 0.2926\n",
      "Epoch 14/200\n",
      "40/40 [==============================] - 1s 16ms/step - loss: 0.2926\n",
      "Epoch 15/200\n",
      "40/40 [==============================] - 1s 17ms/step - loss: 0.2910\n",
      "Epoch 16/200\n",
      "40/40 [==============================] - 1s 19ms/step - loss: 0.2924\n",
      "Epoch 17/200\n",
      "40/40 [==============================] - 1s 18ms/step - loss: 0.2896\n",
      "Epoch 18/200\n",
      "40/40 [==============================] - 1s 17ms/step - loss: 0.2887\n",
      "Epoch 19/200\n",
      "40/40 [==============================] - 1s 17ms/step - loss: 0.2878\n",
      "Epoch 20/200\n",
      "40/40 [==============================] - 1s 17ms/step - loss: 0.2936\n",
      "Epoch 21/200\n",
      "40/40 [==============================] - 1s 17ms/step - loss: 0.2928\n",
      "Epoch 22/200\n",
      "40/40 [==============================] - 1s 18ms/step - loss: 0.2884\n",
      "Epoch 23/200\n",
      "40/40 [==============================] - 1s 18ms/step - loss: 0.2892\n",
      "Epoch 24/200\n",
      "40/40 [==============================] - 1s 17ms/step - loss: 0.2925\n",
      "Epoch 25/200\n",
      "40/40 [==============================] - 1s 17ms/step - loss: 0.2853\n",
      "Epoch 26/200\n",
      "40/40 [==============================] - 1s 16ms/step - loss: 0.2812\n",
      "Epoch 27/200\n",
      "40/40 [==============================] - 1s 17ms/step - loss: 0.2781\n",
      "Epoch 28/200\n",
      "40/40 [==============================] - 1s 16ms/step - loss: 0.2807\n",
      "Epoch 29/200\n",
      "40/40 [==============================] - 1s 18ms/step - loss: 0.2788\n",
      "Epoch 30/200\n",
      "40/40 [==============================] - 1s 17ms/step - loss: 0.2834\n",
      "Epoch 31/200\n",
      "40/40 [==============================] - 1s 16ms/step - loss: 0.2732\n",
      "Epoch 32/200\n",
      "40/40 [==============================] - 1s 16ms/step - loss: 0.2690\n",
      "Epoch 33/200\n",
      "40/40 [==============================] - 1s 17ms/step - loss: 0.2706\n",
      "Epoch 34/200\n",
      "40/40 [==============================] - 1s 16ms/step - loss: 0.2796\n",
      "Epoch 35/200\n",
      "40/40 [==============================] - 1s 16ms/step - loss: 0.2672\n",
      "Epoch 36/200\n",
      "40/40 [==============================] - 1s 16ms/step - loss: 0.2629\n",
      "Epoch 37/200\n",
      "40/40 [==============================] - 1s 17ms/step - loss: 0.2563\n",
      "Epoch 38/200\n",
      "40/40 [==============================] - 1s 16ms/step - loss: 0.2510\n",
      "Epoch 39/200\n",
      "40/40 [==============================] - 1s 17ms/step - loss: 0.2551\n",
      "Epoch 40/200\n",
      "40/40 [==============================] - 1s 16ms/step - loss: 0.2599\n",
      "Epoch 41/200\n",
      "40/40 [==============================] - 1s 17ms/step - loss: 0.2436\n",
      "Epoch 42/200\n",
      "40/40 [==============================] - 1s 19ms/step - loss: 0.2416\n",
      "Epoch 43/200\n",
      "40/40 [==============================] - 1s 16ms/step - loss: 0.2316\n",
      "Epoch 44/200\n",
      "40/40 [==============================] - 1s 16ms/step - loss: 0.2424\n",
      "Epoch 45/200\n",
      "40/40 [==============================] - 1s 17ms/step - loss: 0.2322\n",
      "Epoch 46/200\n",
      "40/40 [==============================] - 1s 16ms/step - loss: 0.2262\n",
      "Epoch 47/200\n",
      "40/40 [==============================] - 1s 16ms/step - loss: 0.2253\n",
      "Epoch 48/200\n",
      "40/40 [==============================] - 1s 16ms/step - loss: 0.2282\n",
      "Epoch 49/200\n",
      "40/40 [==============================] - 1s 16ms/step - loss: 0.2203\n",
      "Epoch 50/200\n",
      "40/40 [==============================] - 1s 16ms/step - loss: 0.2323\n",
      "Epoch 51/200\n",
      "40/40 [==============================] - 1s 16ms/step - loss: 0.2391\n",
      "Epoch 52/200\n",
      "40/40 [==============================] - 1s 17ms/step - loss: 0.2253\n",
      "Epoch 53/200\n",
      "40/40 [==============================] - 1s 16ms/step - loss: 0.2328\n",
      "Epoch 54/200\n",
      "40/40 [==============================] - 1s 16ms/step - loss: 0.2146\n",
      "Epoch 55/200\n",
      "40/40 [==============================] - 1s 19ms/step - loss: 0.2085\n",
      "Epoch 56/200\n",
      "40/40 [==============================] - 1s 17ms/step - loss: 0.2099\n",
      "Epoch 57/200\n",
      "40/40 [==============================] - 1s 16ms/step - loss: 0.2067\n",
      "Epoch 58/200\n",
      "40/40 [==============================] - 1s 17ms/step - loss: 0.2036\n",
      "Epoch 59/200\n",
      "40/40 [==============================] - 1s 16ms/step - loss: 0.2036\n",
      "Epoch 60/200\n",
      "40/40 [==============================] - 1s 16ms/step - loss: 0.1899\n",
      "Epoch 61/200\n",
      "40/40 [==============================] - 1s 18ms/step - loss: 0.1877\n",
      "Epoch 62/200\n",
      "40/40 [==============================] - 1s 18ms/step - loss: 0.2011\n",
      "Epoch 63/200\n",
      "40/40 [==============================] - 1s 17ms/step - loss: 0.1820\n",
      "Epoch 64/200\n",
      "40/40 [==============================] - 1s 18ms/step - loss: 0.2026\n",
      "Epoch 65/200\n",
      "40/40 [==============================] - 1s 19ms/step - loss: 0.1879\n",
      "Epoch 66/200\n",
      "40/40 [==============================] - 1s 18ms/step - loss: 0.2005\n",
      "Epoch 67/200\n",
      "40/40 [==============================] - 1s 18ms/step - loss: 0.2196\n",
      "Epoch 68/200\n",
      "40/40 [==============================] - 1s 17ms/step - loss: 0.2141\n",
      "Epoch 69/200\n",
      "40/40 [==============================] - 1s 19ms/step - loss: 0.1951\n",
      "Epoch 70/200\n",
      "40/40 [==============================] - 1s 18ms/step - loss: 0.2037\n",
      "Epoch 71/200\n",
      "40/40 [==============================] - 1s 20ms/step - loss: 0.1809\n",
      "Epoch 72/200\n",
      "40/40 [==============================] - 1s 17ms/step - loss: 0.1726\n",
      "Epoch 73/200\n",
      "40/40 [==============================] - 1s 16ms/step - loss: 0.1769\n",
      "Epoch 74/200\n",
      "40/40 [==============================] - 1s 16ms/step - loss: 0.1697\n",
      "Epoch 75/200\n",
      "40/40 [==============================] - 1s 16ms/step - loss: 0.1655\n",
      "Epoch 76/200\n",
      "40/40 [==============================] - 1s 19ms/step - loss: 0.1674\n",
      "Epoch 77/200\n",
      "40/40 [==============================] - 1s 17ms/step - loss: 0.1651\n",
      "Epoch 78/200\n",
      "40/40 [==============================] - 1s 16ms/step - loss: 0.1629\n",
      "Epoch 79/200\n",
      "40/40 [==============================] - 1s 16ms/step - loss: 0.1616\n",
      "Epoch 80/200\n",
      "40/40 [==============================] - 1s 18ms/step - loss: 0.1596\n",
      "Epoch 81/200\n",
      "40/40 [==============================] - 1s 18ms/step - loss: 0.1580\n",
      "Epoch 82/200\n",
      "40/40 [==============================] - 1s 22ms/step - loss: 0.1579\n",
      "Epoch 83/200\n",
      "40/40 [==============================] - 1s 18ms/step - loss: 0.1558\n",
      "Epoch 84/200\n",
      "40/40 [==============================] - 1s 18ms/step - loss: 0.1593\n",
      "Epoch 85/200\n",
      "40/40 [==============================] - 1s 16ms/step - loss: 0.1655\n",
      "Epoch 86/200\n",
      "40/40 [==============================] - 1s 17ms/step - loss: 0.1562\n",
      "Epoch 87/200\n",
      "40/40 [==============================] - 1s 17ms/step - loss: 0.1565\n",
      "Epoch 88/200\n",
      "40/40 [==============================] - 1s 15ms/step - loss: 0.1567\n",
      "Epoch 89/200\n",
      "40/40 [==============================] - 1s 15ms/step - loss: 0.1545\n",
      "Epoch 90/200\n",
      "40/40 [==============================] - 1s 17ms/step - loss: 0.1537\n",
      "Epoch 91/200\n",
      "40/40 [==============================] - 1s 15ms/step - loss: 0.1536\n",
      "Epoch 92/200\n",
      "40/40 [==============================] - 1s 16ms/step - loss: 0.1535\n",
      "Epoch 93/200\n",
      "40/40 [==============================] - 1s 16ms/step - loss: 0.1535\n",
      "Epoch 94/200\n",
      "40/40 [==============================] - 1s 17ms/step - loss: 0.1535\n",
      "Epoch 95/200\n",
      "40/40 [==============================] - 1s 16ms/step - loss: 0.1535\n",
      "Epoch 96/200\n",
      "40/40 [==============================] - 1s 19ms/step - loss: 0.1535\n",
      "Epoch 97/200\n",
      "40/40 [==============================] - 1s 17ms/step - loss: 0.1534\n",
      "Epoch 98/200\n",
      "40/40 [==============================] - 1s 18ms/step - loss: 0.1534\n",
      "Epoch 99/200\n",
      "40/40 [==============================] - 1s 17ms/step - loss: 0.1535\n",
      "Epoch 100/200\n",
      "40/40 [==============================] - 1s 18ms/step - loss: 0.1534\n",
      "Epoch 101/200\n",
      "40/40 [==============================] - 1s 20ms/step - loss: 0.1534\n",
      "Epoch 102/200\n",
      "40/40 [==============================] - 1s 17ms/step - loss: 0.1534\n",
      "Epoch 103/200\n",
      "40/40 [==============================] - 1s 18ms/step - loss: 0.1542\n",
      "Epoch 104/200\n",
      "40/40 [==============================] - 1s 15ms/step - loss: 0.1637\n",
      "Epoch 105/200\n",
      "40/40 [==============================] - 1s 16ms/step - loss: 0.2502\n",
      "Epoch 106/200\n",
      "40/40 [==============================] - 1s 16ms/step - loss: 0.2939\n",
      "Epoch 107/200\n",
      "40/40 [==============================] - 1s 15ms/step - loss: 0.2939\n",
      "Epoch 108/200\n",
      "40/40 [==============================] - 1s 17ms/step - loss: 0.2938\n",
      "Epoch 109/200\n",
      "40/40 [==============================] - 1s 18ms/step - loss: 0.2928\n",
      "Epoch 110/200\n",
      "40/40 [==============================] - 1s 20ms/step - loss: 0.2892\n",
      "Epoch 111/200\n",
      "40/40 [==============================] - 1s 19ms/step - loss: 0.2872\n",
      "Epoch 112/200\n",
      "40/40 [==============================] - 1s 20ms/step - loss: 0.2701\n",
      "Epoch 113/200\n",
      "40/40 [==============================] - 1s 18ms/step - loss: 0.2302\n",
      "Epoch 114/200\n",
      "40/40 [==============================] - 1s 18ms/step - loss: 0.1915\n",
      "Epoch 115/200\n",
      "40/40 [==============================] - 1s 17ms/step - loss: 0.1658\n",
      "Epoch 116/200\n",
      "40/40 [==============================] - 1s 16ms/step - loss: 0.1636\n",
      "Epoch 117/200\n",
      "40/40 [==============================] - 1s 16ms/step - loss: 0.1718\n",
      "Epoch 118/200\n",
      "40/40 [==============================] - 1s 15ms/step - loss: 0.2078\n",
      "Epoch 119/200\n",
      "40/40 [==============================] - 1s 15ms/step - loss: 0.1787\n",
      "Epoch 120/200\n",
      "40/40 [==============================] - 1s 16ms/step - loss: 0.1744\n",
      "Epoch 121/200\n",
      "40/40 [==============================] - 1s 15ms/step - loss: 0.1576\n",
      "Epoch 122/200\n",
      "40/40 [==============================] - 1s 17ms/step - loss: 0.1572\n",
      "Epoch 123/200\n",
      "40/40 [==============================] - 1s 16ms/step - loss: 0.1557\n",
      "Epoch 124/200\n",
      "40/40 [==============================] - 1s 16ms/step - loss: 0.1518\n",
      "Epoch 125/200\n",
      "40/40 [==============================] - 1s 16ms/step - loss: 0.1530\n",
      "Epoch 126/200\n",
      "40/40 [==============================] - 1s 18ms/step - loss: 0.1500\n",
      "Epoch 127/200\n",
      "40/40 [==============================] - 1s 18ms/step - loss: 0.1499\n",
      "Epoch 128/200\n",
      "40/40 [==============================] - 1s 16ms/step - loss: 0.1491\n",
      "Epoch 129/200\n",
      "40/40 [==============================] - 1s 16ms/step - loss: 0.1486\n",
      "Epoch 130/200\n",
      "40/40 [==============================] - 1s 16ms/step - loss: 0.1484\n",
      "Epoch 131/200\n",
      "40/40 [==============================] - 1s 17ms/step - loss: 0.1484\n",
      "Epoch 132/200\n",
      "40/40 [==============================] - 1s 15ms/step - loss: 0.1484\n",
      "Epoch 133/200\n",
      "40/40 [==============================] - 1s 17ms/step - loss: 0.1484\n",
      "Epoch 134/200\n",
      "40/40 [==============================] - 1s 15ms/step - loss: 0.1484\n",
      "Epoch 135/200\n",
      "40/40 [==============================] - 1s 16ms/step - loss: 0.1483\n",
      "Epoch 136/200\n",
      "40/40 [==============================] - 1s 19ms/step - loss: 0.1483\n",
      "Epoch 137/200\n",
      "40/40 [==============================] - 1s 22ms/step - loss: 0.1483\n",
      "Epoch 138/200\n",
      "40/40 [==============================] - 1s 18ms/step - loss: 0.1483\n",
      "Epoch 139/200\n",
      "40/40 [==============================] - 1s 18ms/step - loss: 0.1485\n",
      "Epoch 140/200\n",
      "40/40 [==============================] - 1s 16ms/step - loss: 0.1516\n",
      "Epoch 141/200\n",
      "40/40 [==============================] - 1s 16ms/step - loss: 0.1506\n",
      "Epoch 142/200\n",
      "40/40 [==============================] - 1s 16ms/step - loss: 0.1571\n",
      "Epoch 143/200\n",
      "40/40 [==============================] - 1s 15ms/step - loss: 0.1507\n",
      "Epoch 144/200\n",
      "40/40 [==============================] - 1s 15ms/step - loss: 0.1481\n",
      "Epoch 145/200\n",
      "40/40 [==============================] - 1s 15ms/step - loss: 0.1497\n",
      "Epoch 146/200\n",
      "40/40 [==============================] - 1s 17ms/step - loss: 0.1555\n",
      "Epoch 147/200\n",
      "40/40 [==============================] - 1s 18ms/step - loss: 0.1490\n",
      "Epoch 148/200\n",
      "40/40 [==============================] - 1s 16ms/step - loss: 0.1484\n",
      "Epoch 149/200\n",
      "40/40 [==============================] - 1s 15ms/step - loss: 0.1483\n",
      "Epoch 150/200\n",
      "40/40 [==============================] - 1s 16ms/step - loss: 0.1483\n",
      "Epoch 151/200\n",
      "40/40 [==============================] - 1s 15ms/step - loss: 0.1483\n",
      "Epoch 152/200\n",
      "40/40 [==============================] - 1s 20ms/step - loss: 0.1483\n",
      "Epoch 153/200\n",
      "40/40 [==============================] - 1s 18ms/step - loss: 0.1483\n",
      "Epoch 154/200\n",
      "40/40 [==============================] - 1s 19ms/step - loss: 0.1483\n",
      "Epoch 155/200\n",
      "40/40 [==============================] - 1s 16ms/step - loss: 0.1483\n",
      "Epoch 156/200\n",
      "40/40 [==============================] - 1s 18ms/step - loss: 0.1483\n",
      "Epoch 157/200\n",
      "40/40 [==============================] - 1s 17ms/step - loss: 0.1483\n",
      "Epoch 158/200\n",
      "40/40 [==============================] - 1s 18ms/step - loss: 0.1483\n",
      "Epoch 159/200\n",
      "40/40 [==============================] - 1s 20ms/step - loss: 0.1483\n",
      "Epoch 160/200\n",
      "40/40 [==============================] - 1s 19ms/step - loss: 0.1483\n",
      "Epoch 161/200\n",
      "40/40 [==============================] - 1s 17ms/step - loss: 0.1483\n",
      "Epoch 162/200\n",
      "40/40 [==============================] - 1s 17ms/step - loss: 0.1483\n",
      "Epoch 163/200\n",
      "40/40 [==============================] - 1s 16ms/step - loss: 0.1483\n",
      "Epoch 164/200\n",
      "40/40 [==============================] - 1s 18ms/step - loss: 0.1483\n",
      "Epoch 165/200\n",
      "40/40 [==============================] - 1s 17ms/step - loss: 0.1483\n",
      "Epoch 166/200\n",
      "40/40 [==============================] - 1s 16ms/step - loss: 0.1483\n",
      "Epoch 167/200\n",
      "40/40 [==============================] - 1s 19ms/step - loss: 0.1483\n",
      "Epoch 168/200\n",
      "40/40 [==============================] - 1s 20ms/step - loss: 0.1483\n",
      "Epoch 169/200\n",
      "40/40 [==============================] - 1s 18ms/step - loss: 0.1483\n",
      "Epoch 170/200\n",
      "40/40 [==============================] - 1s 19ms/step - loss: 0.1483\n",
      "Epoch 171/200\n",
      "40/40 [==============================] - 1s 17ms/step - loss: 0.1483\n",
      "Epoch 172/200\n",
      "40/40 [==============================] - 1s 17ms/step - loss: 0.1483\n",
      "Epoch 173/200\n",
      "40/40 [==============================] - 1s 16ms/step - loss: 0.1483\n",
      "Epoch 174/200\n",
      "40/40 [==============================] - 1s 16ms/step - loss: 0.1483\n",
      "Epoch 175/200\n",
      "40/40 [==============================] - 1s 16ms/step - loss: 0.1483\n",
      "Epoch 176/200\n",
      "40/40 [==============================] - 1s 16ms/step - loss: 0.1483\n",
      "Epoch 177/200\n",
      "40/40 [==============================] - 1s 17ms/step - loss: 0.1483\n",
      "Epoch 178/200\n",
      "40/40 [==============================] - 1s 17ms/step - loss: 0.1483\n",
      "Epoch 179/200\n",
      "40/40 [==============================] - 1s 23ms/step - loss: 0.1483\n",
      "Epoch 180/200\n",
      "40/40 [==============================] - 1s 20ms/step - loss: 0.1483\n",
      "Epoch 181/200\n",
      "40/40 [==============================] - 1s 20ms/step - loss: 0.1483\n",
      "Epoch 182/200\n",
      "40/40 [==============================] - 1s 20ms/step - loss: 0.1483\n",
      "Epoch 183/200\n",
      "40/40 [==============================] - 1s 19ms/step - loss: 0.1483\n",
      "Epoch 184/200\n",
      "40/40 [==============================] - 1s 18ms/step - loss: 0.1483\n",
      "Epoch 185/200\n",
      "40/40 [==============================] - 1s 17ms/step - loss: 0.1483\n",
      "Epoch 186/200\n",
      "40/40 [==============================] - 1s 18ms/step - loss: 0.1483\n",
      "Epoch 187/200\n",
      "40/40 [==============================] - 1s 21ms/step - loss: 0.1483\n",
      "Epoch 188/200\n",
      "40/40 [==============================] - 1s 19ms/step - loss: 0.1483\n",
      "Epoch 189/200\n",
      "40/40 [==============================] - 1s 21ms/step - loss: 0.1483\n",
      "Epoch 190/200\n",
      "40/40 [==============================] - 1s 19ms/step - loss: 0.1483\n",
      "Epoch 191/200\n",
      "40/40 [==============================] - 1s 19ms/step - loss: 0.1483\n",
      "Epoch 192/200\n",
      "40/40 [==============================] - 1s 17ms/step - loss: 0.1483\n",
      "Epoch 193/200\n",
      "40/40 [==============================] - 1s 19ms/step - loss: 0.1483\n",
      "Epoch 194/200\n",
      "40/40 [==============================] - 1s 21ms/step - loss: 0.1483\n",
      "Epoch 195/200\n",
      "40/40 [==============================] - 1s 21ms/step - loss: 0.1483\n",
      "Epoch 196/200\n",
      "40/40 [==============================] - 1s 18ms/step - loss: 0.1483\n",
      "Epoch 197/200\n",
      "40/40 [==============================] - 1s 19ms/step - loss: 0.1483\n",
      "Epoch 198/200\n",
      "40/40 [==============================] - 1s 18ms/step - loss: 0.1483\n",
      "Epoch 199/200\n",
      "40/40 [==============================] - 1s 18ms/step - loss: 0.1483\n",
      "Epoch 200/200\n",
      "40/40 [==============================] - 1s 17ms/step - loss: 0.1483\n",
      "13/13 [==============================] - 0s 6ms/step\n",
      "4/4 [==============================] - 0s 4ms/step\n"
     ]
    }
   ],
   "source": [
    "model=Sequential()\n",
    "model.add(Dense(units=3000, activation='linear', input_dim=c))\n",
    "model.add(Dense(units=500, activation='tanh'))\n",
    "model.add(Dense(units=300, activation='relu'))\n",
    "model.add(Dense(units=3, activation='sigmoid'))    #output layer\n",
    "model.compile(loss='mse',\n",
    "              optimizer=Adam(lr=0.0001,beta_1=0.9,beta_2=0.999))\n",
    "\n",
    "model.fit(x_train,y_train,epochs=200,batch_size=10)  #10, 5 \n",
    "\n",
    "\n",
    "pred_train=model.predict(x_train)\n",
    "pred_test=model.predict(x_test)"
   ]
  },
  {
   "cell_type": "code",
   "execution_count": null,
   "metadata": {},
   "outputs": [
    {
     "data": {
      "text/plain": [
       "\"\\nmodel=Sequential()\\nmodel.add(Dense(units=c, activation='relu', input_dim=c))\\nmodel.add(Dense(units=900, activation='tanh'))\\nmodel.add(Dense(units=200, activation='relu'))\\nmodel.add(Dense(units=3, activation='sigmoid'))    #output layer\\nmodel.compile(loss='mse',\\n              optimizer=Adam(lr=0.001,beta_1=0.9,beta_2=0.999))\\n\\nmodel.fit(x_train,y_train,epochs=200,batch_size=6)  \\n\\n\\npred_train=model.predict(x_train)\\npred_test=model.predict(x_test)\\n\\nMissclasification_train:  0.29396984924623115\\nMissclassification_test:  0.41\\n\\npredicts ONLY class 1...\\n\""
      ]
     },
     "execution_count": 181,
     "metadata": {},
     "output_type": "execute_result"
    }
   ],
   "source": [
    "'''\n",
    "model=Sequential()\n",
    "model.add(Dense(units=c, activation='relu', input_dim=c))\n",
    "model.add(Dense(units=900, activation='tanh'))\n",
    "model.add(Dense(units=200, activation='relu'))\n",
    "model.add(Dense(units=3, activation='sigmoid'))    #output layer\n",
    "model.compile(loss='mse',\n",
    "              optimizer=Adam(lr=0.001,beta_1=0.9,beta_2=0.999))\n",
    "\n",
    "model.fit(x_train,y_train,epochs=200,batch_size=6)  \n",
    "\n",
    "\n",
    "pred_train=model.predict(x_train)\n",
    "pred_test=model.predict(x_test)\n",
    "\n",
    "Missclasification_train:  0.29396984924623115\n",
    "Missclassification_test:  0.41\n",
    "\n",
    "predicts ONLY class 1...\n",
    "'''"
   ]
  },
  {
   "cell_type": "code",
   "execution_count": null,
   "metadata": {},
   "outputs": [
    {
     "data": {
      "text/plain": [
       "\"\\nmodel=Sequential()\\nmodel.add(Dense(units=c, activation='linear', input_dim=c))\\nmodel.add(Dense(units=200, activation='relu'))\\nmodel.add(Dense(units=3, activation='sigmoid'))    #output layer\\nmodel.compile(loss='mse',\\n              optimizer=Adam(lr=0.001,beta_1=0.9,beta_2=0.999))\\n\\nmodel.fit(x_train,y_train,epochs=200,batch_size=6) \\n\\n\\npred_train=model.predict(x_train)\\npred_test=model.predict(x_test)\\nMissclasification_train:  0.7412060301507538\\nMissclassification_test:  0.7\\n\""
      ]
     },
     "execution_count": 182,
     "metadata": {},
     "output_type": "execute_result"
    }
   ],
   "source": [
    "'''\n",
    "model=Sequential()\n",
    "model.add(Dense(units=c, activation='linear', input_dim=c))\n",
    "model.add(Dense(units=200, activation='relu'))\n",
    "model.add(Dense(units=3, activation='sigmoid'))    #output layer\n",
    "model.compile(loss='mse',\n",
    "              optimizer=Adam(lr=0.001,beta_1=0.9,beta_2=0.999))\n",
    "\n",
    "model.fit(x_train,y_train,epochs=200,batch_size=6) \n",
    "\n",
    "\n",
    "pred_train=model.predict(x_train)\n",
    "pred_test=model.predict(x_test)\n",
    "Missclasification_train:  0.7412060301507538\n",
    "Missclassification_test:  0.7\n",
    "'''"
   ]
  },
  {
   "cell_type": "code",
   "execution_count": null,
   "metadata": {},
   "outputs": [],
   "source": [
    "pred_test_2 = np.zeros(pred_test.shape)\n",
    "for i in range(len(pred_test)):\n",
    "  pred_test_2[i, pred_test[i,:].argmax()  ] = 1\n",
    "\n",
    "pred_train_2 = np.zeros(pred_train.shape)\n",
    "for i in range(len(pred_train)):\n",
    "  pred_train_2[i, pred_train[i,:].argmax()  ] = 1"
   ]
  },
  {
   "cell_type": "code",
   "execution_count": null,
   "metadata": {},
   "outputs": [
    {
     "name": "stdout",
     "output_type": "stream",
     "text": [
      "[0.999998   0.99999815 0.99999744] -- [0. 1. 0.]\n",
      "\n",
      "Prediction --   Target\n",
      "[0. 0. 1.] -- [0. 1. 0.]\n",
      "[0. 1. 0.] -- [0. 1. 0.]\n",
      "[0. 1. 0.] -- [0. 1. 0.]\n",
      "[0. 0. 1.] -- [1. 0. 0.]\n",
      "[0. 0. 1.] -- [0. 0. 1.]\n",
      "[0. 0. 1.] -- [0. 1. 0.]\n",
      "[1. 0. 0.] -- [1. 0. 0.]\n",
      "[0. 0. 1.] -- [1. 0. 0.]\n",
      "[0. 1. 0.] -- [1. 0. 0.]\n",
      "[0. 1. 0.] -- [0. 1. 0.]\n",
      "[1. 0. 0.] -- [0. 1. 0.]\n",
      "[0. 0. 1.] -- [1. 0. 0.]\n",
      "[1. 0. 0.] -- [1. 0. 0.]\n",
      "[0. 1. 0.] -- [0. 1. 0.]\n",
      "[0. 0. 1.] -- [0. 1. 0.]\n",
      "[1. 0. 0.] -- [0. 1. 0.]\n",
      "[1. 0. 0.] -- [0. 1. 0.]\n",
      "[0. 1. 0.] -- [0. 1. 0.]\n",
      "[1. 0. 0.] -- [0. 1. 0.]\n",
      "[1. 0. 0.] -- [0. 1. 0.]\n"
     ]
    }
   ],
   "source": [
    "#print(pred_train.shape,\"--\",x_train.shape)\n",
    "#print(pred_test.shape,\"--\",x_test.shape)\n",
    "\n",
    "print(pred_train[23,:],\"--\",y_train_dummy[0,:])\n",
    "print(  )\n",
    "print(\"Prediction\",\"--\",\"  Target\")\n",
    "for i in range(180,200):\n",
    "  print(pred_train_2[i,:],\"--\",y_train_dummy[i,:])"
   ]
  },
  {
   "cell_type": "markdown",
   "metadata": {},
   "source": [
    "It predicts different classes!!!"
   ]
  },
  {
   "cell_type": "code",
   "execution_count": null,
   "metadata": {},
   "outputs": [
    {
     "name": "stdout",
     "output_type": "stream",
     "text": [
      "MSE_train:  1.8503334895666848\n",
      "MSE_test:  1.8050412938987537\n",
      "MSE_train:  1.3668341708542713\n",
      "MSE_test:  1.36\n"
     ]
    }
   ],
   "source": [
    "MSE_train = np.sum(  (pred_train-y_train_dummy)**2)   /pred_train.shape[0]\n",
    "MSE_test = np.sum(  (pred_test-y_test_dummy)**2)   /pred_test.shape[0]\n",
    "\n",
    "print(\"MSE_train: \",MSE_train)\n",
    "print(\"MSE_test: \",MSE_test)\n",
    "\n",
    "\n",
    "MSE_train = np.sum(  (pred_train_2-y_train_dummy)**2)   /pred_train.shape[0]\n",
    "MSE_test = np.sum(  (pred_test_2-y_test_dummy)**2)   /pred_test.shape[0]\n",
    "\n",
    "print(\"MSE_train: \",MSE_train)\n",
    "print(\"MSE_test: \",MSE_test)"
   ]
  },
  {
   "cell_type": "code",
   "execution_count": null,
   "metadata": {},
   "outputs": [
    {
     "name": "stdout",
     "output_type": "stream",
     "text": [
      "Missclasification_train:  0.6834170854271356\n",
      "Missclassification_test:  0.68\n"
     ]
    }
   ],
   "source": [
    "miss_train = np.sum(  abs(pred_train_2-y_train_dummy)/2)   /pred_train.shape[0]\n",
    "miss_test = np.sum(  abs(pred_test_2-y_test_dummy)/2)   /pred_test.shape[0]\n",
    "\n",
    "print(\"Missclasification_train: \",miss_train)\n",
    "print(\"Missclassification_test: \",miss_test)"
   ]
  },
  {
   "cell_type": "code",
   "execution_count": null,
   "metadata": {},
   "outputs": [
    {
     "data": {
      "text/plain": [
       "\"\\nmodel=Sequential()\\nmodel.add(Dense(units=c, activation='linear', input_dim=c))\\nmodel.add(Dense(units=800, activation='relu'))\\nmodel.add(Dense(units=3, activation='sigmoid'))    #output layer\\nmodel.compile(loss='mse',\\n              optimizer=Adam(lr=0.001,beta_1=0.9,beta_2=0.999))\\n\\nmodel.fit(x_train,y_train,epochs=10000,batch_size=6) \\n\\n\\nNon-trivial predictions!!!!!!!!!!\\n\""
      ]
     },
     "execution_count": 187,
     "metadata": {},
     "output_type": "execute_result"
    }
   ],
   "source": [
    "'''\n",
    "model=Sequential()\n",
    "model.add(Dense(units=c, activation='linear', input_dim=c))\n",
    "model.add(Dense(units=800, activation='relu'))\n",
    "model.add(Dense(units=3, activation='sigmoid'))    #output layer\n",
    "model.compile(loss='mse',\n",
    "              optimizer=Adam(lr=0.001,beta_1=0.9,beta_2=0.999))\n",
    "\n",
    "model.fit(x_train,y_train,epochs=10000,batch_size=6) \n",
    "\n",
    "\n",
    "Non-trivial predictions!!!!!!!!!!\n",
    "'''"
   ]
  },
  {
   "cell_type": "code",
   "execution_count": null,
   "metadata": {},
   "outputs": [
    {
     "data": {
      "text/plain": [
       "\"\\nmodel=Sequential()\\nmodel.add(Dense(units=900, activation='relu', input_dim=c))\\nmodel.add(Dense(units=300, activation='tanh'))\\nmodel.add(Dense(units=3, activation='sigmoid'))    #output layer\\nmodel.compile(loss='mse',\\n              optimizer=Adam(lr=0.0001,beta_1=0.9,beta_2=0.999))\\n\\nmodel.fit(x_train,y_train,epochs=200,batch_size=10)  #10, 5 \\n\\n\\npred_train=model.predict(x_train)\\npred_test=model.predict(x_test)\\n\\nMissclasification_train:  0.5753768844221105\\nMissclassification_test:  0.53\\n\""
      ]
     },
     "execution_count": 188,
     "metadata": {},
     "output_type": "execute_result"
    }
   ],
   "source": [
    "'''\n",
    "model=Sequential()\n",
    "model.add(Dense(units=900, activation='relu', input_dim=c))\n",
    "model.add(Dense(units=300, activation='tanh'))\n",
    "model.add(Dense(units=3, activation='sigmoid'))    #output layer\n",
    "model.compile(loss='mse',\n",
    "              optimizer=Adam(lr=0.0001,beta_1=0.9,beta_2=0.999))\n",
    "\n",
    "model.fit(x_train,y_train,epochs=200,batch_size=10)  #10, 5 \n",
    "\n",
    "\n",
    "pred_train=model.predict(x_train)\n",
    "pred_test=model.predict(x_test)\n",
    "\n",
    "Missclasification_train:  0.5753768844221105\n",
    "Missclassification_test:  0.53\n",
    "'''"
   ]
  }
 ],
 "metadata": {
  "kernelspec": {
   "display_name": "kt",
   "language": "python",
   "name": "python3"
  },
  "language_info": {
   "codemirror_mode": {
    "name": "ipython",
    "version": 3
   },
   "file_extension": ".py",
   "mimetype": "text/x-python",
   "name": "python",
   "nbconvert_exporter": "python",
   "pygments_lexer": "ipython3",
   "version": "3.7.12"
  }
 },
 "nbformat": 4,
 "nbformat_minor": 2
}
