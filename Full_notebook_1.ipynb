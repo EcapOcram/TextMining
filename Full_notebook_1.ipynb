{
  "cells": [
    {
      "cell_type": "markdown",
      "metadata": {
        "id": "FXm1kp_mhEpe"
      },
      "source": [
        "# Group 9 assignment output"
      ]
    },
    {
      "cell_type": "markdown",
      "metadata": {
        "id": "lSKwQeT7RLqF"
      },
      "source": [
        "## Introduction: goal and methodology"
      ]
    },
    {
      "cell_type": "markdown",
      "metadata": {
        "id": "2IgOXq4-RLqG"
      },
      "source": [
        "The goal of the project is to try to explain after-the-fact the price movement of a stock during a day training a text classifier on the financial news headlines of the same day. Following the recomendation in the assignement notebook, we consider this a multilabel classification problem: the input is the string of the concatenated titles for a stock and the output is the class of the price movement (DOWN, FLAT, UP).\n",
        "\n",
        "We identified four phases:\n",
        " - web scraping\n",
        " - dataset creation\n",
        " - model training\n",
        " - model evaluation\n",
        "\n",
        "Therefore, this notebook is divided in four sections. In the first section, we present the code used to extract the financial headlines: we executed the code every day during the last working week, after the US market had closed so as to have the maximum number of articles published during day and the full daily price variation. In the second, we create and visualise the dataset. It is imbalanced but we decided to not rebalance the dataset as it is not big enough. Finally, in the last two sections, we train different models, we choose one based on performanced on the validation set and test it on the test set.\n"
      ]
    },
    {
      "cell_type": "markdown",
      "metadata": {
        "id": "nL91yRYrg98H"
      },
      "source": [
        "## Titles extraction"
      ]
    },
    {
      "cell_type": "code",
      "execution_count": null,
      "metadata": {
        "id": "d9i4mbwahNJv"
      },
      "outputs": [],
      "source": [
        "import urllib.request\n",
        "import bs4 as bs\n",
        "import time\n",
        "import datetime\n",
        "\n",
        "import pandas as pd\n",
        "import numpy as np\n",
        "import yfinance as yf"
      ]
    },
    {
      "cell_type": "code",
      "execution_count": null,
      "metadata": {
        "id": "Z3-E6WMOhQrN"
      },
      "outputs": [],
      "source": [
        "t_df = pd.read_html(\n",
        "    'https://en.wikipedia.org/wiki/List_of_S%26P_500_companies')[0]\n",
        "\n",
        "num_tickers = 500\n",
        "\n",
        "tickers = list(t_df[\"Symbol\"][0:num_tickers])\n",
        "\n",
        "#tickers = [\"TSLA\",  \"EBAY\", \"META\" ]   # for test\n",
        "#print(tickers)"
      ]
    },
    {
      "cell_type": "code",
      "execution_count": null,
      "metadata": {
        "id": "eO4F3APPhSEN"
      },
      "outputs": [],
      "source": [
        "#STOCK\n",
        "\n",
        "sleep_time  = 5\n",
        "\n",
        "def extract_dates(parsed_doc):\n",
        "    from math import floor\n",
        "    today = datetime.datetime.now().date()\n",
        "    dates = parsed_doc.find_all('pubdate')\n",
        "    list_date = []\n",
        "    for date  in dates:\n",
        "        d = datetime.datetime.strptime( date.text, \"%a, %d %b %Y %H:%M:%S GMT\" )\n",
        "        list_date += [floor((today - d.date()).days / 1)]                          #.days\n",
        "    return list_date\n",
        "\n",
        "\n",
        "def get_titles(ticker, sleep_time):\n",
        "    '''\n",
        "    This function return the url response from google news and parsed html for a stock ticker.\n",
        "    The time parameter is the sleep time before each request\n",
        "    '''\n",
        "    url = 'https://news.google.com/rss/search?hl=en-US&q='+ticker+'%20stock&gl=US&ceid=US:en'\n",
        "\n",
        "    time.sleep(sleep_time) ## wait 15 seconds between each request. This is SUPER IMPORTANT otherwise your IP-address will be banned for sending too frequent requests.\n",
        "\n",
        "    doc = urllib.request.urlopen(url).read()\n",
        "    parsed_doc = bs.BeautifulSoup(doc,'lxml')\n",
        "    titles = parsed_doc.find_all('title')[1:]\n",
        "    list_date = extract_dates(parsed_doc)                 # we  assume/have verified that the date are extracted in the same order as the titles\n",
        "    dct = {\"Ticker\": [ ticker ]*len(titles) , \"Titles\" : titles, \"Date\" : list_date}\n",
        "    title_df = pd.DataFrame(dct)\n",
        "    title_df = title_df.sort_values(by=\"Date\")\n",
        "    title_df = title_df[title_df[\"Date\"]==0]\n",
        "    return title_df\n",
        "\n",
        "list_df = []                        #dictionary with input data\n",
        "for ticker in tickers:\n",
        "    title = get_titles(ticker, sleep_time)\n",
        "    list_df.append(title)\n",
        "    print(title)\n",
        "\n",
        "#input_df = pd.DataFrame(dct.values(),index = tickers,columns=[\"Titles\"])"
      ]
    },
    {
      "cell_type": "code",
      "execution_count": null,
      "metadata": {
        "id": "9gWmlDtRhUUV"
      },
      "outputs": [],
      "source": [
        "input_df = pd.concat(list_df)\n",
        "input_df.shape\n",
        "input_df.head()"
      ]
    },
    {
      "cell_type": "code",
      "execution_count": null,
      "metadata": {
        "id": "W7AToueDhZz2"
      },
      "outputs": [],
      "source": [
        "sleep_time = 5\n",
        "threshold = 0.01\n",
        "\n",
        "def get_var_prc(ticker, sleep_time):\n",
        "    tickerData = yf.Ticker(ticker)\n",
        "    time.sleep(sleep_time)  # Wait between requests\n",
        "    df = tickerData.history()\n",
        "    if len(df) < 2:\n",
        "        print(f\"Insufficient data for {ticker}\")\n",
        "        return None\n",
        "    df['Change'] = df['Close'].diff()\n",
        "    return df[\"Change\"].iloc[-1] / df[\"Close\"].iloc[-2]  # Use iloc for integer indexing\n",
        "\n",
        "def get_target(x):\n",
        "    if x < -threshold:\n",
        "        return -1\n",
        "    elif abs(x) < threshold:\n",
        "        return 0\n",
        "    else:\n",
        "        return 1\n",
        "\n",
        "\n",
        "\n",
        "# Add a new column 'Var_prc' and assign values to it\n",
        "for ticker in input_df['Ticker']:\n",
        "    var_prc = get_var_prc(ticker, sleep_time)\n",
        "    if var_prc is not None:  # Check if data is available\n",
        "        input_df.loc[input_df[\"Ticker\"] == ticker, 'Var_prc'] = var_prc\n",
        "        input_df.loc[input_df[\"Ticker\"] == ticker, 'Target'] = input_df[input_df[\"Ticker\"] == ticker]['Var_prc'].apply(get_target)\n",
        "input_df.sample(n=5)"
      ]
    },
    {
      "cell_type": "code",
      "execution_count": null,
      "metadata": {
        "colab": {
          "base_uri": "https://localhost:8080/",
          "height": 35
        },
        "id": "GFUQ6iLOh9S-",
        "outputId": "7e562b8a-7382-493d-956c-3455124f78c1"
      },
      "outputs": [
        {
          "data": {
            "application/vnd.google.colaboratory.intrinsic+json": {
              "type": "string"
            },
            "text/plain": [
              "'data_3105_(puntoevirgola).csv'"
            ]
          },
          "execution_count": 52,
          "metadata": {},
          "output_type": "execute_result"
        }
      ],
      "source": [
        "today_date = datetime.datetime.today().strftime('%d%m')\n",
        "\n",
        "filename = f\"data_{today_date}_(puntoevirgola).csv\"\n",
        "input_df.to_csv(filename,sep=\";\")\n"
      ]
    },
    {
      "cell_type": "markdown",
      "metadata": {
        "id": "4hJOlCHaNvIf"
      },
      "source": [
        "## Dataset creation"
      ]
    },
    {
      "cell_type": "code",
      "execution_count": 1,
      "metadata": {
        "colab": {
          "base_uri": "https://localhost:8080/"
        },
        "id": "jOQJ2IKNP3Cu",
        "outputId": "5ef96dc1-a882-4221-ee7c-e73662320ea4"
      },
      "outputs": [],
      "source": [
        "#from google.colab import drive\n",
        "#drive.mount('/content/drive')"
      ]
    },
    {
      "cell_type": "code",
      "execution_count": null,
      "metadata": {
        "colab": {
          "base_uri": "https://localhost:8080/"
        },
        "collapsed": true,
        "id": "7lDePwjecTO_",
        "outputId": "7357cca2-98d8-4b11-afed-786ed228c224"
      },
      "outputs": [
        {
          "name": "stdout",
          "output_type": "stream",
          "text": [
            "Requirement already satisfied: transformers==4.37.2 in /usr/local/lib/python3.10/dist-packages (4.37.2)\n",
            "Requirement already satisfied: filelock in /usr/local/lib/python3.10/dist-packages (from transformers==4.37.2) (3.14.0)\n",
            "Requirement already satisfied: huggingface-hub<1.0,>=0.19.3 in /usr/local/lib/python3.10/dist-packages (from transformers==4.37.2) (0.23.1)\n",
            "Requirement already satisfied: numpy>=1.17 in /usr/local/lib/python3.10/dist-packages (from transformers==4.37.2) (1.25.2)\n",
            "Requirement already satisfied: packaging>=20.0 in /usr/local/lib/python3.10/dist-packages (from transformers==4.37.2) (24.0)\n",
            "Requirement already satisfied: pyyaml>=5.1 in /usr/local/lib/python3.10/dist-packages (from transformers==4.37.2) (6.0.1)\n",
            "Requirement already satisfied: regex!=2019.12.17 in /usr/local/lib/python3.10/dist-packages (from transformers==4.37.2) (2024.5.15)\n",
            "Requirement already satisfied: requests in /usr/local/lib/python3.10/dist-packages (from transformers==4.37.2) (2.31.0)\n",
            "Requirement already satisfied: tokenizers<0.19,>=0.14 in /usr/local/lib/python3.10/dist-packages (from transformers==4.37.2) (0.15.2)\n",
            "Requirement already satisfied: safetensors>=0.4.1 in /usr/local/lib/python3.10/dist-packages (from transformers==4.37.2) (0.4.3)\n",
            "Requirement already satisfied: tqdm>=4.27 in /usr/local/lib/python3.10/dist-packages (from transformers==4.37.2) (4.66.4)\n",
            "Requirement already satisfied: fsspec>=2023.5.0 in /usr/local/lib/python3.10/dist-packages (from huggingface-hub<1.0,>=0.19.3->transformers==4.37.2) (2023.6.0)\n",
            "Requirement already satisfied: typing-extensions>=3.7.4.3 in /usr/local/lib/python3.10/dist-packages (from huggingface-hub<1.0,>=0.19.3->transformers==4.37.2) (4.11.0)\n",
            "Requirement already satisfied: charset-normalizer<4,>=2 in /usr/local/lib/python3.10/dist-packages (from requests->transformers==4.37.2) (3.3.2)\n",
            "Requirement already satisfied: idna<4,>=2.5 in /usr/local/lib/python3.10/dist-packages (from requests->transformers==4.37.2) (3.7)\n",
            "Requirement already satisfied: urllib3<3,>=1.21.1 in /usr/local/lib/python3.10/dist-packages (from requests->transformers==4.37.2) (2.0.7)\n",
            "Requirement already satisfied: certifi>=2017.4.17 in /usr/local/lib/python3.10/dist-packages (from requests->transformers==4.37.2) (2024.2.2)\n"
          ]
        }
      ],
      "source": [
        "#!pip install ktrain\n",
        "#!pip install sentence_transformers\n",
        "#!pip install --upgrade transformers==4.37.2     # otherwise ktrain.get_learner() does not work https://github.com/amaiya/ktrain/issues/523"
      ]
    },
    {
      "cell_type": "markdown",
      "metadata": {
        "id": "GQsVN5IINvIj"
      },
      "source": [
        "First we import the necessary libraries and load the csv"
      ]
    },
    {
      "cell_type": "code",
      "execution_count": null,
      "metadata": {
        "id": "u47rKz3wbtP-"
      },
      "outputs": [],
      "source": [
        "import pandas as pd\n",
        "import numpy as np\n",
        "import tensorflow as tf\n",
        "import ktrain\n",
        "from ktrain import text"
      ]
    },
    {
      "cell_type": "markdown",
      "metadata": {
        "id": "Dv5a_r0TSBXN"
      },
      "source": [
        "Now, we want to train our models only on stocks and price variations for which there is a minimum number of headlines. To choose the minimum number of headlines T, we plot the distribution of samples across targets for different choices of T."
      ]
    },
    {
      "cell_type": "code",
      "execution_count": null,
      "metadata": {
        "colab": {
          "base_uri": "https://localhost:8080/",
          "height": 950
        },
        "id": "Hv16tCzMNvIk",
        "outputId": "60ad8df5-1202-407c-e319-ba55de283191"
      },
      "outputs": [
        {
          "data": {
            "image/png": "[encoded data removed]",
            "text/plain": [
              "<Figure size 1500x1000 with 6 Axes>"
            ]
          },
          "metadata": {},
          "output_type": "display_data"
        }
      ],
      "source": [
        "import matplotlib.pyplot as plt\n",
        "import pandas as pd\n",
        "\n",
        "# parameters to read the data\n",
        "file_list_1 = [\"/data_2805(puntoevirgola).csv\", \"/data_2905(puntoevirgola).csv\",\"/data_3005(puntoevirgola).csv\",\"/data_3105(puntoevirgola).csv\"]\n",
        "#path = \"/content/drive/MyDrive/0.CARMAN_PROJECT/Friday_update_21_50/Data\"      #path to Data folder\n",
        "path = \"Data/\"\n",
        "file_list_1 = [ path+s for s in file_list_1 ]\n",
        "\n",
        "# target values\n",
        "target = [-1, 0, 1]\n",
        "# input dataframe columns\n",
        "col = [\"Ticker\"] + [\"Article \" + str(i + 1) for i in range(10)] + [\"Target\"] + [\"Concatenated Titles\"]\n",
        "\n",
        "# Create subplots\n",
        "fig, axes = plt.subplots(nrows=2, ncols=3, figsize=(15, 10))\n",
        "fig.subplots_adjust(hspace=0.5, wspace=0.3)  # Adjust spacing between subplots\n",
        "\n",
        "# we iterate over the thresholds\n",
        "threshold = [4,5, 6, 8, 9, 10]\n",
        "for i, T in enumerate(threshold):\n",
        "    row_index = i // 3   # parameters for visualization\n",
        "    col_index = i % 3\n",
        "\n",
        "    # DataFrame initialization for each threshold\n",
        "    all_data_set = pd.DataFrame(columns=col)\n",
        "\n",
        "    # we iterate over the files to create the input dataframe\n",
        "    for file_name in file_list_1:\n",
        "        # we read the file\n",
        "        data_set = pd.read_csv(file_name, sep=\";\")\n",
        "        input_df = pd.DataFrame(columns=col)\n",
        "\n",
        "        for ticker in data_set[\"Ticker\"].unique():\n",
        "            # we etract all the headlines related to a stock during a day\n",
        "            ticker_df = data_set[data_set[\"Ticker\"] == ticker]\n",
        "            articles_list = ticker_df[\"Titles\"].to_list()\n",
        "\n",
        "            # and we add a row to the input dataframe only if there are enough articles\n",
        "            if len(articles_list) >= T:\n",
        "                ticker_target = ticker_df[\"Target\"].iloc[0]\n",
        "                new_row = [ticker] + articles_list[0:T] + [\"\"] * (10 - T) + [ticker_target] + [\" \".join(articles_list)]\n",
        "                input_df.loc[len(input_df.index)] = new_row\n",
        "        all_data_set = pd.concat([all_data_set, input_df], ignore_index=True)\n",
        "\n",
        "    # Plot the distribution of samples for the current threshold\n",
        "    ax = axes[row_index, col_index]\n",
        "    ax.bar(target, [all_data_set[all_data_set[\"Target\"] == t].shape[0] for t in target], color='skyblue',\n",
        "           edgecolor='black')\n",
        "    ax.set_xlabel('Target class')\n",
        "    ax.set_ylabel('Number of samples')\n",
        "    ax.set_title('Threshold = ' + str(T) + \", Total Samples = \" + str(all_data_set.shape[0]))\n",
        "\n",
        "# Add a common title for all subplots\n",
        "fig.suptitle('Distribution of Samples Across Target Classes for Different Thresholds', fontsize=16)\n",
        "\n",
        "plt.show()\n"
      ]
    },
    {
      "cell_type": "markdown",
      "metadata": {
        "id": "rY4uGJ6ENvIk"
      },
      "source": [
        "It is clear that there is a tradeoff between the size of the threshold and the number of samples: we decided that a threshold of four is the minimum that we can consider."
      ]
    },
    {
      "cell_type": "code",
      "execution_count": null,
      "metadata": {
        "colab": {
          "base_uri": "https://localhost:8080/",
          "height": 685
        },
        "id": "LiffcpTHNvIl",
        "outputId": "8b5d4078-3a6b-4439-c2e2-b5479794bcdb"
      },
      "outputs": [
        {
          "data": {
            "image/png": "[encoded data removed]",
            "text/plain": [
              "<Figure size 640x480 with 1 Axes>"
            ]
          },
          "metadata": {},
          "output_type": "display_data"
        },
        {
          "name": "stdout",
          "output_type": "stream",
          "text": [
            "[182, 201, 127]\n"
          ]
        },
        {
          "data": {
            "text/html": [
              "<div>\n",
              "<style scoped>\n",
              "    .dataframe tbody tr th:only-of-type {\n",
              "        vertical-align: middle;\n",
              "    }\n",
              "\n",
              "    .dataframe tbody tr th {\n",
              "        vertical-align: top;\n",
              "    }\n",
              "\n",
              "    .dataframe thead th {\n",
              "        text-align: right;\n",
              "    }\n",
              "</style>\n",
              "<table border=\"1\" class=\"dataframe\">\n",
              "  <thead>\n",
              "    <tr style=\"text-align: right;\">\n",
              "      <th></th>\n",
              "      <th>Ticker</th>\n",
              "      <th>Article 1</th>\n",
              "      <th>Article 2</th>\n",
              "      <th>Article 3</th>\n",
              "      <th>Article 4</th>\n",
              "      <th>Article 5</th>\n",
              "      <th>Article 6</th>\n",
              "      <th>Article 7</th>\n",
              "      <th>Article 8</th>\n",
              "      <th>Article 9</th>\n",
              "      <th>Article 10</th>\n",
              "      <th>Target</th>\n",
              "      <th>Concatenated Titles</th>\n",
              "    </tr>\n",
              "  </thead>\n",
              "  <tbody>\n",
              "    <tr>\n",
              "      <th>34</th>\n",
              "      <td>ED</td>\n",
              "      <td>When (ED) Moves Investors should Listen - Stoc...</td>\n",
              "      <td>EverSource Wealth Advisors LLC Sells 256 Share...</td>\n",
              "      <td>Subscriptions open for Abu Dhabi's Alef Educat...</td>\n",
              "      <td>As Alef IPO opens, is education going to be ne...</td>\n",
              "      <td></td>\n",
              "      <td></td>\n",
              "      <td></td>\n",
              "      <td></td>\n",
              "      <td></td>\n",
              "      <td></td>\n",
              "      <td>-1.0</td>\n",
              "      <td>When (ED) Moves Investors should Listen - Stoc...</td>\n",
              "    </tr>\n",
              "    <tr>\n",
              "      <th>241</th>\n",
              "      <td>MKTX</td>\n",
              "      <td>MarketAxess Holdings Inc. stock outperforms co...</td>\n",
              "      <td>Is MarketAxess Holdings (MKTX) Stock Outpacing...</td>\n",
              "      <td>MarketAxess Holdings Inc. (NASDAQ:MKTX) Shares...</td>\n",
              "      <td>3 Stocks on Sale: MRNA, BLDR, and MKTX - Bayst...</td>\n",
              "      <td></td>\n",
              "      <td></td>\n",
              "      <td></td>\n",
              "      <td></td>\n",
              "      <td></td>\n",
              "      <td></td>\n",
              "      <td>-1.0</td>\n",
              "      <td>MarketAxess Holdings Inc. stock outperforms co...</td>\n",
              "    </tr>\n",
              "    <tr>\n",
              "      <th>91</th>\n",
              "      <td>NFLX</td>\n",
              "      <td>Netflix Stock Gets Price Target Hike On Plan C...</td>\n",
              "      <td>Netflix (NASDAQ:NFLX) Price Target Increased t...</td>\n",
              "      <td>Netflix, Inc. (NASDAQ:NFLX) Shares Purchased b...</td>\n",
              "      <td>Netflix To Rally Over 8%? Here Are 10 Top Anal...</td>\n",
              "      <td></td>\n",
              "      <td></td>\n",
              "      <td></td>\n",
              "      <td></td>\n",
              "      <td></td>\n",
              "      <td></td>\n",
              "      <td>0.0</td>\n",
              "      <td>Netflix Stock Gets Price Target Hike On Plan C...</td>\n",
              "    </tr>\n",
              "  </tbody>\n",
              "</table>\n",
              "</div>"
            ],
            "text/plain": [
              "    Ticker                                          Article 1  \\\n",
              "34      ED  When (ED) Moves Investors should Listen - Stoc...   \n",
              "241   MKTX  MarketAxess Holdings Inc. stock outperforms co...   \n",
              "91    NFLX  Netflix Stock Gets Price Target Hike On Plan C...   \n",
              "\n",
              "                                             Article 2  \\\n",
              "34   EverSource Wealth Advisors LLC Sells 256 Share...   \n",
              "241  Is MarketAxess Holdings (MKTX) Stock Outpacing...   \n",
              "91   Netflix (NASDAQ:NFLX) Price Target Increased t...   \n",
              "\n",
              "                                             Article 3  \\\n",
              "34   Subscriptions open for Abu Dhabi's Alef Educat...   \n",
              "241  MarketAxess Holdings Inc. (NASDAQ:MKTX) Shares...   \n",
              "91   Netflix, Inc. (NASDAQ:NFLX) Shares Purchased b...   \n",
              "\n",
              "                                             Article 4 Article 5 Article 6  \\\n",
              "34   As Alef IPO opens, is education going to be ne...                       \n",
              "241  3 Stocks on Sale: MRNA, BLDR, and MKTX - Bayst...                       \n",
              "91   Netflix To Rally Over 8%? Here Are 10 Top Anal...                       \n",
              "\n",
              "    Article 7 Article 8 Article 9 Article 10  Target  \\\n",
              "34                                              -1.0   \n",
              "241                                             -1.0   \n",
              "91                                               0.0   \n",
              "\n",
              "                                   Concatenated Titles  \n",
              "34   When (ED) Moves Investors should Listen - Stoc...  \n",
              "241  MarketAxess Holdings Inc. stock outperforms co...  \n",
              "91   Netflix Stock Gets Price Target Hike On Plan C...  "
            ]
          },
          "execution_count": 5,
          "metadata": {},
          "output_type": "execute_result"
        }
      ],
      "source": [
        " # same code from before\n",
        "all_data_set = pd.DataFrame(columns=col)\n",
        "T = 4\n",
        "for file_name in file_list_1:\n",
        "    data_set = pd.read_csv(file_name, sep=\";\")\n",
        "    input_df = pd.DataFrame(columns=col)\n",
        "    for ticker in data_set[\"Ticker\"].unique():\n",
        "        ticker_df = data_set[data_set[\"Ticker\"] == ticker]\n",
        "        articles_list = ticker_df[\"Titles\"].to_list()\n",
        "        if len(articles_list) >= T:\n",
        "            articles_list = articles_list[:T]\n",
        "            ticker_target = ticker_df[\"Target\"].iloc[0]\n",
        "            new_row = [ticker] + articles_list + [\"\"] * (10 - T) + [ticker_target] + [\" \".join(articles_list)]\n",
        "            input_df.loc[len(input_df.index)] = new_row\n",
        "    all_data_set = pd.concat([all_data_set, input_df], ignore_index=True)\n",
        "# Cleaning the columns\n",
        "for i in range(1, 11):\n",
        "    column_name = f'Article {i}'\n",
        "    all_data_set[column_name] = all_data_set[column_name].str.replace('<title>', '').str.replace('</title>', '')\n",
        "all_data_set[\"Concatenated Titles\"] = all_data_set[\"Concatenated Titles\"].str.replace('<title>', '').str.replace('</title>', '')\n",
        "\n",
        "input_df = all_data_set\n",
        "\n",
        "input_df = input_df.dropna()\n",
        "'''\n",
        "# if we want to rebalance the dataset\n",
        "num_rows_to_keep = max(all_data_set[all_data_set[\"Target\"] == 1].shape[0], all_data_set[all_data_set[\"Target\"] == -1].shape[0])\n",
        "\n",
        "subset_to_keep = all_data_set[all_data_set[\"Target\"] == 0].sample(n = num_rows_to_keep)\n",
        "input_df = pd.concat([subset_to_keep,all_data_set[all_data_set[\"Target\"] == 1],all_data_set[all_data_set[\"Target\"] == -1]])\n",
        "\n",
        "'''\n",
        "plt.bar( target ,[input_df[input_df[\"Target\"] == t ].shape[0] for t in target], color='skyblue', edgecolor='black')\n",
        "\n",
        "plt.xlabel('Target class')\n",
        "plt.ylabel('Number of samples')\n",
        "plt.title('X = '+ str(T)+\" Tot = \" +str(input_df.shape[0]))\n",
        "\n",
        "plt.show()\n",
        "print([input_df[input_df[\"Target\"] == t ].shape[0] for t in target])\n",
        "input_df.sample(n=3)"
      ]
    },
    {
      "cell_type": "markdown",
      "metadata": {
        "id": "P0m6hl2vNvIl"
      },
      "source": [
        "Now we divide the dataset in training set, validation set and test set"
      ]
    },
    {
      "cell_type": "code",
      "execution_count": null,
      "metadata": {
        "id": "QddTtOu3NvIm"
      },
      "outputs": [],
      "source": [
        "from sklearn.model_selection import train_test_split\n",
        "\n",
        "X = input_df.filter([\"Concatenated Titles\"],axis=1)\n",
        "Y = input_df.filter([\"Target\"],axis=1)\n",
        "#print(Y)\n",
        "\n",
        "x_train, x_test, y_train, y_test = train_test_split( X, Y, test_size=0.20, random_state=42)\n",
        "x_train, x_val, y_train, y_val = train_test_split( x_train, y_train, test_size=0.20, random_state=42)\n",
        "\n",
        "y_train = y_train + 1\n",
        "y_test = y_test + 1\n",
        "y_val = y_val + 1"
      ]
    },
    {
      "cell_type": "markdown",
      "metadata": {
        "id": "iT3OCrQEgvhw"
      },
      "source": [
        "## Model training and validation"
      ]
    },
    {
      "cell_type": "markdown",
      "metadata": {
        "id": "Jci-9uZ8XhFh"
      },
      "source": [
        "We present three text classifiers:\n",
        " - a bert model,\n",
        " - a distilroberta concatenated with a neural network\n",
        " - a Text2Vec model concatenated with a neural network. \\\n",
        "\n",
        "The bert model has been the first model we trained: we noticed that a problem is that the transformer accepts strings of 500 maximum characters. So, we dealt with that in two different ways: in the second model we used a distilroberta finetuned for financial sentiment anlalysis to trasform the headlines in a binary array, and in the last model we generate a embedding of the concatenated headlines unsing a Text2vec model."
      ]
    },
    {
      "cell_type": "markdown",
      "metadata": {
        "id": "96HLYrKwNvIm"
      },
      "source": [
        "### bert-base-multilingual-uncased"
      ]
    },
    {
      "cell_type": "markdown",
      "metadata": {
        "id": "LN1eGr1lYYfg"
      },
      "source": [
        "As mentioned above, the input of the model is the string of the concatenated headlines. We consider this model as the benchmark as we apply exacly the steps we have seen in class:\n",
        " - we obtain the transformer to preprocess the data\n",
        " - we find the optimal learning rate\n",
        " - we train the classifier\n",
        " - we evaluate the performance on the validation set"
      ]
    },
    {
      "cell_type": "code",
      "execution_count": null,
      "metadata": {
        "id": "J2fbk722NvIm"
      },
      "outputs": [],
      "source": [
        "model_name = 'bert-base-multilingual-uncased'\n",
        "transformer = text.Transformer(model_name, maxlen=500, class_names= np.array([0,1,2]))"
      ]
    },
    {
      "cell_type": "code",
      "execution_count": null,
      "metadata": {
        "colab": {
          "base_uri": "https://localhost:8080/",
          "height": 277
        },
        "id": "zEtUSoKdNvIm",
        "outputId": "f9fe9999-efda-4584-a1b1-3965d96640a9"
      },
      "outputs": [
        {
          "name": "stdout",
          "output_type": "stream",
          "text": [
            "preprocessing train...\n",
            "language: en\n",
            "train sequence lengths:\n",
            "\tmean : 55\n",
            "\t95percentile : 68\n",
            "\t99percentile : 74\n"
          ]
        },
        {
          "name": "stderr",
          "output_type": "stream",
          "text": [
            "c:\\Users\\volpe\\anaconda3\\envs\\kt\\lib\\site-packages\\ktrain\\utils.py:769: UserWarning: class_names implies classification but targets array contains float(s) instead of integers or strings\n",
            "  \"class_names implies classification but targets array contains float(s) instead of integers or strings\"\n"
          ]
        },
        {
          "data": {
            "text/html": [
              "\n",
              "<style>\n",
              "    /* Turns off some styling */\n",
              "    progress {\n",
              "        /* gets rid of default border in Firefox and Opera. */\n",
              "        border: none;\n",
              "        /* Needs to be in here for Safari polyfill so background images work as expected. */\n",
              "        background-size: auto;\n",
              "    }\n",
              "    progress:not([value]), progress:not([value])::-webkit-progress-bar {\n",
              "        background: repeating-linear-gradient(45deg, #7e7e7e, #7e7e7e 10px, #5c5c5c 10px, #5c5c5c 20px);\n",
              "    }\n",
              "    .progress-bar-interrupted, .progress-bar-interrupted::-webkit-progress-bar {\n",
              "        background: #F44336;\n",
              "    }\n",
              "</style>\n"
            ],
            "text/plain": [
              "<IPython.core.display.HTML object>"
            ]
          },
          "metadata": {},
          "output_type": "display_data"
        },
        {
          "data": {
            "text/html": [],
            "text/plain": [
              "<IPython.core.display.HTML object>"
            ]
          },
          "metadata": {},
          "output_type": "display_data"
        },
        {
          "name": "stdout",
          "output_type": "stream",
          "text": [
            "Is Multi-Label? False\n",
            "preprocessing test...\n",
            "language: en\n",
            "test sequence lengths:\n",
            "\tmean : 55\n",
            "\t95percentile : 64\n",
            "\t99percentile : 69\n"
          ]
        },
        {
          "data": {
            "text/html": [
              "\n",
              "<style>\n",
              "    /* Turns off some styling */\n",
              "    progress {\n",
              "        /* gets rid of default border in Firefox and Opera. */\n",
              "        border: none;\n",
              "        /* Needs to be in here for Safari polyfill so background images work as expected. */\n",
              "        background-size: auto;\n",
              "    }\n",
              "    progress:not([value]), progress:not([value])::-webkit-progress-bar {\n",
              "        background: repeating-linear-gradient(45deg, #7e7e7e, #7e7e7e 10px, #5c5c5c 10px, #5c5c5c 20px);\n",
              "    }\n",
              "    .progress-bar-interrupted, .progress-bar-interrupted::-webkit-progress-bar {\n",
              "        background: #F44336;\n",
              "    }\n",
              "</style>\n"
            ],
            "text/plain": [
              "<IPython.core.display.HTML object>"
            ]
          },
          "metadata": {},
          "output_type": "display_data"
        },
        {
          "data": {
            "text/html": [],
            "text/plain": [
              "<IPython.core.display.HTML object>"
            ]
          },
          "metadata": {},
          "output_type": "display_data"
        }
      ],
      "source": [
        "processed_train = transformer.preprocess_train(list(x_train[\"Concatenated Titles\"]), list(y_train[\"Target\"]))\n",
        "processed_val = transformer.preprocess_test(list(x_val[\"Concatenated Titles\"]), list(y_val[\"Target\"]))"
      ]
    },
    {
      "cell_type": "code",
      "execution_count": null,
      "metadata": {
        "id": "9dmJNvZ5NvIm"
      },
      "outputs": [],
      "source": [
        "model = transformer.get_classifier()\n",
        "batch_size = 5\n",
        "learner = ktrain.get_learner(model, train_data=processed_train, val_data=processed_val, batch_size=batch_size)"
      ]
    },
    {
      "cell_type": "code",
      "execution_count": null,
      "metadata": {
        "colab": {
          "base_uri": "https://localhost:8080/",
          "height": 593
        },
        "id": "9G9r9csgNvIn",
        "outputId": "db1c5915-2c96-4985-9b9a-bd45bf908172"
      },
      "outputs": [
        {
          "name": "stdout",
          "output_type": "stream",
          "text": [
            "simulating training for different learning rates... this may take a few moments...\n",
            "65/65 [==============================] - 821s 12s/step - loss: 32.8490 - accuracy: 0.3415\n"
          ]
        },
        {
          "name": "stderr",
          "output_type": "stream",
          "text": [
            "c:\\Users\\volpe\\anaconda3\\envs\\kt\\lib\\site-packages\\ktrain\\lroptimize\\lrfinder.py:267: UserWarning: Shape of array too small to calculate a numerical gradient, at least (edge_order + 1) elements are required.\n",
            "  warnings.warn(str(e))\n"
          ]
        },
        {
          "name": "stdout",
          "output_type": "stream",
          "text": [
            "\n",
            "\n",
            "done.\n",
            "Visually inspect loss plot and select learning rate associated with falling loss\n"
          ]
        },
        {
          "data": {
            "image/png": "[encoded data removed]",
            "text/plain": [
              "<Figure size 640x480 with 1 Axes>"
            ]
          },
          "metadata": {},
          "output_type": "display_data"
        }
      ],
      "source": [
        "learner.lr_find(show_plot=True,  max_epochs=1)"
      ]
    },
    {
      "cell_type": "code",
      "execution_count": null,
      "metadata": {
        "colab": {
          "base_uri": "https://localhost:8080/"
        },
        "id": "_nAL8xGaNvIn",
        "outputId": "d179cdbc-fe4e-48a8-be55-e4c465ac1009"
      },
      "outputs": [
        {
          "name": "stdout",
          "output_type": "stream",
          "text": [
            "\n",
            "\n",
            "begin training using onecycle policy with max lr of 1e-05...\n",
            "Epoch 1/2\n",
            "66/66 [==============================] - 877s 13s/step - loss: 1.2155 - accuracy: 0.2515 - val_loss: 1.2152 - val_accuracy: 0.2073\n",
            "Epoch 2/2\n",
            "66/66 [==============================] - 849s 13s/step - loss: 1.1403 - accuracy: 0.3558 - val_loss: 1.1532 - val_accuracy: 0.3293\n"
          ]
        },
        {
          "data": {
            "text/plain": [
              "<keras.callbacks.History at 0x2a363988248>"
            ]
          },
          "execution_count": 12,
          "metadata": {},
          "output_type": "execute_result"
        }
      ],
      "source": [
        "learner.fit_onecycle(1e-5, 2)"
      ]
    },
    {
      "cell_type": "code",
      "execution_count": null,
      "metadata": {
        "colab": {
          "base_uri": "https://localhost:8080/"
        },
        "id": "jscnh4cANvIn",
        "outputId": "85a2a352-441f-4f31-ed9c-eaaf423518fa"
      },
      "outputs": [
        {
          "name": "stdout",
          "output_type": "stream",
          "text": [
            "2/2 [==============================] - 1s 275ms/step\n",
            "              precision    recall  f1-score   support\n",
            "\n",
            "           0       0.48      1.00      0.64        29\n",
            "           1       0.00      0.00      0.00        27\n",
            "           2       0.00      0.00      0.00         5\n",
            "\n",
            "    accuracy                           0.48        61\n",
            "   macro avg       0.16      0.33      0.21        61\n",
            "weighted avg       0.23      0.48      0.31        61\n",
            "\n"
          ]
        },
        {
          "name": "stderr",
          "output_type": "stream",
          "text": [
            "/usr/local/lib/python3.10/dist-packages/sklearn/metrics/_classification.py:1344: UndefinedMetricWarning: Precision and F-score are ill-defined and being set to 0.0 in labels with no predicted samples. Use `zero_division` parameter to control this behavior.\n",
            "  _warn_prf(average, modifier, msg_start, len(result))\n",
            "/usr/local/lib/python3.10/dist-packages/sklearn/metrics/_classification.py:1344: UndefinedMetricWarning: Precision and F-score are ill-defined and being set to 0.0 in labels with no predicted samples. Use `zero_division` parameter to control this behavior.\n",
            "  _warn_prf(average, modifier, msg_start, len(result))\n",
            "/usr/local/lib/python3.10/dist-packages/sklearn/metrics/_classification.py:1344: UndefinedMetricWarning: Precision and F-score are ill-defined and being set to 0.0 in labels with no predicted samples. Use `zero_division` parameter to control this behavior.\n",
            "  _warn_prf(average, modifier, msg_start, len(result))\n"
          ]
        },
        {
          "data": {
            "text/plain": [
              "array([[29,  0,  0],\n",
              "       [27,  0,  0],\n",
              "       [ 5,  0,  0]])"
            ]
          },
          "execution_count": 16,
          "metadata": {},
          "output_type": "execute_result"
        }
      ],
      "source": [
        "learner.validate(class_names=transformer.get_classes())"
      ]
    },
    {
      "cell_type": "code",
      "execution_count": null,
      "metadata": {
        "colab": {
          "base_uri": "https://localhost:8080/"
        },
        "id": "Z3mVZiXTNvIn",
        "outputId": "c16f359b-3b57-4b64-d610-45d97002043b"
      },
      "outputs": [
        {
          "data": {
            "text/plain": [
              "array([0., 0., 0., 0., 0., 0., 0., 0., 0., 0., 0., 0., 0., 0., 0., 0., 0.,\n",
              "       0., 0., 0., 0., 0., 0., 0., 0., 0., 0., 0., 0., 0., 0., 0., 0., 0.,\n",
              "       0., 0., 0., 0., 0., 0., 0., 0., 0., 0., 0., 0., 0., 0., 0., 0., 0.,\n",
              "       0., 0., 0., 0., 0., 0., 0., 0., 0., 0.])"
            ]
          },
          "execution_count": 18,
          "metadata": {},
          "output_type": "execute_result"
        }
      ],
      "source": [
        "predictor = ktrain.get_predictor(learner.model, preproc=transformer)\n",
        "y_val_pred_labels  = np.zeros( x_val.shape[0])\n",
        "for i in range(x_val.shape[0]):\n",
        "    y_val_pred_labels[i] = predictor.predict(x_val[\"Concatenated Titles\"].iloc[i])\n",
        "\n",
        "y_val_pred_labels"
      ]
    },
    {
      "cell_type": "markdown",
      "metadata": {
        "id": "0RhVZLexNvIn"
      },
      "source": [
        "It always predicts class DOWN... not really good"
      ]
    },
    {
      "cell_type": "markdown",
      "metadata": {
        "id": "9xOg9nviYz-s"
      },
      "source": [
        "### distilroberta-finetuned"
      ]
    },
    {
      "cell_type": "markdown",
      "metadata": {
        "id": "xmXJaDe6cNLC"
      },
      "source": [
        "Here we use a pre-trained model to get a sentiment label for each headline and use that to generate an embedding used to train a neural network."
      ]
    },
    {
      "cell_type": "code",
      "execution_count": null,
      "metadata": {
        "id": "Mz0EgLyeRLqM"
      },
      "outputs": [],
      "source": [
        "from sklearn.model_selection import train_test_split\n",
        "\n",
        "articles_list = [ f\"Article {i+1}\" for i in range(T) ]\n",
        "X_2 = input_df.filter(articles_list,axis=1)\n",
        "Y = input_df.filter([\"Target\"],axis=1)\n",
        "\n",
        "# we re-divide training , validation and test set beacuse X here is different, putting the same random state we should still get the same division.\n",
        "x_train_2, x_test_2, y_train_2, y_test_2 = train_test_split( X_2, Y, test_size=0.20, random_state=42)\n",
        "x_train_2, x_val_2,  y_train_2, y_val_2 = train_test_split( x_train_2, y_train_2, test_size=0.20, random_state=42)\n",
        "\n",
        "y_train_2 = y_train_2 + 1\n",
        "y_test_2 = y_test_2 + 1\n",
        "y_val_2 = y_val_2+ 1"
      ]
    },
    {
      "cell_type": "code",
      "execution_count": null,
      "metadata": {
        "id": "CW_bFY9QRLqN"
      },
      "outputs": [],
      "source": [
        "# Use a pipeline as a high-level helper\n",
        "from transformers import pipeline\n",
        "\n",
        "pipe = pipeline(\"text-classification\", model=\"mrm8488/distilroberta-finetuned-financial-news-sentiment-analysis\")\n",
        "# Pipeline use example\n",
        "'''\n",
        "i = np.random.randint(X.shape[0])\n",
        "s = X.iloc[i].to_list()\n",
        "print(s[2])\n",
        "print(pipe( s[2] )[0][\"label\"])\n",
        "'''\n",
        "def get_label(s):\n",
        "    return pipe( s )[0][\"label\"]"
      ]
    },
    {
      "cell_type": "markdown",
      "metadata": {
        "id": "vwK27lySRLqN"
      },
      "source": [
        "Here we create a one hot encoding of the sentiment for each title"
      ]
    },
    {
      "cell_type": "code",
      "execution_count": null,
      "metadata": {
        "id": "N8-b_y8kRLqN",
        "outputId": "9884ce74-9f07-45b4-cfe1-f2f8963045c0"
      },
      "outputs": [
        {
          "data": {
            "text/plain": [
              "array([0., 0., 1., 0., 0., 1., 0., 1., 0., 0., 0., 1.])"
            ]
          },
          "execution_count": 36,
          "metadata": {},
          "output_type": "execute_result"
        }
      ],
      "source": [
        "map_label_encoding = { \"positive\": np.array([0,0,1]), \"neutral\": np.array([0,1,0]),\"negative\": np.array([1,0,0]) }\n",
        "num_sentiment = 3\n",
        "\n",
        "# training input encoding\n",
        "x_train_2_ones = np.zeros( (x_train_2.shape[0],T*num_sentiment))\n",
        "\n",
        "for row_idx in range(x_train_2.shape[0]):\n",
        "    articles_list = x_train_2.iloc[i].to_list()\n",
        "    for i in range(len(articles_list)):    # len(s) = T\n",
        "        x_train_2_ones[row_idx,i*3:i*3+3] = map_label_encoding[ get_label(articles_list[i])]\n",
        "\n",
        "# validation input encoding\n",
        "x_val_2_ones = np.zeros( (x_val_2.shape[0],T*num_sentiment))\n",
        "\n",
        "for row_idx in range(x_val_2.shape[0]):\n",
        "    articles_list = x_val_2.iloc[i].to_list()\n",
        "    for i in range(len(articles_list)):    # len(s) = T\n",
        "        x_val_2_ones[row_idx,i*3:i*3+3] = map_label_encoding[ get_label(articles_list[i])]\n",
        "\n",
        "# test input encoding\n",
        "x_test_2_ones = np.zeros( (x_test_2.shape[0],T*num_sentiment))\n",
        "\n",
        "for row_idx in range(x_test_2.shape[0]):\n",
        "    articles_list = x_test_2.iloc[i].to_list()\n",
        "    for i in range(len(articles_list)):    # len(s) = T\n",
        "        x_test_2_ones[row_idx,i*3:i*3+3] = map_label_encoding[ get_label(articles_list[i])]\n",
        "\n",
        "x_train_2_ones[0]"
      ]
    },
    {
      "cell_type": "code",
      "execution_count": null,
      "metadata": {
        "id": "lpOOmn01RLqN"
      },
      "outputs": [],
      "source": [
        "#to train the NN we need to convert integer output to binary array\n",
        "num_classes = 3\n",
        "\n",
        "y_train_dummy_2 = np.zeros((len(y_train_2), num_classes))\n",
        "for i in range(0,len(y_train_2)):\n",
        "    class_idx = round(y_train_2.Target.iloc[i])\n",
        "    y_train_dummy_2[i, class_idx] = 1\n",
        "\n",
        "\n",
        "y_val_dummy_2 = np.zeros((len(y_val_2), num_classes))\n",
        "for i in range(0,len(y_val_2)):\n",
        "  y_val_dummy_2[i,round(y_val_2.Target.iloc[i])] = 1\n",
        "\n",
        "y_test_dummy_2 = np.zeros((len(y_test_2), num_classes))\n",
        "for i in range(0,len(y_test_2)):\n",
        "  y_test_dummy_2[i,round(y_test_2.Target.iloc[i])] = 1"
      ]
    },
    {
      "cell_type": "code",
      "execution_count": null,
      "metadata": {
        "id": "xVoX2iHxRLqN"
      },
      "outputs": [],
      "source": [
        "import numpy as np\n",
        "import matplotlib.pyplot as plt\n",
        "from keras.models import Sequential\n",
        "from keras.layers import Dense\n",
        "from keras.optimizers import Adam"
      ]
    },
    {
      "cell_type": "code",
      "execution_count": null,
      "metadata": {
        "id": "RdzXOeChRLqN"
      },
      "outputs": [],
      "source": [
        "# Here we create several NN architechtures\n",
        "\n",
        "def create_m1(epo,lr,bat,x,y):\n",
        "    model=Sequential()\n",
        "    model.add(Dense(units=30, activation='relu', input_dim=c))\n",
        "    model.add(Dense(units=100, activation='tanh'))\n",
        "    model.add(Dense(units=3, activation='sigmoid'))    #output layer\n",
        "    model.compile(loss='mse',                                    # tf.keras.losses.CategoricalCrossentropy should be more appropriate but I cannot make it work\n",
        "                  optimizer=Adam(lr=lr,beta_1=0.9,beta_2=0.999))\n",
        "    model.fit(x,y,epochs=epo,batch_size=bat,verbose=0)\n",
        "    return model\n",
        "def create_m2(epo,lr,bat,x,y):\n",
        "    model=Sequential()\n",
        "    model.add(Dense(units=30, activation='relu', input_dim=c))\n",
        "    model.add(Dense(units=3, activation='sigmoid'))    #output layer\n",
        "    model.compile(loss='mse',\n",
        "                  optimizer=Adam(lr=lr,beta_1=0.9,beta_2=0.999))\n",
        "    model.fit(x,y,epochs=epo,batch_size=bat,verbose=0)\n",
        "    return model\n",
        "\n",
        "def create_m3(epo,lr,bat,x,y):\n",
        "    model=Sequential()\n",
        "    model.add(Dense(units=300, activation='relu', input_dim=c))\n",
        "    model.add(Dense(units=3, activation='sigmoid'))    #output layer\n",
        "    model.compile(loss='mse',\n",
        "                  optimizer=Adam(lr=lr,beta_1=0.9,beta_2=0.999))\n",
        "    model.fit(x,y,epochs=epo,batch_size=bat,verbose=0)\n",
        "    return model\n",
        "def create_m4(epo,lr,bat,x,y):\n",
        "    model=Sequential()\n",
        "    model.add(Dense(units=900, activation='relu', input_dim=c))\n",
        "    model.add(Dense(units=50, activation='tanh'))\n",
        "    model.add(Dense(units=3, activation='sigmoid'))    #output layer\n",
        "    model.compile(loss='mse',\n",
        "                  optimizer=Adam(lr=lr,beta_1=0.9,beta_2=0.999))\n",
        "    model.fit(x,y,epochs=epo,batch_size=bat,verbose=0)\n",
        "    return model\n",
        "\n",
        "def get_validation_missclas(y_pred, target):\n",
        "    return np.sum(y_pred != target) / len(target)\n"
      ]
    },
    {
      "cell_type": "code",
      "execution_count": null,
      "metadata": {
        "id": "UR5gZkaQRLqN"
      },
      "outputs": [],
      "source": [
        "fun_lst = [create_m1,create_m2,create_m3,create_m4]\n",
        "epo_list = [1,2,3, 5,10,20,100,150]\n",
        "lr = 0.001                              # values between 0.001 and 0.0001 should be fine\n",
        "batch_size_list = [5,8,10,20]\n",
        "best_performance = 10\n",
        "# 80 models will be trained\n",
        "for function in fun_lst:\n",
        "    for epo in epo_list:\n",
        "        for bat in batch_size_list:\n",
        "            model = function(epo,lr,bat,x_train_2_ones,y_train_dummy_2)\n",
        "            pred_val_raw=model.predict(x_val_2_ones)\n",
        "            pred_val = np.argmax(pred_val_raw, axis=1)\n",
        "            miss = get_validation_missclas(pred_val, np.argmax(y_val_dummy_2, axis=1))\n",
        "            if miss < best_performance:\n",
        "                best_performance = miss\n",
        "                opt_model, opt_fun, opt_epo, opt_bat = model, function, epo, bat"
      ]
    },
    {
      "cell_type": "code",
      "execution_count": null,
      "metadata": {
        "id": "Un90gEgqRLqR",
        "outputId": "3396f492-2d8e-45c3-d178-692c6baea921"
      },
      "outputs": [
        {
          "name": "stdout",
          "output_type": "stream",
          "text": [
            "Lowest missclassification: \n",
            "0.5365853658536586\n",
            "Optimal model: \n",
            "<function create_m1 at 0x000002A3DABE2F78>\n",
            "Optimal number of epoch: \n",
            "1\n",
            "Optimal batch size: \n",
            "8\n",
            "3/3 [==============================] - 0s 1ms/step\n"
          ]
        }
      ],
      "source": [
        "print(\"Lowest missclassification: \",best_performance,\\\n",
        "      \"Optimal model: \",opt_fun, \\\n",
        "      \"Optimal number of epoch: \",opt_epo,\\\n",
        "      \"Optimal batch size: \", opt_bat,sep=\"\\n\")\n",
        "predictions = opt_model.predict(x_val_2_ones)"
      ]
    },
    {
      "cell_type": "markdown",
      "metadata": {
        "id": "BIl5TnaueKoC"
      },
      "source": [
        "Now that we have chosen the architechture we just have to evaluate the model"
      ]
    },
    {
      "cell_type": "code",
      "execution_count": null,
      "metadata": {
        "id": "JWrOvCi3RLqR",
        "outputId": "14c3131a-41b4-48f3-88c3-9dd5cff6297a"
      },
      "outputs": [
        {
          "name": "stdout",
          "output_type": "stream",
          "text": [
            "11/11 [==============================] - 0s 1ms/step\n",
            "3/3 [==============================] - 0s 1ms/step\n",
            "4/4 [==============================] - 0s 1ms/step\n",
            "Precision (train): 0.13549625503406226\n",
            "Recall (train): 0.36809815950920244\n",
            "F1-score (train): 0.19807972709015376\n",
            "Precision (val): 0.2147531231409875\n",
            "Recall (val): 0.4634146341463415\n",
            "F1-score (val): 0.2934959349593496\n",
            "Precision (test): 0.1777201076509035\n",
            "Recall (test): 0.4215686274509804\n",
            "F1-score (test): 0.2500338066260987\n",
            "MSE_train: 0.21981015393245038\n",
            "MSE_val: 0.2190483007121516\n",
            "MSE_test: 0.21994343165162833\n",
            "MSE_train (binary): 0.4212678936605317\n",
            "MSE_val (binary): 0.35772357723577236\n",
            "MSE_test (binary): 0.38562091503267976\n",
            "Misclassification_train: 0.6319018404907976\n",
            "Misclassification_val: 0.5365853658536586\n",
            "Misclassification_test: 0.5784313725490197\n"
          ]
        },
        {
          "data": {
            "image/png": "[encoded data removed]",
            "text/plain": [
              "<Figure size 640x480 with 2 Axes>"
            ]
          },
          "metadata": {},
          "output_type": "display_data"
        }
      ],
      "source": [
        "model  = opt_model\n",
        "# Install whichever package or library is missing for you\n",
        "#!pip install sentence-transformers\n",
        "#!pip install numpy pandas scikit-learn seaborn matplotlib keras\n",
        "#import pandas as pd\n",
        "#import numpy as np\n",
        "#import tensorflow as tf\n",
        "import seaborn as sns\n",
        "#import matplotlib.pyplot as plt\n",
        "#import random as rand\n",
        "#from keras.models import Sequential\n",
        "#from keras.layers import Dense\n",
        "#from keras.optimizers import Adam\n",
        "#from sentence_transformers import SentenceTransformer\n",
        "#from transformers import TFBertForSequenceClassification, BertTokenizer, BertConfig\n",
        "#from sklearn.model_selection import train_test_split\n",
        "from sklearn.metrics import accuracy_score, precision_score, recall_score, f1_score, confusion_matrix, classification_report\n",
        "\n",
        "# Making predictions\n",
        "pred_train = model.predict(x_train_2_ones)\n",
        "pred_val = model.predict(x_val_2_ones)\n",
        "pred_test = model.predict(x_test_2_ones)\n",
        "\n",
        "# Converting predictions to binary arrays\n",
        "def to_binary(pred):\n",
        "    pred_binary = np.zeros(pred.shape)\n",
        "    for i in range(len(pred)):\n",
        "        pred_binary[i, pred[i, :].argmax()] = 1\n",
        "    return pred_binary\n",
        "\n",
        "pred_train_2 = to_binary(pred_train)\n",
        "pred_val_2 = to_binary(pred_val)\n",
        "pred_test_2 = to_binary(pred_test)\n",
        "\n",
        "# Converting predictions to class labels\n",
        "y_train_pred_labels = np.argmax(pred_train, axis=1)\n",
        "y_val_pred_labels = np.argmax(pred_val, axis=1)\n",
        "y_test_pred_labels = np.argmax(pred_test, axis=1)\n",
        "\n",
        "# Converting one-hot encoded true labels to class labels\n",
        "y_train_true_labels = np.argmax(y_train_dummy_2, axis=1)\n",
        "y_val_true_labels = np.argmax(y_val_dummy_2, axis=1)\n",
        "y_test_true_labels = np.argmax(y_test_dummy_2, axis=1)\n",
        "\n",
        "# Evaluating the model (precision, recall, F1-score, MSE, misclassification and confusion matrix)\n",
        "\n",
        "# Presicison, recall and F1-Score\n",
        "def evaluate_performance(y_true, y_pred):\n",
        "    precision = precision_score(y_true, y_pred, average='weighted', zero_division=0)\n",
        "    recall = recall_score(y_true, y_pred, average='weighted', zero_division=0)\n",
        "    f1 = f1_score(y_true, y_pred, average='weighted', zero_division=0)\n",
        "    return precision, recall, f1\n",
        "\n",
        "precision_train, recall_train, f1_train = evaluate_performance(y_train_true_labels, y_train_pred_labels)\n",
        "precision_val, recall_val, f1_val = evaluate_performance(y_val_true_labels, y_val_pred_labels)\n",
        "precision_test, recall_test, f1_test = evaluate_performance(y_test_true_labels, y_test_pred_labels)\n",
        "\n",
        "print(\"Precision (train):\", precision_train)\n",
        "print(\"Recall (train):\", recall_train)\n",
        "print(\"F1-score (train):\", f1_train)\n",
        "\n",
        "print(\"Precision (val):\", precision_val)\n",
        "print(\"Recall (val):\", recall_val)\n",
        "print(\"F1-score (val):\", f1_val)\n",
        "\n",
        "print(\"Precision (test):\", precision_test)\n",
        "print(\"Recall (test):\", recall_test)\n",
        "print(\"F1-score (test):\", f1_test)\n",
        "\n",
        "# Mean Squared Error and misclassification rate\n",
        "def mean_squared_error(y_true, y_pred):\n",
        "    return np.mean((y_pred - y_true) ** 2)\n",
        "\n",
        "MSE_train = mean_squared_error(y_train_dummy_2, pred_train)\n",
        "MSE_val = mean_squared_error(y_val_dummy_2, pred_val)\n",
        "MSE_test = mean_squared_error(y_test_dummy_2, pred_test)\n",
        "\n",
        "print(\"MSE_train:\", MSE_train)\n",
        "print(\"MSE_val:\", MSE_val)\n",
        "print(\"MSE_test:\", MSE_test)\n",
        "\n",
        "MSE_train_2 = mean_squared_error(y_train_dummy_2, pred_train_2)\n",
        "MSE_val_2 = mean_squared_error(y_val_dummy_2, pred_val_2)\n",
        "MSE_test_2 = mean_squared_error(y_test_dummy_2, pred_test_2)\n",
        "\n",
        "print(\"MSE_train (binary):\", MSE_train_2)\n",
        "print(\"MSE_val (binary):\", MSE_val_2)\n",
        "print(\"MSE_test (binary):\", MSE_test_2)\n",
        "\n",
        "\n",
        "def misclassification_rate(y_true, y_pred):\n",
        "    #return np.mean(np.abs(y_pred - y_true) / 2)\n",
        "    return np.sum(y_pred != y_true) / y_true.shape[0]\n",
        "\n",
        "\n",
        "miss_train = misclassification_rate(y_train_dummy_2.argmax(axis=1), pred_train_2.argmax(axis=1))\n",
        "miss_val = misclassification_rate(y_val_dummy_2.argmax(axis=1), pred_val_2.argmax(axis=1))\n",
        "miss_test = misclassification_rate(y_test_dummy_2.argmax(axis=1), pred_test_2.argmax(axis=1))\n",
        "\n",
        "print(\"Misclassification_train:\", miss_train)\n",
        "print(\"Misclassification_val:\", miss_val)\n",
        "print(\"Misclassification_test:\", miss_test)\n",
        "\n",
        "# Plot confusion matrix\n",
        "conf_matrix = confusion_matrix(y_test_true_labels, y_test_pred_labels)\n",
        "sns.heatmap(conf_matrix, annot=True, fmt='d', cmap='Blues')\n",
        "plt.xlabel('Predicted')\n",
        "plt.ylabel('True')\n",
        "plt.title('Confusion Matrix')\n",
        "plt.show()"
      ]
    },
    {
      "cell_type": "markdown",
      "metadata": {
        "id": "sdXcqjU6bf7L"
      },
      "source": [
        "### Text2vec-base-multilingual"
      ]
    },
    {
      "cell_type": "markdown",
      "metadata": {
        "id": "uqYjQXsBemph"
      },
      "source": [
        "Here we use the sentence transformer to generate an embedding of the concatenated headlines that we use to train a neural network"
      ]
    },
    {
      "cell_type": "code",
      "execution_count": null,
      "metadata": {
        "id": "KI-bcC2_banj"
      },
      "outputs": [],
      "source": [
        "from sentence_transformers import SentenceTransformer\n",
        "\n",
        "model_name = 'shibing624/text2vec-base-multilingual'\n",
        "m = SentenceTransformer(model_name)"
      ]
    },
    {
      "cell_type": "code",
      "execution_count": null,
      "metadata": {
        "id": "W3ODCATxbmoL"
      },
      "outputs": [],
      "source": [
        "c = len(m.encode(\"I love embeddings!\"))                   # dim embedding\n",
        "r = x_train.shape[0]    # dim dataset\n",
        "\n",
        "x_train_emb = np.zeros((r,c))\n",
        "for idx in range(r):\n",
        "  sentence_embeddings = m.encode(x_train.iloc[idx,:].loc[\"Concatenated Titles\"])\n",
        "  x_train_emb[idx,:] = sentence_embeddings\n",
        "\n",
        "\n",
        "\n",
        "r = x_val.shape[0]    # dim dataset\n",
        "x_val_emb = np.zeros((r,c))\n",
        "for idx in range(r):\n",
        "  sentence_embeddings = m.encode(x_val.iloc[idx,:].loc[\"Concatenated Titles\"])\n",
        "  x_val_emb[idx,:] = sentence_embeddings\n",
        "\n",
        "\n",
        "r = x_test.shape[0]    # dim dataset\n",
        "x_test_emb = np.zeros((r,c))\n",
        "for idx in range(r):\n",
        "  sentence_embeddings = m.encode(x_test.iloc[idx,:].loc[\"Concatenated Titles\"])\n",
        "  x_test_emb[idx,:] = sentence_embeddings"
      ]
    },
    {
      "cell_type": "code",
      "execution_count": null,
      "metadata": {
        "id": "0ANVZ8JSbrFi"
      },
      "outputs": [],
      "source": [
        "import numpy as np\n",
        "import matplotlib.pyplot as plt\n",
        "from keras.models import Sequential\n",
        "from keras.layers import Dense\n",
        "from keras.optimizers import Adam"
      ]
    },
    {
      "cell_type": "code",
      "execution_count": null,
      "metadata": {
        "id": "Hfu8E41Vbs3j"
      },
      "outputs": [],
      "source": [
        "#to train the NN we need to convert integer output to binary array\n",
        "num_classes = 3\n",
        "\n",
        "y_train_dummy = np.zeros((len(y_train), num_classes))\n",
        "for i in range(0,len(y_train)):\n",
        "    class_idx = round(y_train.Target.iloc[i])\n",
        "    y_train_dummy[i, class_idx] = 1\n",
        "\n",
        "\n",
        "y_val_dummy = np.zeros((len(y_val), num_classes))\n",
        "for i in range(0,len(y_val)):\n",
        "  y_val_dummy[i,round(y_val.Target.iloc[i])] = 1\n",
        "\n",
        "y_test_dummy = np.zeros((len(y_test), num_classes))\n",
        "for i in range(0,len(y_test)):\n",
        "  y_test_dummy[i,round(y_test.Target.iloc[i])] = 1"
      ]
    },
    {
      "cell_type": "code",
      "execution_count": null,
      "metadata": {
        "id": "nIz0dP3Fbu4q"
      },
      "outputs": [],
      "source": [
        "def create_m1(epo,lr,bat,x,y):\n",
        "    model=Sequential()\n",
        "    model.add(Dense(units=30, activation='relu', input_dim=c))\n",
        "    model.add(Dense(units=100, activation='tanh'))\n",
        "    model.add(Dense(units=3, activation='sigmoid'))    #output layer\n",
        "    model.compile(loss='mse',                                    # tf.keras.losses.CategoricalCrossentropy should be more appropriate but I cannot make it work\n",
        "                  optimizer=Adam(lr=lr,beta_1=0.9,beta_2=0.999))\n",
        "    model.fit(x,y,epochs=epo,batch_size=bat,verbose=0)\n",
        "    return model\n",
        "def create_m2(epo,lr,bat,x,y):\n",
        "    model=Sequential()\n",
        "    model.add(Dense(units=30, activation='relu', input_dim=c))\n",
        "    model.add(Dense(units=3, activation='sigmoid'))    #output layer\n",
        "    model.compile(loss='mse',\n",
        "                  optimizer=Adam(lr=lr,beta_1=0.9,beta_2=0.999))\n",
        "    model.fit(x,y,epochs=epo,batch_size=bat,verbose=0)\n",
        "    return model\n",
        "\n",
        "def create_m3(epo,lr,bat,x,y):\n",
        "    model=Sequential()\n",
        "    model.add(Dense(units=300, activation='relu', input_dim=c))\n",
        "    model.add(Dense(units=3, activation='sigmoid'))    #output layer\n",
        "    model.compile(loss='mse',\n",
        "                  optimizer=Adam(lr=lr,beta_1=0.9,beta_2=0.999))\n",
        "    model.fit(x,y,epochs=epo,batch_size=bat,verbose=0)\n",
        "    return model\n",
        "def create_m4(epo,lr,bat,x,y):\n",
        "    model=Sequential()\n",
        "    model.add(Dense(units=900, activation='relu', input_dim=c))\n",
        "    model.add(Dense(units=50, activation='tanh'))\n",
        "    model.add(Dense(units=3, activation='sigmoid'))    #output layer\n",
        "    model.compile(loss='mse',\n",
        "                  optimizer=Adam(lr=lr,beta_1=0.9,beta_2=0.999))\n",
        "    model.fit(x,y,epochs=epo,batch_size=bat,verbose=0)\n",
        "    return model\n",
        "\n",
        "def get_validation_missclas(y_pred, target):\n",
        "    return np.sum(y_pred != target) / len(target)\n"
      ]
    },
    {
      "cell_type": "code",
      "execution_count": null,
      "metadata": {
        "id": "P3iuZGUUbvv6",
        "outputId": "ccb8e381-1e1e-4501-e43e-0c77bb0c15ba"
      },
      "outputs": [
        {
          "name": "stderr",
          "output_type": "stream",
          "text": [
            "c:\\Users\\volpe\\anaconda3\\envs\\kt\\lib\\site-packages\\keras\\optimizers\\optimizer_v2\\adam.py:117: UserWarning: The `lr` argument is deprecated, use `learning_rate` instead.\n",
            "  super().__init__(name, **kwargs)\n"
          ]
        },
        {
          "name": "stdout",
          "output_type": "stream",
          "text": [
            "3/3 [==============================] - 0s 2ms/step\n",
            "3/3 [==============================] - 0s 2ms/step\n",
            "3/3 [==============================] - 0s 2ms/step\n",
            "3/3 [==============================] - 0s 2ms/step\n",
            "3/3 [==============================] - 0s 2ms/step\n",
            "3/3 [==============================] - 0s 2ms/step\n",
            "3/3 [==============================] - 0s 1ms/step\n",
            "3/3 [==============================] - 0s 2ms/step\n",
            "3/3 [==============================] - 0s 2ms/step\n",
            "3/3 [==============================] - 0s 2ms/step\n",
            "3/3 [==============================] - 0s 1ms/step\n",
            "3/3 [==============================] - 0s 2ms/step\n",
            "3/3 [==============================] - 0s 2ms/step\n",
            "3/3 [==============================] - 0s 1ms/step\n",
            "3/3 [==============================] - 0s 2ms/step\n",
            "3/3 [==============================] - 0s 1ms/step\n",
            "3/3 [==============================] - 0s 1ms/step\n",
            "3/3 [==============================] - 0s 2ms/step\n",
            "3/3 [==============================] - 0s 2ms/step\n",
            "3/3 [==============================] - 0s 2ms/step\n",
            "3/3 [==============================] - 0s 1ms/step\n",
            "3/3 [==============================] - 0s 2ms/step\n",
            "3/3 [==============================] - 0s 2ms/step\n",
            "3/3 [==============================] - 0s 2ms/step\n",
            "3/3 [==============================] - 0s 1ms/step\n",
            "3/3 [==============================] - 0s 2ms/step\n",
            "3/3 [==============================] - 0s 2ms/step\n",
            "3/3 [==============================] - 0s 2ms/step\n",
            "3/3 [==============================] - 0s 1ms/step\n",
            "3/3 [==============================] - 0s 2ms/step\n",
            "3/3 [==============================] - 0s 2ms/step\n",
            "3/3 [==============================] - 0s 2ms/step\n",
            "3/3 [==============================] - 0s 2ms/step\n",
            "3/3 [==============================] - 0s 2ms/step\n",
            "3/3 [==============================] - 0s 2ms/step\n",
            "3/3 [==============================] - 0s 1ms/step\n",
            "3/3 [==============================] - 0s 1ms/step\n",
            "3/3 [==============================] - 0s 2ms/step\n",
            "3/3 [==============================] - 0s 2ms/step\n",
            "3/3 [==============================] - 0s 2ms/step\n",
            "3/3 [==============================] - 0s 2ms/step\n",
            "3/3 [==============================] - 0s 2ms/step\n",
            "3/3 [==============================] - 0s 2ms/step\n",
            "3/3 [==============================] - 0s 1ms/step\n",
            "3/3 [==============================] - 0s 2ms/step\n",
            "3/3 [==============================] - 0s 2ms/step\n",
            "3/3 [==============================] - 0s 2ms/step\n",
            "3/3 [==============================] - 0s 2ms/step\n",
            "3/3 [==============================] - 0s 2ms/step\n",
            "3/3 [==============================] - 0s 2ms/step\n",
            "3/3 [==============================] - 0s 2ms/step\n",
            "3/3 [==============================] - 0s 2ms/step\n",
            "3/3 [==============================] - 0s 2ms/step\n",
            "3/3 [==============================] - 0s 2ms/step\n",
            "3/3 [==============================] - 0s 2ms/step\n",
            "3/3 [==============================] - 0s 2ms/step\n",
            "3/3 [==============================] - 0s 2ms/step\n",
            "3/3 [==============================] - 0s 1ms/step\n",
            "3/3 [==============================] - 0s 1ms/step\n",
            "3/3 [==============================] - 0s 2ms/step\n",
            "3/3 [==============================] - 0s 3ms/step\n",
            "3/3 [==============================] - 0s 2ms/step\n",
            "3/3 [==============================] - 0s 3ms/step\n",
            "3/3 [==============================] - 0s 2ms/step\n",
            "3/3 [==============================] - 0s 3ms/step\n",
            "3/3 [==============================] - 0s 2ms/step\n",
            "3/3 [==============================] - 0s 2ms/step\n",
            "3/3 [==============================] - 0s 2ms/step\n",
            "3/3 [==============================] - 0s 2ms/step\n",
            "3/3 [==============================] - 0s 2ms/step\n",
            "3/3 [==============================] - 0s 3ms/step\n",
            "3/3 [==============================] - 0s 2ms/step\n",
            "3/3 [==============================] - 0s 2ms/step\n",
            "3/3 [==============================] - 0s 3ms/step\n",
            "3/3 [==============================] - 0s 2ms/step\n",
            "3/3 [==============================] - 0s 3ms/step\n",
            "3/3 [==============================] - 0s 2ms/step\n",
            "3/3 [==============================] - 0s 2ms/step\n",
            "3/3 [==============================] - 0s 2ms/step\n",
            "3/3 [==============================] - 0s 2ms/step\n"
          ]
        }
      ],
      "source": [
        "fun_lst = [create_m1,create_m2,create_m3,create_m4]\n",
        "epo_list = [3, 5,10,20,100]\n",
        "lr = 0.001                              # values between 0.001 and 0.0001 should be fine\n",
        "batch_size_list = [5,8,10,20]\n",
        "best_performance = 10\n",
        "# 80 models will be trained\n",
        "for function in fun_lst:\n",
        "    for epo in epo_list:\n",
        "        for bat in batch_size_list:\n",
        "            model = function(epo,lr,bat,x_train_emb,y_train_dummy)\n",
        "            pred_val_raw=model.predict(x_val_emb)\n",
        "            pred_val = np.argmax(pred_val_raw, axis=1)\n",
        "            miss = get_validation_missclas(pred_val, np.argmax(y_val_dummy, axis=1))\n",
        "            if miss < best_performance:\n",
        "                best_performance = miss\n",
        "                opt_model, opt_fun, opt_epo, opt_bat = model, function, epo, bat"
      ]
    },
    {
      "cell_type": "code",
      "execution_count": null,
      "metadata": {
        "colab": {
          "base_uri": "https://localhost:8080/"
        },
        "id": "G-MIIVeZbyoK",
        "outputId": "62224395-4e5e-4f2b-d318-5d21a41eee80"
      },
      "outputs": [
        {
          "name": "stdout",
          "output_type": "stream",
          "text": [
            "0.4878048780487805\n",
            "<keras.engine.sequential.Sequential object at 0x000002A3D87B4A08>\n",
            "<function create_m2 at 0x000002A3DC771CA8>\n",
            "100\n",
            "8\n",
            "4/4 [==============================] - 0s 1ms/step\n"
          ]
        }
      ],
      "source": [
        "print(best_performance, opt_model, opt_fun, opt_epo, opt_bat,sep=\"\\n\")\n",
        "predictions = opt_model.predict(x_test_emb)"
      ]
    },
    {
      "cell_type": "code",
      "execution_count": null,
      "metadata": {
        "colab": {
          "base_uri": "https://localhost:8080/",
          "height": 837
        },
        "id": "MXxFvHa_b35i",
        "outputId": "6f60f21e-978a-4385-ea74-600815562947"
      },
      "outputs": [
        {
          "name": "stdout",
          "output_type": "stream",
          "text": [
            "11/11 [==============================] - 0s 901us/step\n",
            "3/3 [==============================] - 0s 1ms/step\n",
            "4/4 [==============================] - 0s 1ms/step\n",
            "Precision (train): 0.9969578664503371\n",
            "Recall (train): 0.9969325153374233\n",
            "F1-score (train): 0.9969296953276707\n",
            "Precision (val): 0.5289470233412011\n",
            "Recall (val): 0.5121951219512195\n",
            "F1-score (val): 0.5148807214477236\n",
            "Precision (test): 0.3496413199426112\n",
            "Recall (test): 0.3627450980392157\n",
            "F1-score (test): 0.3535769967995032\n",
            "MSE_train: 0.0095456542942512\n",
            "MSE_val: 0.2786381172321595\n",
            "MSE_test: 0.30535543746198107\n",
            "MSE_train (binary): 0.002044989775051125\n",
            "MSE_val (binary): 0.3252032520325203\n",
            "MSE_test (binary): 0.42483660130718953\n",
            "Misclassification_train: 0.003067484662576687\n",
            "Misclassification_val: 0.4878048780487805\n",
            "Misclassification_test: 0.6372549019607843\n"
          ]
        },
        {
          "data": {
            "image/png": "[encoded data removed]",
            "text/plain": [
              "<Figure size 640x480 with 2 Axes>"
            ]
          },
          "metadata": {},
          "output_type": "display_data"
        }
      ],
      "source": [
        "model  = opt_model\n",
        "# Install whichever package or library is missing for you\n",
        "#!pip install sentence-transformers\n",
        "#!pip install numpy pandas scikit-learn seaborn matplotlib keras\n",
        "#import pandas as pd\n",
        "#import numpy as np\n",
        "#import tensorflow as tf\n",
        "import seaborn as sns\n",
        "#import matplotlib.pyplot as plt\n",
        "#import random as rand\n",
        "#from keras.models import Sequential\n",
        "#from keras.layers import Dense\n",
        "#from keras.optimizers import Adam\n",
        "#from sentence_transformers import SentenceTransformer\n",
        "#from transformers import TFBertForSequenceClassification, BertTokenizer, BertConfig\n",
        "#from sklearn.model_selection import train_test_split\n",
        "from sklearn.metrics import accuracy_score, precision_score, recall_score, f1_score, confusion_matrix, classification_report\n",
        "\n",
        "# Making predictions\n",
        "pred_train = model.predict(x_train_emb)\n",
        "pred_val = model.predict(x_val_emb)\n",
        "pred_test = model.predict(x_test_emb)\n",
        "\n",
        "# Converting predictions to binary arrays\n",
        "def to_binary(pred):\n",
        "    pred_binary = np.zeros(pred.shape)\n",
        "    for i in range(len(pred)):\n",
        "        pred_binary[i, pred[i, :].argmax()] = 1\n",
        "    return pred_binary\n",
        "\n",
        "pred_train_2 = to_binary(pred_train)\n",
        "pred_val_2 = to_binary(pred_val)\n",
        "pred_test_2 = to_binary(pred_test)\n",
        "\n",
        "# Converting predictions to class labels\n",
        "y_train_pred_labels = np.argmax(pred_train, axis=1)\n",
        "y_val_pred_labels = np.argmax(pred_val, axis=1)\n",
        "y_test_pred_labels = np.argmax(pred_test, axis=1)\n",
        "\n",
        "# Converting one-hot encoded true labels to class labels\n",
        "y_train_true_labels = np.argmax(y_train_dummy, axis=1)\n",
        "y_val_true_labels = np.argmax(y_val_dummy, axis=1)\n",
        "y_test_true_labels = np.argmax(y_test_dummy, axis=1)\n",
        "\n",
        "# Evaluating the model (precision, recall, F1-score, MSE, misclassification and confusion matrix)\n",
        "\n",
        "# Presicison, recall and F1-Score\n",
        "def evaluate_performance(y_true, y_pred):\n",
        "    precision = precision_score(y_true, y_pred, average='weighted', zero_division=0)\n",
        "    recall = recall_score(y_true, y_pred, average='weighted', zero_division=0)\n",
        "    f1 = f1_score(y_true, y_pred, average='weighted', zero_division=0)\n",
        "    return precision, recall, f1\n",
        "\n",
        "precision_train, recall_train, f1_train = evaluate_performance(y_train_true_labels, y_train_pred_labels)\n",
        "precision_val, recall_val, f1_val = evaluate_performance(y_val_true_labels, y_val_pred_labels)\n",
        "precision_test, recall_test, f1_test = evaluate_performance(y_test_true_labels, y_test_pred_labels)\n",
        "\n",
        "print(\"Precision (train):\", precision_train)\n",
        "print(\"Recall (train):\", recall_train)\n",
        "print(\"F1-score (train):\", f1_train)\n",
        "\n",
        "print(\"Precision (val):\", precision_val)\n",
        "print(\"Recall (val):\", recall_val)\n",
        "print(\"F1-score (val):\", f1_val)\n",
        "\n",
        "print(\"Precision (test):\", precision_test)\n",
        "print(\"Recall (test):\", recall_test)\n",
        "print(\"F1-score (test):\", f1_test)\n",
        "\n",
        "# Mean Squared Error and misclassification rate\n",
        "def mean_squared_error(y_true, y_pred):\n",
        "    return np.mean((y_pred - y_true) ** 2)\n",
        "\n",
        "MSE_train = mean_squared_error(y_train_dummy, pred_train)\n",
        "MSE_val = mean_squared_error(y_val_dummy, pred_val)\n",
        "MSE_test = mean_squared_error(y_test_dummy, pred_test)\n",
        "\n",
        "print(\"MSE_train:\", MSE_train)\n",
        "print(\"MSE_val:\", MSE_val)\n",
        "print(\"MSE_test:\", MSE_test)\n",
        "\n",
        "MSE_train_2 = mean_squared_error(y_train_dummy, pred_train_2)\n",
        "MSE_val_2 = mean_squared_error(y_val_dummy, pred_val_2)\n",
        "MSE_test_2 = mean_squared_error(y_test_dummy, pred_test_2)\n",
        "\n",
        "print(\"MSE_train (binary):\", MSE_train_2)\n",
        "print(\"MSE_val (binary):\", MSE_val_2)\n",
        "print(\"MSE_test (binary):\", MSE_test_2)\n",
        "\n",
        "\n",
        "def misclassification_rate(y_true, y_pred):\n",
        "    #return np.mean(np.abs(y_pred - y_true) / 2)\n",
        "    return np.sum(y_pred != y_true) / y_true.shape[0]\n",
        "\n",
        "\n",
        "miss_train = misclassification_rate(y_train_dummy.argmax(axis=1), pred_train_2.argmax(axis=1))\n",
        "miss_val = misclassification_rate(y_val_dummy.argmax(axis=1), pred_val_2.argmax(axis=1))\n",
        "miss_test = misclassification_rate(y_test_dummy.argmax(axis=1), pred_test_2.argmax(axis=1))\n",
        "\n",
        "print(\"Misclassification_train:\", miss_train)\n",
        "print(\"Misclassification_val:\", miss_val)\n",
        "print(\"Misclassification_test:\", miss_test)\n",
        "\n",
        "# Plot confusion matrix\n",
        "conf_matrix = confusion_matrix(y_test_true_labels, y_test_pred_labels)\n",
        "sns.heatmap(conf_matrix, annot=True, fmt='d', cmap='Blues')\n",
        "plt.xlabel('Predicted')\n",
        "plt.ylabel('True')\n",
        "plt.title('Confusion Matrix')\n",
        "plt.show()"
      ]
    },
    {
      "cell_type": "markdown",
      "metadata": {
        "id": "rKi6S3UpgQBu"
      },
      "source": [
        "## Test set and conclusions"
      ]
    },
    {
      "cell_type": "markdown",
      "metadata": {
        "id": "05LGiRWHgRwX"
      },
      "source": [
        "Based on the performance on the validation set we choose the model XXXXXXXXXXX because ..."
      ]
    }
  ],
  "metadata": {
    "accelerator": "GPU",
    "colab": {
      "collapsed_sections": [
        "lSKwQeT7RLqF",
        "nL91yRYrg98H",
        "4hJOlCHaNvIf",
        "iT3OCrQEgvhw",
        "96HLYrKwNvIm",
        "9xOg9nviYz-s",
        "sdXcqjU6bf7L",
        "rKi6S3UpgQBu"
      ],
      "gpuType": "T4",
      "provenance": []
    },
    "kernelspec": {
      "display_name": "Python 3",
      "name": "python3"
    },
    "language_info": {
      "codemirror_mode": {
        "name": "ipython",
        "version": 3
      },
      "file_extension": ".py",
      "mimetype": "text/x-python",
      "name": "python",
      "nbconvert_exporter": "python",
      "pygments_lexer": "ipython3",
      "version": "3.7.12"
    }
  },
  "nbformat": 4,
  "nbformat_minor": 0
}
